{
 "cells": [
  {
   "cell_type": "markdown",
   "metadata": {},
   "source": [
    "### This code is used to access Brazilian Central Bank API and get the exchange rate of USD/EUR/CNY to BRL\n",
    "#### Reference: \n",
    "- Filho, L. H. B. (2022, April 11). Coletando dados do Banco Central com Python. Análise Macro. https://analisemacro.com.br/economia/indicadores/coletando-dados-do-banco-central-com-python/.\n",
    "Contribution: The basic approach to access Brazilian Central Bank API.\n",
    "\n",
    "#### Libraries\n",
    "- Freitas, W. (2023). Python-bcb (0.2.0) [Python]. https://pypi.org/project/python-bcb/ - Freitas, W. (2021). Documentação python-bcb. https://wilsonfreitas.github.io/python-bcb/\n",
    "- Package Pandas (2.2). (2024). [Python]. https://pandas.pydata.org/\n"
   ]
  },
  {
   "cell_type": "code",
   "execution_count": 1,
   "metadata": {},
   "outputs": [],
   "source": [
    "# Import libraries\n",
    "\n",
    "import pandas as pd\n",
    "from bcb import currency\n",
    "\n",
    "import useful_functions as uf"
   ]
  },
  {
   "cell_type": "code",
   "execution_count": 3,
   "metadata": {},
   "outputs": [],
   "source": [
    "# Define currencies and date range\n",
    "currencies = ['USD', 'EUR', 'CNY'] # Currency codes - USD: US Dollar, EUR: Euro, CNY: Chinese Yuan\n",
    "\n",
    "# Get the current date\n",
    "current_date = pd.to_datetime('today').date()\n",
    "\n",
    "# Find the last weekday\n",
    "last_weekday = current_date - pd.tseries.offsets.BDay()\n",
    "last_weekday_formatted = last_weekday.strftime('%Y-%m-%d')\n",
    "\n",
    "# Define the start date - yyyy/mm/dd\n",
    "start_date = '2001-01-01'\n"
   ]
  },
  {
   "cell_type": "code",
   "execution_count": null,
   "metadata": {},
   "outputs": [],
   "source": [
    "# Get the data\n",
    "df_currencies_raw = currency.get(currencies, start = start_date, end = last_weekday_formatted)\n",
    "\n",
    "# Create a copy of the DataFrame\n",
    "df_currencies = df_currencies_raw.copy()\n",
    "\n",
    "# Convert the dataset to monthly frequency getting the last valid value of each month\n",
    "df_currencies_monthly = uf.convert_df_to_monthly(df_currencies,'%Y-%m-%d')\n",
    "\n",
    "# Rename the columns\n",
    "df_currencies_monthly.columns = ['WD_CNY','WD_EUR','WD_USD']"
   ]
  },
  {
   "cell_type": "code",
   "execution_count": 9,
   "metadata": {},
   "outputs": [],
   "source": [
    "# Adjust the index name\n",
    "df_currencies_monthly.rename_axis('Date', inplace=True)\n",
    "\n",
    "# Save the DataFrame to a csv file\n",
    "df_currencies_monthly.to_csv('../data/df_currencies.csv', index=True)"
   ]
  }
 ],
 "metadata": {
  "kernelspec": {
   "display_name": "Python 3",
   "language": "python",
   "name": "python3"
  },
  "language_info": {
   "codemirror_mode": {
    "name": "ipython",
    "version": 3
   },
   "file_extension": ".py",
   "mimetype": "text/x-python",
   "name": "python",
   "nbconvert_exporter": "python",
   "pygments_lexer": "ipython3",
   "version": "3.12.2"
  }
 },
 "nbformat": 4,
 "nbformat_minor": 2
}
