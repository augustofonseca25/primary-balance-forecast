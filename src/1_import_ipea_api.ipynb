{
 "cells": [
  {
   "cell_type": "markdown",
   "metadata": {},
   "source": [
    "### This is the code to access IPEA data to get Brazilian revenue and Gross Fixed Capital Formation info\n",
    "\n",
    "#### Data sources:\n",
    "- Brazil. (2024a). Ipeadata [dataset]. http://www.ipeadata.gov.br/Default.aspx\n",
    "Note: To get monthly \"Indicador IPEA de formação bruta de capital fixo (FBCF): índice real encadeado (média1995 = 100)\" manually access http://www.ipeadata.gov.br/Default.aspx because the API is not providing the monthly data.\n",
    "\n",
    "\n",
    "#### Libraries:\n",
    "- Borelli, L. (2023). Package ipeadatapy (0.1.9) [Python]. https://pypi.org/project/ipeadatapy/#description - Borelli, L. (2024). Ipeadatapy’s documentation. https://www.luanborelli.net/ipeadatapy/docs/index.html\n",
    "\n",
    "#### Explanation of the data:\n",
    "\n",
    "Revenue from federal taxes - gross revenue\n",
    "Frequency: Monthly from 1993.01 to 2023.12\n",
    "Source: Ministry of Economy, Federal Revenue Secretariat (Min. Economy/SRF)\n",
    "Unit: R$ (millions)\n",
    "Comment: Sum of revenues managed by the Federal Revenue Service with revenues managed by other agencies. More information: https://www.gov.br/receitafederal/pt-br/acesso-a-informacao/dados-abertos/receitadata/arrecadacao/a>.\n",
    "\n",
    "\n",
    "IPEA Gross Fixed Capital Formation (GFCF) Index: Chained Real Index (average 1995 = 100)\n",
    "Frequency: Monthly from 1996.01 to 2023.12\n",
    "Source: Institute of Applied Economic Research\n",
    "Unit: -\n",
    "Comment: Gross Fixed Capital Formation (GFCF) of the economy consists of investments in machinery and equipment and in construction. Since investments in machinery and equipment are equivalent to Apparent Consumption (AC) of capital goods, a monthly indicator of GFCF was constructed by means of the weighted average of this AC indicator with a construction indicator. Base is the value, at a given moment (effective or resulting from the average taken within a time interval) that serves as a term of comparison when calculating a succession of index numbers. Here the base was fixed as the average of observations in the year 1995. Note: Updates may result in changes to previous data. More information: Indicators of Apparent Consumption of Industrial Goods: methodology and results and Rodrigues, Brazilian Statistical Dictionary, 2nd edition, IBGE Foundation, 1970."
   ]
  },
  {
   "cell_type": "code",
   "execution_count": 14,
   "metadata": {},
   "outputs": [],
   "source": [
    "# Import libraries\n",
    "import ipeadatapy\n",
    "import useful_functions as uf"
   ]
  },
  {
   "cell_type": "code",
   "execution_count": 15,
   "metadata": {},
   "outputs": [
    {
     "name": "stderr",
     "output_type": "stream",
     "text": [
      "<>:5: SyntaxWarning: invalid escape sequence '\\('\n",
      "<>:5: SyntaxWarning: invalid escape sequence '\\('\n",
      "C:\\Users\\augus\\AppData\\Local\\Temp\\ipykernel_1928\\1306487369.py:5: SyntaxWarning: invalid escape sequence '\\('\n",
      "  filtered_list_FBCF = series_list[series_list['NAME'].str.contains('formação bruta de capital fixo - índice real encadeado \\(média 1995 = 100\\)', case=False)]\n"
     ]
    }
   ],
   "source": [
    "# Get the list of series\n",
    "series_list = ipeadatapy.list_series()\n",
    "# Filter the list of series to find the desired ones\n",
    "filtered_list_revenue = series_list[series_list['NAME'].str.contains('Arrecadação das receitas federais - receita bruta', case=False)]\n",
    "filtered_list_FBCF = series_list[series_list['NAME'].str.contains('formação bruta de capital fixo - índice real encadeado \\(média 1995 = 100\\)', case=False)]\n",
    "\n",
    "# Find the code for the desired list\n",
    "desired_code_revenue = filtered_list_revenue['CODE'].values[0]\n",
    "desired_code_FBCF = filtered_list_FBCF['CODE'].values[0]\n",
    "\n",
    "# Initial date\n",
    "initial_year = '2001'"
   ]
  },
  {
   "cell_type": "code",
   "execution_count": 16,
   "metadata": {},
   "outputs": [],
   "source": [
    "# Get the data\n",
    "df_revenue_raw = ipeadatapy.timeseries(series = desired_code_revenue)\n",
    "df_FBCF_raw = ipeadatapy.timeseries(series = desired_code_FBCF)"
   ]
  },
  {
   "cell_type": "code",
   "execution_count": 17,
   "metadata": {},
   "outputs": [],
   "source": [
    "# Copy the dataframe\n",
    "df_revenue = df_revenue_raw.copy()\n",
    "df_FBCF = df_FBCF_raw.copy()\n",
    "\n",
    "# Filter the data to start from the initial year\n",
    "df_revenue = df_revenue[df_revenue.index >= initial_year]\n",
    "df_FBCF = df_FBCF[df_FBCF.index >= initial_year]\n",
    "# Format index to month and year\n",
    "df_revenue.index = df_revenue.index.strftime('%m-%Y')\n",
    "df_FBCF.index = df_FBCF.index.strftime('%m-%Y')\n",
    "\n",
    "# Filter only the desired column\n",
    "df_revenue = df_revenue[['VALUE (R$)']].astype(float)\n",
    "df_FBCF = df_FBCF[['VALUE (-)']].astype(float)\n",
    "\n",
    "# Rename the column\n",
    "df_revenue.rename(columns={'VALUE (R$)': 'ECO_revenue'}, inplace=True)\n",
    "df_FBCF.rename(columns={'VALUE (-)': 'ECO_FBCF'}, inplace=True)\n",
    "# rename index \n",
    "df_revenue.index.names = ['Date']\n",
    "df_FBCF.index.names = ['Date']\n"
   ]
  },
  {
   "cell_type": "code",
   "execution_count": 18,
   "metadata": {},
   "outputs": [],
   "source": [
    "# Convert the dataframe to monthly\n",
    "df_revenue = uf.convert_df_to_monthly(df_revenue, '%m-%Y')\n",
    "df_FBCF = uf.convert_df_to_monthly(df_FBCF, '%m-%Y')\n",
    "\n",
    "# Combine the dataframes\n",
    "#df_revenue_FBCF = pd.concat([df_revenue, df_FBCF], axis=1)\n",
    "\n",
    "'''\n",
    "Save the dataframe to a csv file - Since the FBGC series is not providing monthly data, we will colect it manually\n",
    "the reference for this data is http://www.ipeadata.gov.br/Default.aspx\n",
    "It's necessary to manually download the data and save it in the data folder\n",
    "\n",
    "\n",
    "#df_revenue_FBCF.to_csv('../data/df_revenue_FBCF.csv')\n",
    "'''\n",
    "#Save the dataframe to a csv file\n",
    "df_revenue.to_csv('../data/df_revenue_FBCF.csv')"
   ]
  }
 ],
 "metadata": {
  "kernelspec": {
   "display_name": "Python 3",
   "language": "python",
   "name": "python3"
  },
  "language_info": {
   "codemirror_mode": {
    "name": "ipython",
    "version": 3
   },
   "file_extension": ".py",
   "mimetype": "text/x-python",
   "name": "python",
   "nbconvert_exporter": "python",
   "pygments_lexer": "ipython3",
   "version": "3.12.2"
  }
 },
 "nbformat": 4,
 "nbformat_minor": 2
}
