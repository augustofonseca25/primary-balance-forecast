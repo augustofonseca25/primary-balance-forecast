{
 "cells": [
  {
   "cell_type": "markdown",
   "metadata": {},
   "source": [
    "### This is the code to access Brazilian Central Bank API to obtain macroeconomic data\n",
    "#### References: \n",
    "- Filho, L. H. B. (2022, April 11). Coletando dados do Banco Central com Python. Análise Macro. https://analisemacro.com.br/economia/indicadores/coletando-dados-do-banco-central-com-python/.\n",
    "Contribution: The basic approach to access Brazilian Central Bank API.\n",
    "\n",
    "\n",
    "#### Data sources\n",
    "- Brazil. (2024). SGS - Sistema Gerenciador de Séries Temporais. https://www3.bcb.gov.br/sgspub/localizarseries/localizarSeries.do?method=prepararTelaLocalizarSeries\n",
    "\n",
    "#### Libraries\n",
    "- Freitas, W. (2023). Python-bcb (0.2.0) [Python]. https://pypi.org/project/python-bcb/ - Freitas, W. (2021). Documentação python-bcb. Documentação python-bcb. https://wilsonfreitas.github.io/python-bcb/\n",
    "- Package Pandas (2.2). (2024). [Python]. https://pandas.pydata.org/"
   ]
  },
  {
   "cell_type": "code",
   "execution_count": 1,
   "metadata": {},
   "outputs": [],
   "source": [
    "# Import libraries\n",
    "\n",
    "import pandas as pd\n",
    "from bcb import sgs\n",
    "\n",
    "import useful_functions as uf"
   ]
  },
  {
   "cell_type": "code",
   "execution_count": 2,
   "metadata": {},
   "outputs": [],
   "source": [
    "# Define the start date\n",
    "start_date = '2000-01-31'\n",
    "\n",
    "# Set the series to be downloaded\n",
    "data_series = {'RP_month':4639, # Get the primary result series - In R$ millions. Includes data from Central Government in Brazil: Federal Government + INSS + BACEN\n",
    "               'IPCA_month_433': 433, # Monthly IPCA - Brazil's official inflation index\n",
    "               'IPCA_month_13522_anual': 13522, # 12-months IPCA - Brazil's official inflation index\n",
    "               'selic':432, # Selic (basic interest rate in Brazil) rate % per year\n",
    "               'dbgg_%_pre':4537, # Gross Debt (% of GDP) - General Government (Federal, State and Municipal). Pre stands for a method used until 2007\n",
    "               'dbgg_%_pos':13762, # Gross Debt (% of GDP) - General Government (Federal, State and Municipal). Pos stands for a method used since 2008\n",
    "               'dbgg_R$_pre':4502, # Gross Debt (R$ millions) - General Government (Federal, State and Municipal). Pre stands for a method used until 2007               \n",
    "               'dbgg_R$_pos':13761, # Gross Debt (R$ millions) - General Government (Federal, State and Municipal). Pos stands for a method used since 2008\n",
    "               'dlgg_%':4536, # Net Debt (% of GDP) - General Government (Federal, State and Municipal)\n",
    "               'dlgg_R$':4501,# Net Debt (R$ millions) - General Government (Federal, State and Municipal)\n",
    "               'dlfg_%':4503, # Net Debt (% of GDP) - Federal Government + Central Bank\n",
    "               'dlfg_R$':4468, # Net Debt (R$ millions) - Federal Government + Central Bank\n",
    "               'dlspc_R$':4513, # Net Debt (%) - Federal Government + Central Bank - Consolidated Public Sector\n",
    "               'bal_payments_US$_M':22707,# Balance on goods - Balance of Payments - monthly - net\n",
    "               'GDP_R$_12_months':4382,# \tGDP accumulated in the last 12 months - current prices (R$ million)\n",
    "               'IR_US$':3546,# \tInternational reserves (US$ million) - Monthly\n",
    "               } \n",
    "# Download the data\n",
    "df_raw = sgs.get(data_series, start = start_date)\n",
    "\n",
    "# Adjust the index to be a datetime object\n",
    "df_raw.index = pd.to_datetime(df_raw.index)"
   ]
  },
  {
   "cell_type": "code",
   "execution_count": 3,
   "metadata": {},
   "outputs": [],
   "source": [
    "# Create a copy of the raw data filtering only the last available day of each month\n",
    "df_macro = df_raw.resample('ME').last().copy()\n",
    "\n",
    "# Rename the columns\n",
    "df_macro = df_macro.rename(columns={\n",
    "    'RP_month': 'ECO_fiscal_result_month',\n",
    "    'IPCA_month_433': 'ECO_inflation_month',\n",
    "    'IPCA_month_13522_anual': 'ECO_inflation_12months',\n",
    "    'selic': 'ECO_interest_rate',\n",
    "    'dbgg_%_pre': 'ECO_gross_debt_gdp_pre',\n",
    "    'dbgg_%_pos': 'ECO_gross_debt_gdp_pos',\n",
    "    'dbgg_R$_pre': 'ECO_gross_debt_R$_pre',\n",
    "    'dbgg_R$_pos': 'ECO_gross_debt_R$_pos',\n",
    "    'dlgg_%': 'ECO_net_debt_gdp_%',\n",
    "    'dlgg_R$': 'ECO_net_debt_R$',\n",
    "    'dlfg_%': 'ECO_net_debt_gdp_%_federal_govt',\n",
    "    'dlfg_R$': 'ECO_net_debt_R$_federal_govt',\n",
    "    'dlspc_R$': 'ECO_net_debt_R$_dlspc',\n",
    "    'bal_payments_US$_M': 'ECO_balance_payments_US$_M',\n",
    "    'GDP_R$_12_months': 'ECO_GDP_R$_12_months',\n",
    "    'IR_US$': 'ECO_inter_reserves_US$'\n",
    "})\n",
    "\n",
    "# Invert values from RP so that negative means deficit and positive means surplus\n",
    "df_macro['ECO_fiscal_result_month'] = df_macro['ECO_fiscal_result_month'] * -1\n",
    "\n",
    "# Compute the sum of last 12 months for each row\n",
    "df_macro['ECO_fiscal_result_12months'] = df_macro['ECO_fiscal_result_month'].rolling(window=12).sum()\n",
    "\n",
    "# Desired column order\n",
    "column_order = ['ECO_fiscal_result_month', 'ECO_fiscal_result_12months', \n",
    "                'ECO_inflation_month', 'ECO_inflation_12months', \n",
    "                'ECO_interest_rate', \n",
    "                'ECO_gross_debt_gdp_pre', 'ECO_gross_debt_gdp_pos', 'ECO_gross_debt_R$_pre', 'ECO_gross_debt_R$_pos', \n",
    "                'ECO_net_debt_gdp_%', 'ECO_net_debt_R$', 'ECO_net_debt_gdp_%_federal_govt', 'ECO_net_debt_R$_federal_govt', 'ECO_net_debt_R$_dlspc',\n",
    "                'ECO_balance_payments_US$_M', 'ECO_GDP_R$_12_months','ECO_inter_reserves_US$']\n",
    "\n",
    "# Reindex the DataFrame with the desired column order\n",
    "df_macro = df_macro.reindex(columns=column_order)\n"
   ]
  },
  {
   "cell_type": "code",
   "execution_count": 5,
   "metadata": {},
   "outputs": [],
   "source": [
    "# Convert the dataset to monthly frequency getting the last valid value of each month\n",
    "df_macro_monthly = uf.convert_df_to_monthly(df_macro,'%Y-%m-%d')\n",
    "# Export the dataset\n",
    "df_macro_monthly.to_csv('../data/df_macroeco.csv', index=True)\n"
   ]
  }
 ],
 "metadata": {
  "kernelspec": {
   "display_name": "Python 3",
   "language": "python",
   "name": "python3"
  },
  "language_info": {
   "codemirror_mode": {
    "name": "ipython",
    "version": 3
   },
   "file_extension": ".py",
   "mimetype": "text/x-python",
   "name": "python",
   "nbconvert_exporter": "python",
   "pygments_lexer": "ipython3",
   "version": "3.12.2"
  }
 },
 "nbformat": 4,
 "nbformat_minor": 2
}
