{
 "cells": [
  {
   "cell_type": "markdown",
   "metadata": {},
   "source": [
    "### This is the code to merge all datasets to create a unique dataset with all  information. \n",
    "#### References: \n",
    "\n",
    "\n",
    "\n",
    "#### Source of data\n",
    "- Previous import scripts\n",
    "- Brazilian Ibovespa Index (B3) - Historical data (mannually collected from Yahoo Finance) - YAHOO Finance. (2024). Dataset IBOVESPA - Stock Historical Prices & Data [dataset]. https://finance.yahoo.com/quote/%5EBVSP/history/\n",
    "\n",
    "#### Packages\n",
    "- Package Pandas (2.2). (2024). [Python]. https://pandas.pydata.org/"
   ]
  },
  {
   "cell_type": "code",
   "execution_count": 1,
   "metadata": {},
   "outputs": [],
   "source": [
    "# Importing the packages\n",
    "import pandas as pd\n"
   ]
  },
  {
   "cell_type": "code",
   "execution_count": 6,
   "metadata": {},
   "outputs": [],
   "source": [
    "# Let's import the data using the exported csv files\n",
    "\n",
    "# Define the file paths\n",
    "file_path_macro = '../data/df_macroeco.csv'\n",
    "file_path_gdp = '../data/df_gdp_rate.csv'\n",
    "file_path_inflation = '../data/df_inflation.csv'\n",
    "file_path_interest = '../data/df_interest_rate.csv'\n",
    "file_path_commodities = '../data/df_commodities.csv'\n",
    "file_path_budget = '../data/df_budget.csv'\n",
    "file_path_focus = '../data/df_FOCUS.csv'\n",
    "file_path_currencies = '../data/df_currencies.csv'\n",
    "file_path_revenue = '../data/df_revenue_FBCF.csv'\n",
    "file_path_ibov = '../data/IBOV_historical.csv'\n",
    "\n",
    "# Import the data\n",
    "df_macro_monthly = pd.read_csv(file_path_macro, parse_dates=['Date'], index_col='Date') # DF with brazilian macro data\n",
    "df_gdp_monthly = pd.read_csv(file_path_gdp, parse_dates=['Date'], index_col='Date') # DF with GDP data from other countries\n",
    "df_inflation_rotated_monthly = pd.read_csv(file_path_inflation, parse_dates=['Date'], index_col='Date') # DF with inflation data from other countries\n",
    "df_interest_rotated_monthly = pd.read_csv(file_path_interest, parse_dates=['Date'], index_col='Date') # DF with interest rate data from other countries\n",
    "df_commodities = pd.read_csv(file_path_commodities, parse_dates=['Date'], index_col='Date') # DF with commodities historical prices\n",
    "df_budget = pd.read_csv(file_path_budget, parse_dates=['Date'], index_col='Date') # DF with brazilian budget data\n",
    "df_focus_indicators_monthly = pd.read_csv(file_path_focus, parse_dates=['Date'], index_col='Date')# DF with market expectations indicators from Brazilian Central Bank\n",
    "df_currencies_monthly = pd.read_csv(file_path_currencies, parse_dates=['Date'], index_col='Date')# DF with currencies historical prices - USD, EUR and CHN\n",
    "df_revenue =  pd.read_csv(file_path_revenue, parse_dates=['Date'], index_col='Date')\n",
    "df_ibov =  pd.read_csv(file_path_ibov, parse_dates=['Date'], index_col='Date')"
   ]
  },
  {
   "cell_type": "code",
   "execution_count": null,
   "metadata": {},
   "outputs": [],
   "source": [
    "# Use this to import the data from py scripts\n",
    "\n",
    "# from import_budget_data import df_budget\n",
    "# from import_oecd_api import df_gdp_monthly, df_inflation_rotated_monthly, df_interest_rotated_monthly\n",
    "# from import_bcb_api import df_macro_monthly\n",
    "# from import_bcb_currencies import df_currencies_monthly\n",
    "# from import_bcb_focus import df_focus_indicators_monthly\n",
    "# from import_imf_api import df_commodities\n",
    "# from import_ipea_api import df_revenue"
   ]
  },
  {
   "cell_type": "code",
   "execution_count": 7,
   "metadata": {},
   "outputs": [],
   "source": [
    "# List of dataframes\n",
    "dataframes = [df_macro_monthly, # DF with brazilian macro data\n",
    "              df_gdp_monthly, # DF with GDP data from other countries\n",
    "              df_inflation_rotated_monthly, # DF with inflation data from other countries\n",
    "              df_interest_rotated_monthly, # DF with interest rate data from other countries\n",
    "              df_commodities, # DF with commodities historical prices\n",
    "              df_budget, # DF with brazilian budget data\n",
    "              df_focus_indicators_monthly, # DF with market expectations indicators from Brazilian Central Bank\n",
    "              df_currencies_monthly,# DF with currencies historical prices - USD, EUR and CHN\n",
    "              df_revenue,# DF with brazilian total revenue for federal government \n",
    "              df_ibov] # DF with IBOV historical prices"
   ]
  },
  {
   "cell_type": "code",
   "execution_count": 8,
   "metadata": {},
   "outputs": [],
   "source": [
    "# Create a new merged DF with all dataframes\n",
    "merged_df = df_macro_monthly # the merged df begins with the dataframe which contains the target variable\n",
    "\n",
    "#loop to merge dataframes\n",
    "for df in dataframes:\n",
    "    df.rename_axis('Date', inplace=True) #rename index\n",
    "    if df is not df_macro_monthly:\n",
    "        merged_df = pd.merge(merged_df, df, on='Date', how='left') #merge dataframes"
   ]
  },
  {
   "cell_type": "code",
   "execution_count": 9,
   "metadata": {},
   "outputs": [],
   "source": [
    "# Convert all columns to float\n",
    "cleaned_df = merged_df.astype(float).copy()\n",
    "\n",
    "# Fill NaN values interpollating the values of the column\n",
    "cleaned_df.interpolate(limit_area='inside', inplace = True)\n",
    "\n",
    "# Fill NaN values in the beggining of each time series with the next value of the column\n",
    "cleaned_df.bfill(limit=None, inplace = True)\n",
    "\n",
    "# Drop rows which index is bigger than 2024-01-01. \n",
    "cleaned_df = cleaned_df[cleaned_df.index < '2024-01-01']\n",
    "\n",
    "# Fill NaN values in the beggining of each time series with the next value of the column\n",
    "cleaned_df.ffill(limit=None, inplace = True)\n",
    "\n"
   ]
  },
  {
   "cell_type": "code",
   "execution_count": 7,
   "metadata": {},
   "outputs": [],
   "source": [
    "# Export merged df to csv\n",
    "cleaned_df.to_csv('../data/cleaned_df.csv')"
   ]
  }
 ],
 "metadata": {
  "kernelspec": {
   "display_name": "Python 3",
   "language": "python",
   "name": "python3"
  },
  "language_info": {
   "codemirror_mode": {
    "name": "ipython",
    "version": 3
   },
   "file_extension": ".py",
   "mimetype": "text/x-python",
   "name": "python",
   "nbconvert_exporter": "python",
   "pygments_lexer": "ipython3",
   "version": "3.12.2"
  }
 },
 "nbformat": 4,
 "nbformat_minor": 2
}
