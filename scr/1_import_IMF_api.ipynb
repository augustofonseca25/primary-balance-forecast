{
  "cells": [
    {
      "cell_type": "markdown",
      "metadata": {
        "id": "c1JiiOJCr0p2"
      },
      "source": [
        "### This code imports commodity prices from the IMF database.\n",
        "\n",
        "\n",
        "#### Packages\n",
        "- Smith, C. C. (2023). Package IMFP (1.1) [Python]. https://github.com/chriscarrollsmith/imfp\n",
        "- Package Pandas (2.2). (2024). [Python]. https://pandas.pydata.org/\n"
      ]
    },
    {
      "cell_type": "code",
      "execution_count": 1,
      "metadata": {
        "id": "4M6fqN6Jr0p6"
      },
      "outputs": [],
      "source": [
        "#import pandas as pd\n",
        "import imfp\n",
        "import useful_functions as uf"
      ]
    },
    {
      "cell_type": "code",
      "execution_count": 2,
      "metadata": {
        "colab": {
          "base_uri": "https://localhost:8080/",
          "height": 112
        },
        "id": "hGNKpOJur0p7",
        "outputId": "e4c6548d-1d4e-4c17-b31f-c50f871ce1d2"
      },
      "outputs": [],
      "source": [
        "# Check the available databases\n",
        "databases = imfp.imf_databases()\n",
        "\n",
        "# Fetch list of valid parameters and input codes for commodity price database\n",
        "params = imfp.imf_parameters(\"PCPS\")"
      ]
    },
    {
      "cell_type": "code",
      "execution_count": null,
      "metadata": {
        "id": "4blwoeAbr0p9"
      },
      "outputs": [],
      "source": [
        "# Fetch the 'freq' input code for Monthly frequency\n",
        "selected_freq = list(\n",
        "    params['freq']['input_code'][params['freq']['description'].str.contains(\"Monthly\")]\n",
        ")\n",
        "\n",
        "# List of substrings to check for\n",
        "commodities_codes = [\"PCOFFOTM\", #Coffee, Other Mild Arabica\n",
        "                   \"PIORECR\", #Iron Ore\n",
        "                   \"PMEAT\", #PMEAT index\n",
        "                   \"POILBRE\", #Brent Crude Oil\n",
        "                   \"PORANG\", #Orange\n",
        "                   \"PSOYB\", #Soybeans\n",
        "                   \"PSUGA\" #Sugar index\n",
        "                   ]\n",
        "\n",
        "# Fetch the 'commodity' input code for coal\n",
        "selected_commodity = list(\n",
        "    params['commodity']['input_code'][params['commodity']['input_code'].isin(commodities_codes)]\n",
        ")\n",
        "\n",
        "# Fetch the 'unit_measure' input code for index\n",
        "selected_unit_measure = list(\n",
        "    params['unit_measure']['input_code'][params['unit_measure']['description'].str.contains(\"Index\")]\n",
        ")\n",
        "\n",
        "# Request data from the API\n",
        "df_commo = imfp.imf_dataset(database_id = \"PCPS\",\n",
        "         freq = selected_freq, commodity = selected_commodity,\n",
        "         unit_measure = selected_unit_measure,\n",
        "         start_year = 2001, end_year = uf.define_end_period(\"%Y\")) # Fetch data from 2001 to the month before the current one\n",
        "\n",
        "# Filter the columns\n",
        "df_commo = df_commo[['time_period', 'commodity', 'obs_value']]\n",
        "df_commo = df_commo.rename(columns={'time_period': 'Date', 'obs_value': 'value'}) # Rename columns\n",
        "# Replace the input codes with the actual names of the commodities\n",
        "df_commo['commodity'] = df_commo['commodity'].replace({\n",
        "    'PCOFFOTM': 'WD_Coffee',\n",
        "    'PIORECR': 'WD_Iron Ore',\n",
        "    'PMEAT': 'WD_Meat index',\n",
        "    'POILBRE': 'WD_Brent Crude Oil',\n",
        "    'PORANG': 'WD_Orange',\n",
        "    'PSOYB': 'WD_Soybeans',\n",
        "    'PSUGA': 'WD_Sugar'\n",
        "})"
      ]
    },
    {
      "cell_type": "code",
      "execution_count": null,
      "metadata": {
        "id": "gj6TBWjYr0p-"
      },
      "outputs": [],
      "source": [
        "# Pivot the data frame\n",
        "df_commodities = df_commo.pivot(index='Date', columns='commodity', values='value')\n",
        "\n",
        "# Save the data frame to a CSV file\n",
        "df_commodities.to_csv('../data/df_commodities.csv')"
      ]
    }
  ],
  "metadata": {
    "colab": {
      "provenance": []
    },
    "kernelspec": {
      "display_name": "Python 3",
      "language": "python",
      "name": "python3"
    },
    "language_info": {
      "codemirror_mode": {
        "name": "ipython",
        "version": 3
      },
      "file_extension": ".py",
      "mimetype": "text/x-python",
      "name": "python",
      "nbconvert_exporter": "python",
      "pygments_lexer": "ipython3",
      "version": "3.12.2"
    }
  },
  "nbformat": 4,
  "nbformat_minor": 0
}
