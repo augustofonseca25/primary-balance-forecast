{
 "cells": [
  {
   "cell_type": "markdown",
   "metadata": {},
   "source": [
    "# Import all datasets"
   ]
  },
  {
   "cell_type": "code",
   "execution_count": 1,
   "metadata": {},
   "outputs": [],
   "source": [
    "import pandas as pd\n",
    "import numpy as np"
   ]
  },
  {
   "cell_type": "code",
   "execution_count": 4,
   "metadata": {},
   "outputs": [
    {
     "name": "stderr",
     "output_type": "stream",
     "text": [
      "c:\\Users\\augus\\Meu Drive\\Data_Projects\\MDS\\master_thesis\\fiscal-balance-forecast\\scr\\import_budget_data.py:42: FutureWarning: The default value of regex will change from True to False in a future version. In addition, single character regular expressions will *not* be treated as literal strings when regex=True.\n",
      "  df_budget_raw[value] = df_budget_raw[value].str.replace('.', '').str.replace(',', '.').astype(float)\n",
      "c:\\Users\\augus\\Meu Drive\\Data_Projects\\MDS\\master_thesis\\fiscal-balance-forecast\\scr\\import_budget_data.py:70: FutureWarning: The default value of numeric_only in DataFrameGroupBy.sum is deprecated. In a future version, numeric_only will default to False. Either specify numeric_only or select only columns which should be valid for the function.\n",
      "  df_step= df_function.groupby(['year', 'code']).sum().reset_index()\n",
      "c:\\Users\\augus\\Meu Drive\\Data_Projects\\MDS\\master_thesis\\fiscal-balance-forecast\\scr\\import_budget_data.py:88: FutureWarning: The default value of numeric_only in DataFrameGroupBy.sum is deprecated. In a future version, numeric_only will default to False. Either specify numeric_only or select only columns which should be valid for the function.\n",
      "  df_step= df_group.groupby(['year', 'code']).sum().reset_index()\n",
      "c:\\Users\\augus\\Meu Drive\\Data_Projects\\MDS\\master_thesis\\fiscal-balance-forecast\\scr\\import_budget_data.py:119: FutureWarning: The default value of numeric_only in DataFrameGroupBy.sum is deprecated. In a future version, numeric_only will default to False. Either specify numeric_only or select only columns which should be valid for the function.\n",
      "  df_step= df_type.groupby(['year', 'code']).sum().reset_index()\n",
      "c:\\Users\\augus\\Meu Drive\\Data_Projects\\MDS\\master_thesis\\fiscal-balance-forecast\\scr\\import_budget_data.py:158: PerformanceWarning: Non-vectorized DateOffset being applied to Series or DatetimeIndex.\n",
      "  df_budget.index = pd.to_datetime(df_budget.index) + pd.DateOffset(month=12)\n"
     ]
    },
    {
     "name": "stdout",
     "output_type": "stream",
     "text": [
      "\n",
      "EntitySet (Endpoint): ExpectativasMercadoAnuais\n",
      "EntityType: br.gov.bcb.olinda.servico.Expectativas.ExpectativaMercadoAnual\n",
      "Properties: Indicador<str>, IndicadorDetalhe<str>, Data<str>, DataReferencia<str>, Media<float>, Mediana<float>, DesvioPadrao<float>, Minimo<float>, Maximo<float>, numeroRespondentes<int>, baseCalculo<int>\n"
     ]
    }
   ],
   "source": [
    "from import_budget_data import df_budget\n",
    "from import_wb_api import df_gdp_monthly, df_inflation_rotated_monthly, df_interest_rotated_monthly\n",
    "from import_bcb_api import df_macro_monthly\n",
    "from import_bcb_currencies import df_currencies_monthly\n",
    "from import_bcb_focus import df_focus_indicators_monthly\n",
    "from import_imf_api import df_commodities\n",
    "from import_ipea_api import df_revenue"
   ]
  },
  {
   "cell_type": "code",
   "execution_count": 6,
   "metadata": {},
   "outputs": [],
   "source": [
    "dataframes = [df_macro_monthly, # DF with brazilian macro data\n",
    "              df_gdp_monthly, # DF with GDP data from other countries\n",
    "              df_inflation_rotated_monthly, # DF with inflation data from other countries\n",
    "              df_interest_rotated_monthly, # DF with interest rate data from other countries\n",
    "              df_commodities, # DF with commodities historical prices\n",
    "              df_budget, # DF with brazilian budget data\n",
    "              df_focus_indicators_monthly, # DF with market expectations indicators from Brazilian Central Bank\n",
    "              df_currencies_monthly,# DF with currencies historical prices - USD, EUR and CHN\n",
    "              df_revenue] # DF with brazilian total revenue for federal government \n",
    "\n",
    "# Create a new DF with all dataframes merged\n",
    "merged_df = df_macro_monthly # the merged df will start with the dataframe which contans the target variable\n",
    "\n",
    "#loop to merge dataframes\n",
    "for i,df in enumerate(dataframes):\n",
    "    df.rename_axis('date', inplace=True) #rename index\n",
    "    if df is not df_macro_monthly:\n",
    "        merged_df = pd.merge(merged_df, df, on='date', how='left') #merge dataframes\n"
   ]
  },
  {
   "cell_type": "code",
   "execution_count": 7,
   "metadata": {},
   "outputs": [],
   "source": [
    "'''\n",
    "Some data preparation\n",
    "'''\n",
    "\n",
    "# Coverting all columns to float\n",
    "cleanned_df = merged_df.replace('', np.nan).copy() #replace empty cells with NaN\n",
    "cleanned_df = cleanned_df.astype(float)\n",
    "\n",
    "# Fill NaN values with the next value of the column\n",
    "#merged_df['eco_interest_rate'].fillna(method='bfill')\n",
    "\n",
    "# Fill NaN values with the value before of the column\n",
    "#merged_df['eco_interest_rate'].fillna(method='ffill')\n",
    "\n",
    "# Fill NaN values interpollating the values of the column\n",
    "cleanned_df.interpolate(limit_area='inside', inplace = True)\n",
    "\n",
    "# Fill NaN values in the beggining of each time series with the next value of the column\n",
    "cleanned_df.bfill(limit=None, inplace = True)\n",
    "\n",
    "\n"
   ]
  },
  {
   "cell_type": "code",
   "execution_count": 8,
   "metadata": {},
   "outputs": [],
   "source": [
    "# Drop some columns, due to lack of data\n",
    "cleanned_df.drop(columns=['exp_gross_public_debt_y+1', 'exp_gross_public_debt_y', 'exp_gross_public_debt_y+2', 'ARG_inflation', 'eco_gross_debt_gdp_pos', 'eco_gross_debt_R$_pos'], inplace=True)\n"
   ]
  },
  {
   "cell_type": "code",
   "execution_count": 9,
   "metadata": {},
   "outputs": [
    {
     "name": "stdout",
     "output_type": "stream",
     "text": [
      "US_GDP                             6\n",
      "UK_GDP                             6\n",
      "eco_fiscal_result_month            3\n",
      "eco_net_debt_gdp_%_federal_govt    3\n",
      "eco_fiscal_result_12months         3\n",
      "                                  ..\n",
      "exp_GDP (%)_y+1                    1\n",
      "eco_interest_rate                  0\n",
      "CNY                                0\n",
      "EUR                                0\n",
      "USD                                0\n",
      "Length: 79, dtype: int64\n"
     ]
    }
   ],
   "source": [
    "\n",
    "# Check for NaN values\n",
    "#checks_df = merged_df.info()\n",
    "nan_counts = cleanned_df.isna().sum()\n",
    "print(nan_counts.sort_values(ascending=False)) #print NaN counts for each column\n",
    "\n",
    "nan_counts.sort_values(ascending=False).to_csv('nan_counts.txt', header=False)\n",
    "\n",
    "\n",
    "\n"
   ]
  },
  {
   "cell_type": "code",
   "execution_count": 10,
   "metadata": {},
   "outputs": [
    {
     "name": "stdout",
     "output_type": "stream",
     "text": [
      "278\n",
      "79\n"
     ]
    }
   ],
   "source": [
    "# Export merged df to csv\n",
    "print(len(cleanned_df))\n",
    "print(len(cleanned_df.columns))\n",
    "cleanned_df.to_csv('../data/cleanned_df.csv')"
   ]
  }
 ],
 "metadata": {
  "kernelspec": {
   "display_name": "Python 3",
   "language": "python",
   "name": "python3"
  },
  "language_info": {
   "codemirror_mode": {
    "name": "ipython",
    "version": 3
   },
   "file_extension": ".py",
   "mimetype": "text/x-python",
   "name": "python",
   "nbconvert_exporter": "python",
   "pygments_lexer": "ipython3",
   "version": "3.9.0"
  }
 },
 "nbformat": 4,
 "nbformat_minor": 2
}
