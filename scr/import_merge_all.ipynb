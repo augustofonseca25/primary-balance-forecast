{
 "cells": [
  {
   "cell_type": "markdown",
   "metadata": {},
   "source": [
    "This code import all datasets to create a single dataset with all the information. The code is very simple and the only thing that it does is to import all the datasets and then merge them into a single dataset."
   ]
  },
  {
   "cell_type": "code",
   "execution_count": 4,
   "metadata": {},
   "outputs": [],
   "source": [
    "# Importing the libraries\n",
    "import pandas as pd\n",
    "import numpy as np"
   ]
  },
  {
   "cell_type": "code",
   "execution_count": 40,
   "metadata": {},
   "outputs": [],
   "source": [
    "# Let's import the data\n",
    "\n",
    "file_path_macro = '../data/df_macroeco.csv'\n",
    "file_path_gdp = '../data/df_gdp_rate.csv'\n",
    "file_path_inflation = '../data/df_inflation.csv'\n",
    "file_path_interest = '../data/df_interest_rate.csv'\n",
    "file_path_commodities = '../data/df_commodities.csv'\n",
    "file_path_budget = '../data/df_budget.csv'\n",
    "file_path_focus = '../data/df_FOCUS.csv'\n",
    "file_path_currencies = '../data/df_currencies.csv'\n",
    "file_path_revenue = '../data/df_revenue_FBCF.csv'\n",
    "file_path_ibov = '../data/IBOV_historical.csv'\n",
    "\n",
    "df_macro_monthly = pd.read_csv(file_path_macro, parse_dates=['Date'], index_col='Date') # DF with brazilian macro data\n",
    "df_gdp_monthly = pd.read_csv(file_path_gdp, parse_dates=['Date'], index_col='Date') # DF with GDP data from other countries\n",
    "df_inflation_rotated_monthly = pd.read_csv(file_path_inflation, parse_dates=['Date'], index_col='Date') # DF with inflation data from other countries\n",
    "df_interest_rotated_monthly = pd.read_csv(file_path_interest, parse_dates=['Date'], index_col='Date') # DF with interest rate data from other countries\n",
    "df_commodities = pd.read_csv(file_path_commodities, parse_dates=['Date'], index_col='Date') # DF with commodities historical prices\n",
    "df_budget = pd.read_csv(file_path_budget, parse_dates=['Date'], index_col='Date') # DF with brazilian budget data\n",
    "df_focus_indicators_monthly = pd.read_csv(file_path_focus, parse_dates=['Date'], index_col='Date')# DF with market expectations indicators from Brazilian Central Bank\n",
    "df_currencies_monthly = pd.read_csv(file_path_currencies, parse_dates=['Date'], index_col='Date')# DF with currencies historical prices - USD, EUR and CHN\n",
    "df_revenue =  pd.read_csv(file_path_revenue, parse_dates=['Date'], index_col='Date')\n",
    "df_ibov =  pd.read_csv(file_path_ibov, parse_dates=['Date'], index_col='Date')"
   ]
  },
  {
   "cell_type": "code",
   "execution_count": null,
   "metadata": {},
   "outputs": [],
   "source": [
    "# Use this to import the data from py scripts\n",
    "\n",
    "# from import_budget_data import df_budget\n",
    "# from import_oecd_api import df_gdp_monthly, df_inflation_rotated_monthly, df_interest_rotated_monthly\n",
    "# from import_bcb_api import df_macro_monthly\n",
    "# from import_bcb_currencies import df_currencies_monthly\n",
    "# from import_bcb_focus import df_focus_indicators_monthly\n",
    "# from import_imf_api import df_commodities\n",
    "# from import_ipea_api import df_revenue"
   ]
  },
  {
   "cell_type": "code",
   "execution_count": 41,
   "metadata": {},
   "outputs": [],
   "source": [
    "dataframes = [df_macro_monthly, # DF with brazilian macro data\n",
    "              df_gdp_monthly, # DF with GDP data from other countries\n",
    "              df_inflation_rotated_monthly, # DF with inflation data from other countries\n",
    "              df_interest_rotated_monthly, # DF with interest rate data from other countries\n",
    "              df_commodities, # DF with commodities historical prices\n",
    "              df_budget, # DF with brazilian budget data\n",
    "              df_focus_indicators_monthly, # DF with market expectations indicators from Brazilian Central Bank\n",
    "              df_currencies_monthly,# DF with currencies historical prices - USD, EUR and CHN\n",
    "              df_revenue,# DF with brazilian total revenue for federal government \n",
    "              df_ibov] # DF with IBOV historical prices"
   ]
  },
  {
   "cell_type": "code",
   "execution_count": 42,
   "metadata": {},
   "outputs": [],
   "source": [
    "# Create a new DF with all dataframes merged\n",
    "merged_df = df_macro_monthly # the merged df will start with the dataframe which contans the target variable\n",
    "\n",
    "#loop to merge dataframes\n",
    "for df in dataframes:\n",
    "    df.rename_axis('Date', inplace=True) #rename index\n",
    "    if df is not df_macro_monthly:\n",
    "        merged_df = pd.merge(merged_df, df, on='Date', how='left') #merge dataframes"
   ]
  },
  {
   "cell_type": "code",
   "execution_count": 53,
   "metadata": {},
   "outputs": [],
   "source": [
    "# Coverting all columns to float\n",
    "#cleanned_df = merged_df.replace('', np.nan).copy() #replace empty cells with NaN\n",
    "#cleanned_df = merged_df.astype(float)\n",
    "\n",
    "cleanned_df = merged_df.astype(float).copy()\n",
    "\n",
    "# Fill NaN values interpollating the values of the column\n",
    "cleanned_df.interpolate(limit_area='inside', inplace = True)\n",
    "\n",
    "# Fill NaN values in the beggining of each time series with the next value of the column\n",
    "cleanned_df.bfill(limit=None, inplace = True)\n",
    "\n",
    "# Drop rows which index is bigger than 2024-01-01. \n",
    "cleanned_df = cleanned_df[cleanned_df.index < '2024-01-01']\n",
    "\n",
    "# Fill NaN values in the beggining of each time series with the next value of the column\n",
    "cleanned_df.ffill(limit=None, inplace = True)\n",
    "\n"
   ]
  },
  {
   "cell_type": "code",
   "execution_count": 55,
   "metadata": {},
   "outputs": [
    {
     "name": "stdout",
     "output_type": "stream",
     "text": [
      "ECO_fiscal_result_month          0\n",
      "BUDGET_fun_12_spent_value        0\n",
      "EXPEC_basic_interest_rate_y+2    0\n",
      "EXPEC_basic_interest_rate_y+1    0\n",
      "EXPEC_basic_interest_rate_y      0\n",
      "                                ..\n",
      "WD_US_inflation                  0\n",
      "WD_UK_inflation                  0\n",
      "WD_EUZ_inflation                 0\n",
      "WD_CHN_inflation                 0\n",
      "IBOV                             0\n",
      "Length: 81, dtype: int64\n"
     ]
    }
   ],
   "source": [
    "# Drop some columns, due to lack of data\n",
    "#cleanned_df.drop(columns=['exp_gross_public_debt_y+1', 'exp_gross_public_debt_y', 'exp_gross_public_debt_y+2', 'ARG_inflation', 'eco_gross_debt_gdp_pos', 'eco_gross_debt_R$_pos'], inplace=True)\n",
    "\n",
    "\n",
    "# Check for NaN values\n",
    "#checks_df = merged_df.info()\n",
    "nan_counts = cleanned_df.isna().sum()\n",
    "print(nan_counts.sort_values(ascending=False)) #print NaN counts for each column\n",
    "\n",
    "nan_counts.sort_values(ascending=False).to_csv('nan_counts.txt', header=False)"
   ]
  },
  {
   "cell_type": "code",
   "execution_count": 56,
   "metadata": {},
   "outputs": [],
   "source": [
    "# Export merged df to csv\n",
    "cleanned_df.to_csv('../data/cleanned_df.csv')"
   ]
  }
 ],
 "metadata": {
  "kernelspec": {
   "display_name": "Python 3",
   "language": "python",
   "name": "python3"
  },
  "language_info": {
   "codemirror_mode": {
    "name": "ipython",
    "version": 3
   },
   "file_extension": ".py",
   "mimetype": "text/x-python",
   "name": "python",
   "nbconvert_exporter": "python",
   "pygments_lexer": "ipython3",
   "version": "3.9.0"
  }
 },
 "nbformat": 4,
 "nbformat_minor": 2
}
