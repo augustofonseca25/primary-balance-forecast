{
 "cells": [
  {
   "cell_type": "markdown",
   "metadata": {},
   "source": [
    "### This is the code to access Brazilian Central Bank API to obtain macroeconomic data\n",
    "#### References: \n",
    "- Filho, L. H. B. (2022, April 11). Coletando dados do Banco Central com Python. Análise Macro. https://analisemacro.com.br/economia/indicadores/coletando-dados-do-banco-central-com-python/\n",
    "- Freitas, W. (2021). Documentação python-bcb. Documentação python-bcb. https://wilsonfreitas.github.io/python-bcb/\n",
    "\n",
    "\n",
    "#### Source of data\n",
    "- Brazil. (2024). SGS - Sistema Gerenciador de Séries Temporais. https://www3.bcb.gov.br/sgspub/localizarseries/localizarSeries.do?method=prepararTelaLocalizarSeries\n",
    "\n",
    "#### Packages\n",
    "- Freitas, W. (2023). Python-bcb (0.2.0) [Python]. https://pypi.org/project/python-bcb/\n",
    "- Package Pandas (2.2). (2024). [Python]. https://pandas.pydata.org/"
   ]
  },
  {
   "cell_type": "code",
   "execution_count": 1,
   "metadata": {},
   "outputs": [],
   "source": [
    "# Import packages\n",
    "\n",
    "import pandas as pd\n",
    "from bcb import sgs\n",
    "import useful_functions as uf"
   ]
  },
  {
   "cell_type": "code",
   "execution_count": 2,
   "metadata": {},
   "outputs": [
    {
     "ename": "ValueError",
     "evalue": "Expected object or value",
     "output_type": "error",
     "traceback": [
      "\u001b[1;31m---------------------------------------------------------------------------\u001b[0m",
      "\u001b[1;31mValueError\u001b[0m                                Traceback (most recent call last)",
      "Cell \u001b[1;32mIn[2], line 23\u001b[0m\n\u001b[0;32m      5\u001b[0m data_series \u001b[38;5;241m=\u001b[39m {\u001b[38;5;124m'\u001b[39m\u001b[38;5;124mRP_month\u001b[39m\u001b[38;5;124m'\u001b[39m:\u001b[38;5;241m4639\u001b[39m, \u001b[38;5;66;03m# Get the primary result series - In R$ millions. Includes data from Central Government in Brazil: Federal Government + INSS + BACEN\u001b[39;00m\n\u001b[0;32m      6\u001b[0m                \u001b[38;5;124m'\u001b[39m\u001b[38;5;124mIPCA_month_433\u001b[39m\u001b[38;5;124m'\u001b[39m: \u001b[38;5;241m433\u001b[39m, \u001b[38;5;66;03m# Monthly IPCA - Brazil's official inflation index\u001b[39;00m\n\u001b[0;32m      7\u001b[0m                \u001b[38;5;124m'\u001b[39m\u001b[38;5;124mIPCA_month_13522_anual\u001b[39m\u001b[38;5;124m'\u001b[39m: \u001b[38;5;241m13522\u001b[39m, \u001b[38;5;66;03m# 12-months IPCA - Brazil's official inflation index\u001b[39;00m\n\u001b[1;32m   (...)\u001b[0m\n\u001b[0;32m     20\u001b[0m                \u001b[38;5;124m'\u001b[39m\u001b[38;5;124mIR_US$\u001b[39m\u001b[38;5;124m'\u001b[39m:\u001b[38;5;241m3546\u001b[39m,\u001b[38;5;66;03m# \tInternational reserves (US$ million) - Monthly\u001b[39;00m\n\u001b[0;32m     21\u001b[0m                } \n\u001b[0;32m     22\u001b[0m \u001b[38;5;66;03m# Download the data\u001b[39;00m\n\u001b[1;32m---> 23\u001b[0m df_raw \u001b[38;5;241m=\u001b[39m \u001b[43msgs\u001b[49m\u001b[38;5;241;43m.\u001b[39;49m\u001b[43mget\u001b[49m\u001b[43m(\u001b[49m\u001b[43mdata_series\u001b[49m\u001b[43m,\u001b[49m\u001b[43m \u001b[49m\u001b[43mstart\u001b[49m\u001b[43m \u001b[49m\u001b[38;5;241;43m=\u001b[39;49m\u001b[43m \u001b[49m\u001b[43mstart_date\u001b[49m\u001b[43m)\u001b[49m\n",
      "File \u001b[1;32mg:\\My Drive\\Data_Projects\\MDS\\master_thesis\\fiscal-balance-forecast\\.venv\\Lib\\site-packages\\bcb\\sgs.py:122\u001b[0m, in \u001b[0;36mget\u001b[1;34m(codes, start, end, last, multi, freq)\u001b[0m\n\u001b[0;32m    120\u001b[0m \u001b[38;5;28;01mif\u001b[39;00m res\u001b[38;5;241m.\u001b[39mstatus_code \u001b[38;5;241m!=\u001b[39m \u001b[38;5;241m200\u001b[39m:\n\u001b[0;32m    121\u001b[0m     \u001b[38;5;28;01mraise\u001b[39;00m \u001b[38;5;167;01mException\u001b[39;00m(\u001b[38;5;124m\"\u001b[39m\u001b[38;5;124mDownload error: code = \u001b[39m\u001b[38;5;132;01m{}\u001b[39;00m\u001b[38;5;124m\"\u001b[39m\u001b[38;5;241m.\u001b[39mformat(code\u001b[38;5;241m.\u001b[39mvalue))\n\u001b[1;32m--> 122\u001b[0m df \u001b[38;5;241m=\u001b[39m \u001b[43mpd\u001b[49m\u001b[38;5;241;43m.\u001b[39;49m\u001b[43mread_json\u001b[49m\u001b[43m(\u001b[49m\u001b[43mStringIO\u001b[49m\u001b[43m(\u001b[49m\u001b[43mres\u001b[49m\u001b[38;5;241;43m.\u001b[39;49m\u001b[43mtext\u001b[49m\u001b[43m)\u001b[49m\u001b[43m)\u001b[49m\n\u001b[0;32m    123\u001b[0m df \u001b[38;5;241m=\u001b[39m _format_df(df, code, freq)\n\u001b[0;32m    124\u001b[0m dfs\u001b[38;5;241m.\u001b[39mappend(df)\n",
      "File \u001b[1;32mg:\\My Drive\\Data_Projects\\MDS\\master_thesis\\fiscal-balance-forecast\\.venv\\Lib\\site-packages\\pandas\\io\\json\\_json.py:815\u001b[0m, in \u001b[0;36mread_json\u001b[1;34m(path_or_buf, orient, typ, dtype, convert_axes, convert_dates, keep_default_dates, precise_float, date_unit, encoding, encoding_errors, lines, chunksize, compression, nrows, storage_options, dtype_backend, engine)\u001b[0m\n\u001b[0;32m    813\u001b[0m     \u001b[38;5;28;01mreturn\u001b[39;00m json_reader\n\u001b[0;32m    814\u001b[0m \u001b[38;5;28;01melse\u001b[39;00m:\n\u001b[1;32m--> 815\u001b[0m     \u001b[38;5;28;01mreturn\u001b[39;00m \u001b[43mjson_reader\u001b[49m\u001b[38;5;241;43m.\u001b[39;49m\u001b[43mread\u001b[49m\u001b[43m(\u001b[49m\u001b[43m)\u001b[49m\n",
      "File \u001b[1;32mg:\\My Drive\\Data_Projects\\MDS\\master_thesis\\fiscal-balance-forecast\\.venv\\Lib\\site-packages\\pandas\\io\\json\\_json.py:1025\u001b[0m, in \u001b[0;36mJsonReader.read\u001b[1;34m(self)\u001b[0m\n\u001b[0;32m   1023\u001b[0m         obj \u001b[38;5;241m=\u001b[39m \u001b[38;5;28mself\u001b[39m\u001b[38;5;241m.\u001b[39m_get_object_parser(\u001b[38;5;28mself\u001b[39m\u001b[38;5;241m.\u001b[39m_combine_lines(data_lines))\n\u001b[0;32m   1024\u001b[0m \u001b[38;5;28;01melse\u001b[39;00m:\n\u001b[1;32m-> 1025\u001b[0m     obj \u001b[38;5;241m=\u001b[39m \u001b[38;5;28;43mself\u001b[39;49m\u001b[38;5;241;43m.\u001b[39;49m\u001b[43m_get_object_parser\u001b[49m\u001b[43m(\u001b[49m\u001b[38;5;28;43mself\u001b[39;49m\u001b[38;5;241;43m.\u001b[39;49m\u001b[43mdata\u001b[49m\u001b[43m)\u001b[49m\n\u001b[0;32m   1026\u001b[0m \u001b[38;5;28;01mif\u001b[39;00m \u001b[38;5;28mself\u001b[39m\u001b[38;5;241m.\u001b[39mdtype_backend \u001b[38;5;129;01mis\u001b[39;00m \u001b[38;5;129;01mnot\u001b[39;00m lib\u001b[38;5;241m.\u001b[39mno_default:\n\u001b[0;32m   1027\u001b[0m     \u001b[38;5;28;01mreturn\u001b[39;00m obj\u001b[38;5;241m.\u001b[39mconvert_dtypes(\n\u001b[0;32m   1028\u001b[0m         infer_objects\u001b[38;5;241m=\u001b[39m\u001b[38;5;28;01mFalse\u001b[39;00m, dtype_backend\u001b[38;5;241m=\u001b[39m\u001b[38;5;28mself\u001b[39m\u001b[38;5;241m.\u001b[39mdtype_backend\n\u001b[0;32m   1029\u001b[0m     )\n",
      "File \u001b[1;32mg:\\My Drive\\Data_Projects\\MDS\\master_thesis\\fiscal-balance-forecast\\.venv\\Lib\\site-packages\\pandas\\io\\json\\_json.py:1051\u001b[0m, in \u001b[0;36mJsonReader._get_object_parser\u001b[1;34m(self, json)\u001b[0m\n\u001b[0;32m   1049\u001b[0m obj \u001b[38;5;241m=\u001b[39m \u001b[38;5;28;01mNone\u001b[39;00m\n\u001b[0;32m   1050\u001b[0m \u001b[38;5;28;01mif\u001b[39;00m typ \u001b[38;5;241m==\u001b[39m \u001b[38;5;124m\"\u001b[39m\u001b[38;5;124mframe\u001b[39m\u001b[38;5;124m\"\u001b[39m:\n\u001b[1;32m-> 1051\u001b[0m     obj \u001b[38;5;241m=\u001b[39m \u001b[43mFrameParser\u001b[49m\u001b[43m(\u001b[49m\u001b[43mjson\u001b[49m\u001b[43m,\u001b[49m\u001b[43m \u001b[49m\u001b[38;5;241;43m*\u001b[39;49m\u001b[38;5;241;43m*\u001b[39;49m\u001b[43mkwargs\u001b[49m\u001b[43m)\u001b[49m\u001b[38;5;241;43m.\u001b[39;49m\u001b[43mparse\u001b[49m\u001b[43m(\u001b[49m\u001b[43m)\u001b[49m\n\u001b[0;32m   1053\u001b[0m \u001b[38;5;28;01mif\u001b[39;00m typ \u001b[38;5;241m==\u001b[39m \u001b[38;5;124m\"\u001b[39m\u001b[38;5;124mseries\u001b[39m\u001b[38;5;124m\"\u001b[39m \u001b[38;5;129;01mor\u001b[39;00m obj \u001b[38;5;129;01mis\u001b[39;00m \u001b[38;5;28;01mNone\u001b[39;00m:\n\u001b[0;32m   1054\u001b[0m     \u001b[38;5;28;01mif\u001b[39;00m \u001b[38;5;129;01mnot\u001b[39;00m \u001b[38;5;28misinstance\u001b[39m(dtype, \u001b[38;5;28mbool\u001b[39m):\n",
      "File \u001b[1;32mg:\\My Drive\\Data_Projects\\MDS\\master_thesis\\fiscal-balance-forecast\\.venv\\Lib\\site-packages\\pandas\\io\\json\\_json.py:1187\u001b[0m, in \u001b[0;36mParser.parse\u001b[1;34m(self)\u001b[0m\n\u001b[0;32m   1185\u001b[0m \u001b[38;5;129m@final\u001b[39m\n\u001b[0;32m   1186\u001b[0m \u001b[38;5;28;01mdef\u001b[39;00m \u001b[38;5;21mparse\u001b[39m(\u001b[38;5;28mself\u001b[39m):\n\u001b[1;32m-> 1187\u001b[0m     \u001b[38;5;28;43mself\u001b[39;49m\u001b[38;5;241;43m.\u001b[39;49m\u001b[43m_parse\u001b[49m\u001b[43m(\u001b[49m\u001b[43m)\u001b[49m\n\u001b[0;32m   1189\u001b[0m     \u001b[38;5;28;01mif\u001b[39;00m \u001b[38;5;28mself\u001b[39m\u001b[38;5;241m.\u001b[39mobj \u001b[38;5;129;01mis\u001b[39;00m \u001b[38;5;28;01mNone\u001b[39;00m:\n\u001b[0;32m   1190\u001b[0m         \u001b[38;5;28;01mreturn\u001b[39;00m \u001b[38;5;28;01mNone\u001b[39;00m\n",
      "File \u001b[1;32mg:\\My Drive\\Data_Projects\\MDS\\master_thesis\\fiscal-balance-forecast\\.venv\\Lib\\site-packages\\pandas\\io\\json\\_json.py:1403\u001b[0m, in \u001b[0;36mFrameParser._parse\u001b[1;34m(self)\u001b[0m\n\u001b[0;32m   1399\u001b[0m orient \u001b[38;5;241m=\u001b[39m \u001b[38;5;28mself\u001b[39m\u001b[38;5;241m.\u001b[39morient\n\u001b[0;32m   1401\u001b[0m \u001b[38;5;28;01mif\u001b[39;00m orient \u001b[38;5;241m==\u001b[39m \u001b[38;5;124m\"\u001b[39m\u001b[38;5;124mcolumns\u001b[39m\u001b[38;5;124m\"\u001b[39m:\n\u001b[0;32m   1402\u001b[0m     \u001b[38;5;28mself\u001b[39m\u001b[38;5;241m.\u001b[39mobj \u001b[38;5;241m=\u001b[39m DataFrame(\n\u001b[1;32m-> 1403\u001b[0m         \u001b[43mujson_loads\u001b[49m\u001b[43m(\u001b[49m\u001b[43mjson\u001b[49m\u001b[43m,\u001b[49m\u001b[43m \u001b[49m\u001b[43mprecise_float\u001b[49m\u001b[38;5;241;43m=\u001b[39;49m\u001b[38;5;28;43mself\u001b[39;49m\u001b[38;5;241;43m.\u001b[39;49m\u001b[43mprecise_float\u001b[49m\u001b[43m)\u001b[49m, dtype\u001b[38;5;241m=\u001b[39m\u001b[38;5;28;01mNone\u001b[39;00m\n\u001b[0;32m   1404\u001b[0m     )\n\u001b[0;32m   1405\u001b[0m \u001b[38;5;28;01melif\u001b[39;00m orient \u001b[38;5;241m==\u001b[39m \u001b[38;5;124m\"\u001b[39m\u001b[38;5;124msplit\u001b[39m\u001b[38;5;124m\"\u001b[39m:\n\u001b[0;32m   1406\u001b[0m     decoded \u001b[38;5;241m=\u001b[39m {\n\u001b[0;32m   1407\u001b[0m         \u001b[38;5;28mstr\u001b[39m(k): v\n\u001b[0;32m   1408\u001b[0m         \u001b[38;5;28;01mfor\u001b[39;00m k, v \u001b[38;5;129;01min\u001b[39;00m ujson_loads(json, precise_float\u001b[38;5;241m=\u001b[39m\u001b[38;5;28mself\u001b[39m\u001b[38;5;241m.\u001b[39mprecise_float)\u001b[38;5;241m.\u001b[39mitems()\n\u001b[0;32m   1409\u001b[0m     }\n",
      "\u001b[1;31mValueError\u001b[0m: Expected object or value"
     ]
    }
   ],
   "source": [
    "# Define the start date\n",
    "start_date = '2001-01-31'\n",
    "\n",
    "# Set the series to be downloaded\n",
    "data_series = {'RP_month':4639, # Get the primary result series - In R$ millions. Includes data from Central Government in Brazil: Federal Government + INSS + BACEN\n",
    "               'IPCA_month_433': 433, # Monthly IPCA - Brazil's official inflation index\n",
    "               'IPCA_month_13522_anual': 13522, # 12-months IPCA - Brazil's official inflation index\n",
    "               'selic':432, # Selic (basic interest rate in Brazil) rate % per year\n",
    "               'dbgg_%_pre':4537, # Gross Debt (% of GDP) - General Government (Federal, State and Municipal). Pre stands for a method used until 2007\n",
    "               'dbgg_%_pos':13762, # Gross Debt (% of GDP) - General Government (Federal, State and Municipal). Pos stands for a method used since 2008\n",
    "               'dbgg_R$_pre':4502, # Gross Debt (R$ millions) - General Government (Federal, State and Municipal). Pre stands for a method used until 2007               \n",
    "               'dbgg_R$_pos':13761, # Gross Debt (R$ millions) - General Government (Federal, State and Municipal). Pos stands for a method used since 2008\n",
    "               'dlgg_%':4536, # Net Debt (% of GDP) - General Government (Federal, State and Municipal)\n",
    "               'dlgg_R$':4501,# Net Debt (R$ millions) - General Government (Federal, State and Municipal)\n",
    "               'dlfg_%':4503, # Net Debt (% of GDP) - Federal Government + Central Bank\n",
    "               'dlfg_R$':4468, # Net Debt (R$ millions) - Federal Government + Central Bank\n",
    "               'dlspc_R$':4513, # Net Debt (%) - Federal Government + Central Bank - Consolidated Public Sector\n",
    "               'bal_payments_US$_M':22707,# Balance on goods - Balance of Payments - monthly - net\n",
    "               'GDP_R$_12_months':4382,# \tGDP accumulated in the last 12 months - current prices (R$ million)\n",
    "               'IR_US$':3546,# \tInternational reserves (US$ million) - Monthly\n",
    "               } \n",
    "# Download the data\n",
    "df_raw = sgs.get(data_series, start = start_date)\n",
    "\n",
    "# Adjust the index to be a datetime object\n",
    "df_raw.index = pd.to_datetime(df_raw.index)"
   ]
  },
  {
   "cell_type": "code",
   "execution_count": 3,
   "metadata": {},
   "outputs": [],
   "source": [
    "# Create a copy of the raw data filtering only the last available day of each month\n",
    "df_macro = df_raw.resample('ME').last().copy()\n",
    "\n",
    "# Rename the columns\n",
    "df_macro = df_macro.rename(columns={\n",
    "    'RP_month': 'ECO_fiscal_result_month',\n",
    "    'IPCA_month_433': 'ECO_inflation_month',\n",
    "    'IPCA_month_13522_anual': 'ECO_inflation_12months',\n",
    "    'selic': 'ECO_interest_rate',\n",
    "    'dbgg_%_pre': 'ECO_gross_debt_gdp_pre',\n",
    "    'dbgg_%_pos': 'ECO_gross_debt_gdp_pos',\n",
    "    'dbgg_R$_pre': 'ECO_gross_debt_R$_pre',\n",
    "    'dbgg_R$_pos': 'ECO_gross_debt_R$_pos',\n",
    "    'dlgg_%': 'ECO_net_debt_gdp_%',\n",
    "    'dlgg_R$': 'ECO_net_debt_R$',\n",
    "    'dlfg_%': 'ECO_net_debt_gdp_%_federal_govt',\n",
    "    'dlfg_R$': 'ECO_net_debt_R$_federal_govt',\n",
    "    'dlspc_R$': 'ECO_net_debt_R$_dlspc',\n",
    "    'bal_payments_US$_M': 'ECO_balance_payments_US$_M',\n",
    "    'GDP_R$_12_months': 'ECO_GDP_R$_12_months',\n",
    "    'IR_US$': 'ECO_inter_reserves_US$'\n",
    "})\n",
    "\n",
    "# Invert values from RP so that negative means deficit and positive means surplus\n",
    "df_macro['ECO_fiscal_result_month'] = df_macro['ECO_fiscal_result_month'] * -1\n",
    "\n",
    "# Compute the sum of last 12 months for each row\n",
    "df_macro['ECO_fiscal_result_12months'] = df_macro['ECO_fiscal_result_month'].rolling(window=12).sum()\n",
    "\n",
    "# Desired column order\n",
    "column_order = ['ECO_fiscal_result_month', 'ECO_fiscal_result_12months', \n",
    "                'ECO_inflation_month', 'ECO_inflation_12months', \n",
    "                'ECO_interest_rate', \n",
    "                'ECO_gross_debt_gdp_pre', 'ECO_gross_debt_gdp_pos', 'ECO_gross_debt_R$_pre', 'ECO_gross_debt_R$_pos', \n",
    "                'ECO_net_debt_gdp_%', 'ECO_net_debt_R$', 'ECO_net_debt_gdp_%_federal_govt', 'ECO_net_debt_R$_federal_govt', 'ECO_net_debt_R$_dlspc',\n",
    "                'ECO_balance_payments_US$_M', 'ECO_GDP_R$_12_months','ECO_inter_reserves_US$']\n",
    "\n",
    "# Reindex the DataFrame with the desired column order\n",
    "df_macro = df_macro.reindex(columns=column_order)\n"
   ]
  },
  {
   "cell_type": "code",
   "execution_count": 5,
   "metadata": {},
   "outputs": [],
   "source": [
    "# Convert the dataset to monthly frequency getting the last valid value of each month\n",
    "df_macro_monthly = uf.convert_df_to_monthly(df_macro,'%Y-%m-%d')\n",
    "# Export the dataset\n",
    "df_macro_monthly.to_csv('../data/df_macroeco.csv', index=True)\n"
   ]
  }
 ],
 "metadata": {
  "kernelspec": {
   "display_name": "Python 3",
   "language": "python",
   "name": "python3"
  },
  "language_info": {
   "codemirror_mode": {
    "name": "ipython",
    "version": 3
   },
   "file_extension": ".py",
   "mimetype": "text/x-python",
   "name": "python",
   "nbconvert_exporter": "python",
   "pygments_lexer": "ipython3",
   "version": "3.12.2"
  }
 },
 "nbformat": 4,
 "nbformat_minor": 2
}
