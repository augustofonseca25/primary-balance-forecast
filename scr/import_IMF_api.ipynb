{
  "cells": [
    {
      "cell_type": "markdown",
      "metadata": {
        "id": "c1JiiOJCr0p2"
      },
      "source": [
        "# Source: https://github.com/chriscarrollsmith/imfp\n",
        "\n",
        "# Script to import commodities prices from IMF"
      ]
    },
    {
      "cell_type": "code",
      "execution_count": 1,
      "metadata": {
        "id": "4M6fqN6Jr0p6"
      },
      "outputs": [],
      "source": [
        "import pandas as pd\n",
        "import requests\n",
        "import imfp\n",
        "\n",
        "import useful_functions"
      ]
    },
    {
      "cell_type": "code",
      "execution_count": 2,
      "metadata": {
        "colab": {
          "base_uri": "https://localhost:8080/",
          "height": 112
        },
        "id": "hGNKpOJur0p7",
        "outputId": "e4c6548d-1d4e-4c17-b31f-c50f871ce1d2"
      },
      "outputs": [],
      "source": [
        "# Check the available databases\n",
        "databases = imfp.imf_databases()\n",
        "\n",
        "#Get the database for commodity prices\n",
        "#databases[databases['description'].str.contains(\"Commodity\")]"
      ]
    },
    {
      "cell_type": "code",
      "execution_count": 3,
      "metadata": {
        "colab": {
          "base_uri": "https://localhost:8080/"
        },
        "id": "RGZ7beE3r0p8",
        "outputId": "a11cab79-c9d9-4851-fe25-cbf0adf67357"
      },
      "outputs": [],
      "source": [
        "# Fetch list of valid parameters and input codes for commodity price database\n",
        "params = imfp.imf_parameters(\"PCPS\")\n",
        "\n"
      ]
    },
    {
      "cell_type": "code",
      "execution_count": 5,
      "metadata": {
        "id": "GUD38fKBr0p9"
      },
      "outputs": [],
      "source": [
        "# Get key names from the params object\n",
        "#params.keys()\n",
        "\n",
        "#imfp.imf_parameter_defs(\"PCPS\")\n",
        "\n",
        "# View the data frame of valid input codes for the frequency parameter\n",
        "#params['freq']\n",
        "\n",
        "#params['commodity']"
      ]
    },
    {
      "cell_type": "code",
      "execution_count": 7,
      "metadata": {
        "id": "4blwoeAbr0p9"
      },
      "outputs": [],
      "source": [
        "# Fetch the 'freq' input code for Monthly frequency\n",
        "selected_freq = list(\n",
        "    params['freq']['input_code'][params['freq']['description'].str.contains(\"Monthly\")]\n",
        ")\n",
        "\n",
        "# List of substrings to check for\n",
        "commodities_codes = [\"PCOFFOTM\", #Coffee, Other Mild Arabica\n",
        "                   \"PIORECR\", #Iron Ore\n",
        "                   \"PMEAT\", #PMEAT index\n",
        "                   \"POILBRE\", #Brent Crude Oil\n",
        "                   \"PORANG\", #Orange\n",
        "                   \"PSOYB\", #Soybeans\n",
        "                   \"PSUGA\" #Sugar index\n",
        "                   ]\n",
        "\n",
        "# Fetch the 'commodity' input code for coal\n",
        "selected_commodity = list(\n",
        "    params['commodity']['input_code'][params['commodity']['input_code'].isin(commodities_codes)]\n",
        ")\n",
        "\n",
        "# Fetch the 'unit_measure' input code for index\n",
        "selected_unit_measure = list(\n",
        "    params['unit_measure']['input_code'][params['unit_measure']['description'].str.contains(\"Index\")]\n",
        ")\n",
        "\n",
        "# Request data from the API\n",
        "df_commo = imfp.imf_dataset(database_id = \"PCPS\",\n",
        "         freq = selected_freq, commodity = selected_commodity,\n",
        "         unit_measure = selected_unit_measure,\n",
        "         start_year = 2001, end_year = useful_functions.define_end_period(\"%Y\"))\n",
        "\n",
        "# Display the first few entries in the retrieved data frame\n",
        "df_commo = df_commo[['time_period', 'commodity', 'obs_value']]\n",
        "df_commo = df_commo.rename(columns={'time_period': 'Time', 'obs_value': 'value'})\n",
        "df_commo['commodity'] = df_commo['commodity'].replace({\n",
        "    'PCOFFOTM': 'Coffee',\n",
        "    'PIORECR': 'Iron Ore',\n",
        "    'PMEAT': 'Meat index',\n",
        "    'POILBRE': 'Brent Crude Oil',\n",
        "    'PORANG': 'Orange',\n",
        "    'PSOYB': 'Soybeans',\n",
        "    'PSUGA': 'Sugar'\n",
        "})\n",
        "\n",
        "\n",
        "\n"
      ]
    },
    {
      "cell_type": "code",
      "execution_count": 8,
      "metadata": {
        "id": "gj6TBWjYr0p-"
      },
      "outputs": [],
      "source": [
        "# Pivot the data frame\n",
        "df_commodities = df_commo.pivot(index='Time', columns='commodity', values='value')\n",
        "\n",
        "# Adjust index date format\n",
        "#df_commodities = useful_functions.adjust_index_date_format(df_rotated)\n",
        "\n",
        "# Save the data frame to a CSV file\n",
        "df_commodities.to_csv('../data/df_commodities.csv')\n",
        "\n"
      ]
    }
  ],
  "metadata": {
    "colab": {
      "provenance": []
    },
    "kernelspec": {
      "display_name": "Python 3",
      "language": "python",
      "name": "python3"
    },
    "language_info": {
      "codemirror_mode": {
        "name": "ipython",
        "version": 3
      },
      "file_extension": ".py",
      "mimetype": "text/x-python",
      "name": "python",
      "nbconvert_exporter": "python",
      "pygments_lexer": "ipython3",
      "version": "3.9.0"
    }
  },
  "nbformat": 4,
  "nbformat_minor": 0
}
