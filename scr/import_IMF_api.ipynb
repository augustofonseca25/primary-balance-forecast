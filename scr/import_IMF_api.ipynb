{
 "cells": [
  {
   "cell_type": "markdown",
   "metadata": {},
   "source": [
    "# Source: https://github.com/chriscarrollsmith/imfp\n",
    "\n",
    "# Script to import commodities prices from IMF"
   ]
  },
  {
   "cell_type": "code",
   "execution_count": 3,
   "metadata": {},
   "outputs": [],
   "source": [
    "import pandas as pd\n",
    "import requests\n",
    "import imfp\n",
    "\n",
    "from useful_functions import *"
   ]
  },
  {
   "cell_type": "code",
   "execution_count": 4,
   "metadata": {},
   "outputs": [
    {
     "data": {
      "text/html": [
       "<div>\n",
       "<style scoped>\n",
       "    .dataframe tbody tr th:only-of-type {\n",
       "        vertical-align: middle;\n",
       "    }\n",
       "\n",
       "    .dataframe tbody tr th {\n",
       "        vertical-align: top;\n",
       "    }\n",
       "\n",
       "    .dataframe thead th {\n",
       "        text-align: right;\n",
       "    }\n",
       "</style>\n",
       "<table border=\"1\" class=\"dataframe\">\n",
       "  <thead>\n",
       "    <tr style=\"text-align: right;\">\n",
       "      <th></th>\n",
       "      <th>database_id</th>\n",
       "      <th>description</th>\n",
       "    </tr>\n",
       "  </thead>\n",
       "  <tbody>\n",
       "    <tr>\n",
       "      <th>294</th>\n",
       "      <td>PCTOT</td>\n",
       "      <td>Commodity Terms of Trade</td>\n",
       "    </tr>\n",
       "    <tr>\n",
       "      <th>305</th>\n",
       "      <td>PCPS</td>\n",
       "      <td>Primary Commodity Price System (PCPS)</td>\n",
       "    </tr>\n",
       "  </tbody>\n",
       "</table>\n",
       "</div>"
      ],
      "text/plain": [
       "    database_id                            description\n",
       "294       PCTOT               Commodity Terms of Trade\n",
       "305        PCPS  Primary Commodity Price System (PCPS)"
      ]
     },
     "execution_count": 4,
     "metadata": {},
     "output_type": "execute_result"
    }
   ],
   "source": [
    "# Check the available databases\n",
    "databases = imfp.imf_databases()\n",
    "\n",
    "#Get the database for commodity prices\n",
    "databases[databases['description'].str.contains(\"Commodity\")]"
   ]
  },
  {
   "cell_type": "code",
   "execution_count": 5,
   "metadata": {},
   "outputs": [
    {
     "data": {
      "text/plain": [
       "dict_keys(['freq', 'ref_area', 'commodity', 'unit_measure'])"
      ]
     },
     "execution_count": 5,
     "metadata": {},
     "output_type": "execute_result"
    }
   ],
   "source": [
    "# Fetch list of valid parameters and input codes for commodity price database\n",
    "params = imfp.imf_parameters(\"PCPS\")\n",
    "\n",
    "# Get key names from the params object\n",
    "params.keys()"
   ]
  },
  {
   "cell_type": "code",
   "execution_count": 6,
   "metadata": {},
   "outputs": [
    {
     "data": {
      "text/html": [
       "<div>\n",
       "<style scoped>\n",
       "    .dataframe tbody tr th:only-of-type {\n",
       "        vertical-align: middle;\n",
       "    }\n",
       "\n",
       "    .dataframe tbody tr th {\n",
       "        vertical-align: top;\n",
       "    }\n",
       "\n",
       "    .dataframe thead th {\n",
       "        text-align: right;\n",
       "    }\n",
       "</style>\n",
       "<table border=\"1\" class=\"dataframe\">\n",
       "  <thead>\n",
       "    <tr style=\"text-align: right;\">\n",
       "      <th></th>\n",
       "      <th>parameter</th>\n",
       "      <th>description</th>\n",
       "    </tr>\n",
       "  </thead>\n",
       "  <tbody>\n",
       "    <tr>\n",
       "      <th>0</th>\n",
       "      <td>freq</td>\n",
       "      <td>Frequency</td>\n",
       "    </tr>\n",
       "    <tr>\n",
       "      <th>1</th>\n",
       "      <td>ref_area</td>\n",
       "      <td>Geographical Areas</td>\n",
       "    </tr>\n",
       "    <tr>\n",
       "      <th>2</th>\n",
       "      <td>commodity</td>\n",
       "      <td>Indicator</td>\n",
       "    </tr>\n",
       "    <tr>\n",
       "      <th>3</th>\n",
       "      <td>unit_measure</td>\n",
       "      <td>Unit</td>\n",
       "    </tr>\n",
       "  </tbody>\n",
       "</table>\n",
       "</div>"
      ],
      "text/plain": [
       "      parameter         description\n",
       "0          freq           Frequency\n",
       "1      ref_area  Geographical Areas\n",
       "2     commodity           Indicator\n",
       "3  unit_measure                Unit"
      ]
     },
     "execution_count": 6,
     "metadata": {},
     "output_type": "execute_result"
    }
   ],
   "source": [
    "imfp.imf_parameter_defs(\"PCPS\")"
   ]
  },
  {
   "cell_type": "code",
   "execution_count": 7,
   "metadata": {},
   "outputs": [
    {
     "data": {
      "text/html": [
       "<div>\n",
       "<style scoped>\n",
       "    .dataframe tbody tr th:only-of-type {\n",
       "        vertical-align: middle;\n",
       "    }\n",
       "\n",
       "    .dataframe tbody tr th {\n",
       "        vertical-align: top;\n",
       "    }\n",
       "\n",
       "    .dataframe thead th {\n",
       "        text-align: right;\n",
       "    }\n",
       "</style>\n",
       "<table border=\"1\" class=\"dataframe\">\n",
       "  <thead>\n",
       "    <tr style=\"text-align: right;\">\n",
       "      <th></th>\n",
       "      <th>input_code</th>\n",
       "      <th>description</th>\n",
       "    </tr>\n",
       "  </thead>\n",
       "  <tbody>\n",
       "    <tr>\n",
       "      <th>0</th>\n",
       "      <td>A</td>\n",
       "      <td>Annual</td>\n",
       "    </tr>\n",
       "    <tr>\n",
       "      <th>1</th>\n",
       "      <td>M</td>\n",
       "      <td>Monthly</td>\n",
       "    </tr>\n",
       "    <tr>\n",
       "      <th>2</th>\n",
       "      <td>Q</td>\n",
       "      <td>Quarterly</td>\n",
       "    </tr>\n",
       "  </tbody>\n",
       "</table>\n",
       "</div>"
      ],
      "text/plain": [
       "  input_code description\n",
       "0          A      Annual\n",
       "1          M     Monthly\n",
       "2          Q   Quarterly"
      ]
     },
     "execution_count": 7,
     "metadata": {},
     "output_type": "execute_result"
    }
   ],
   "source": [
    "# View the data frame of valid input codes for the frequency parameter\n",
    "params['freq']"
   ]
  },
  {
   "cell_type": "code",
   "execution_count": 8,
   "metadata": {},
   "outputs": [
    {
     "data": {
      "text/html": [
       "<div>\n",
       "<style scoped>\n",
       "    .dataframe tbody tr th:only-of-type {\n",
       "        vertical-align: middle;\n",
       "    }\n",
       "\n",
       "    .dataframe tbody tr th {\n",
       "        vertical-align: top;\n",
       "    }\n",
       "\n",
       "    .dataframe thead th {\n",
       "        text-align: right;\n",
       "    }\n",
       "</style>\n",
       "<table border=\"1\" class=\"dataframe\">\n",
       "  <thead>\n",
       "    <tr style=\"text-align: right;\">\n",
       "      <th></th>\n",
       "      <th>input_code</th>\n",
       "      <th>description</th>\n",
       "    </tr>\n",
       "  </thead>\n",
       "  <tbody>\n",
       "    <tr>\n",
       "      <th>0</th>\n",
       "      <td>PRAWM</td>\n",
       "      <td>Primary Commodity Prices, Agr. Raw Material In...</td>\n",
       "    </tr>\n",
       "    <tr>\n",
       "      <th>1</th>\n",
       "      <td>PAGRI</td>\n",
       "      <td>Primary Commodity Prices, Agriculture</td>\n",
       "    </tr>\n",
       "    <tr>\n",
       "      <th>2</th>\n",
       "      <td>PALLFNF</td>\n",
       "      <td>Primary Commodity Prices, All index</td>\n",
       "    </tr>\n",
       "    <tr>\n",
       "      <th>3</th>\n",
       "      <td>PEXGMETA</td>\n",
       "      <td>Primary Commodity Prices, All Metals EX GOLD I...</td>\n",
       "    </tr>\n",
       "    <tr>\n",
       "      <th>4</th>\n",
       "      <td>PALLMETA</td>\n",
       "      <td>Primary Commodity Prices, All Metals Index</td>\n",
       "    </tr>\n",
       "    <tr>\n",
       "      <th>...</th>\n",
       "      <td>...</td>\n",
       "      <td>...</td>\n",
       "    </tr>\n",
       "    <tr>\n",
       "      <th>106</th>\n",
       "      <td>PWOOLC</td>\n",
       "      <td>Primary Commodity Prices, Wool, Coarse</td>\n",
       "    </tr>\n",
       "    <tr>\n",
       "      <th>107</th>\n",
       "      <td>PWOOLF</td>\n",
       "      <td>Primary Commodity Prices, Wool, Fine</td>\n",
       "    </tr>\n",
       "    <tr>\n",
       "      <th>108</th>\n",
       "      <td>POILWTI</td>\n",
       "      <td>Primary Commodity Prices, WTI Crude</td>\n",
       "    </tr>\n",
       "    <tr>\n",
       "      <th>109</th>\n",
       "      <td>PZINC</td>\n",
       "      <td>Primary Commodity Prices, Zinc</td>\n",
       "    </tr>\n",
       "    <tr>\n",
       "      <th>110</th>\n",
       "      <td>All_Indicators</td>\n",
       "      <td>All Indicators</td>\n",
       "    </tr>\n",
       "  </tbody>\n",
       "</table>\n",
       "<p>111 rows × 2 columns</p>\n",
       "</div>"
      ],
      "text/plain": [
       "         input_code                                        description\n",
       "0             PRAWM  Primary Commodity Prices, Agr. Raw Material In...\n",
       "1             PAGRI              Primary Commodity Prices, Agriculture\n",
       "2           PALLFNF               Primary Commodity Prices, All index \n",
       "3          PEXGMETA  Primary Commodity Prices, All Metals EX GOLD I...\n",
       "4          PALLMETA         Primary Commodity Prices, All Metals Index\n",
       "..              ...                                                ...\n",
       "106          PWOOLC            Primary Commodity Prices, Wool, Coarse \n",
       "107          PWOOLF              Primary Commodity Prices, Wool, Fine \n",
       "108         POILWTI               Primary Commodity Prices, WTI Crude \n",
       "109           PZINC                    Primary Commodity Prices, Zinc \n",
       "110  All_Indicators                                     All Indicators\n",
       "\n",
       "[111 rows x 2 columns]"
      ]
     },
     "execution_count": 8,
     "metadata": {},
     "output_type": "execute_result"
    }
   ],
   "source": [
    "params['commodity']"
   ]
  },
  {
   "cell_type": "code",
   "execution_count": 9,
   "metadata": {},
   "outputs": [],
   "source": [
    "# Fetch the 'freq' input code for annual frequency\n",
    "selected_freq = list(\n",
    "    params['freq']['input_code'][params['freq']['description'].str.contains(\"Monthly\")]\n",
    ")\n",
    "\n",
    "# List of substrings to check for\n",
    "commodities_codes = [\"PCOFFOTM\", #Coffee, Other Mild Arabica \n",
    "                   \"PIORECR\", #Iron Ore\n",
    "                   \"PMEAT\", #PMEAT index\n",
    "                   \"POILBRE\", #Brent Crude Oil\n",
    "                   \"PORANG\", #Orange \n",
    "                   \"PSOYB\", #Soybeans \n",
    "                   \"PSUGA\" #Sugar index \n",
    "                   ]\n",
    "\n",
    "# Fetch the 'commodity' input code for coal\n",
    "selected_commodity = list(\n",
    "    params['commodity']['input_code'][params['commodity']['input_code'].isin(commodities_codes)]\n",
    ")\n",
    "\n",
    "# Fetch the 'unit_measure' input code for index\n",
    "selected_unit_measure = list(\n",
    "    params['unit_measure']['input_code'][params['unit_measure']['description'].str.contains(\"Index\")]\n",
    ")\n",
    "\n",
    "# Request data from the API\n",
    "df_commo = imfp.imf_dataset(database_id = \"PCPS\",\n",
    "         freq = selected_freq, commodity = selected_commodity,\n",
    "         unit_measure = selected_unit_measure,\n",
    "         start_year = 2001, end_year = 2023)\n",
    "\n",
    "# Display the first few entries in the retrieved data frame\n",
    "df_commo = df_commo[['time_period', 'commodity', 'obs_value']]\n",
    "df_commo = df_commo.rename(columns={'time_period': 'Time', 'obs_value': 'value'})\n",
    "df_commo['commodity'] = df_commo['commodity'].replace({\n",
    "    'PCOFFOTM': 'Coffee',\n",
    "    'PIORECR': 'Iron Ore',\n",
    "    'PMEAT': 'Meat index',\n",
    "    'POILBRE': 'Brent Crude Oil',\n",
    "    'PORANG': 'Orange',\n",
    "    'PSOYB': 'Soybeans',\n",
    "    'PSUGA': 'Sugar'\n",
    "})\n",
    "\n",
    "\n",
    "\n"
   ]
  },
  {
   "cell_type": "code",
   "execution_count": 10,
   "metadata": {},
   "outputs": [],
   "source": [
    "# Pivot the data frame\n",
    "df_rotated = df_commo.pivot(index='Time', columns='commodity', values='value')\n",
    "\n",
    "# Adjust index date format\n",
    "df_commodities = adjust_index_date_format(df_rotated)\n",
    "\n",
    "# Save the data frame to a CSV file\n",
    "df_commodities.to_csv('../data/df_commodities.csv')\n",
    "\n"
   ]
  }
 ],
 "metadata": {
  "kernelspec": {
   "display_name": "Python 3",
   "language": "python",
   "name": "python3"
  },
  "language_info": {
   "codemirror_mode": {
    "name": "ipython",
    "version": 3
   },
   "file_extension": ".py",
   "mimetype": "text/x-python",
   "name": "python",
   "nbconvert_exporter": "python",
   "pygments_lexer": "ipython3",
   "version": "3.12.0"
  }
 },
 "nbformat": 4,
 "nbformat_minor": 2
}
