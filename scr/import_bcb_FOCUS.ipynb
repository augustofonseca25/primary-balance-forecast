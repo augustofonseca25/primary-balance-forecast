{
 "cells": [
  {
   "cell_type": "markdown",
   "metadata": {},
   "source": [
    "### This script imports BR BACEN - FOCUS data\n",
    "# Fonte: https://analisemacro.com.br/economia/indicadores/coletando-dados-do-banco-central-com-python/"
   ]
  },
  {
   "cell_type": "code",
   "execution_count": 30,
   "metadata": {},
   "outputs": [],
   "source": [
    "# Import packages\n",
    "\n",
    "import pandas as pd\n",
    "from bcb import Expectativas\n",
    "\n",
    "from useful_functions import *"
   ]
  },
  {
   "cell_type": "code",
   "execution_count": 31,
   "metadata": {},
   "outputs": [
    {
     "name": "stdout",
     "output_type": "stream",
     "text": [
      "\n",
      "EntitySet (Endpoint): ExpectativasMercadoAnuais\n",
      "EntityType: br.gov.bcb.olinda.servico.Expectativas.ExpectativaMercadoAnual\n",
      "Properties: Indicador<str>, IndicadorDetalhe<str>, Data<str>, DataReferencia<str>, Media<float>, Mediana<float>, DesvioPadrao<float>, Minimo<float>, Maximo<float>, numeroRespondentes<int>, baseCalculo<int>\n"
     ]
    }
   ],
   "source": [
    "\n",
    "\n",
    "# Get info from \"Expectativas\" API\n",
    "\n",
    "expec = Expectativas()\n",
    "\n",
    "# get the available endpoints\n",
    "\n",
    "#expec.describe()\n",
    "\n",
    "# Check endpoint\n",
    "\n",
    "expec.describe('ExpectativasMercadoAnuais')\n"
   ]
  },
  {
   "cell_type": "code",
   "execution_count": 33,
   "metadata": {},
   "outputs": [],
   "source": [
    "# Define parameters to query BCB server\n",
    "\n",
    "# Define the start date - yyyy/mm/dd\n",
    "start_date = '2000-01-01'\n",
    "\n",
    "# Import the endpoint\n",
    "\n",
    "ep = expec.get_endpoint('ExpectativasMercadoAnuais')\n",
    "\n",
    "df_raw = ep.query().filter(ep.Data >= start_date).collect()\n",
    "\n"
   ]
  },
  {
   "cell_type": "code",
   "execution_count": 34,
   "metadata": {},
   "outputs": [],
   "source": [
    "# Define the targeted indicators\n",
    "\n",
    "target_indicators = ['Balança comercial', \n",
    "                       'Investimento direto no país', \n",
    "                       'Resultado primário', \n",
    "                       'IPCA', \n",
    "                       'PIB Total',\n",
    "                       'Selic', \n",
    "                       'Câmbio', \n",
    "                       'Dívida bruta do governo geral', \n",
    "                       'Dívida líquida do setor público'\n",
    "                       ]\n",
    "\n",
    "\n",
    "\n",
    "\n",
    "# Filter the targeted indicators\n",
    "filtered_df = df_raw.loc[df_raw['Indicador'].isin(target_indicators)]\n",
    "\n",
    "# Filter baseCalculo = 0 only keeps forecasts made during 30 days before publication\n",
    "filtered_df = filtered_df.loc[filtered_df['baseCalculo'] == 0] # baseCalculo = 0 only keeps forecasts made during 30 days before publication\n",
    "\n",
    "# Filter the dataset to not include exportações e importações\n",
    "filtered_df = filtered_df.loc[~filtered_df['IndicadorDetalhe'].isin(['Importações', 'Exportações'])]\n"
   ]
  },
  {
   "cell_type": "code",
   "execution_count": 35,
   "metadata": {},
   "outputs": [],
   "source": [
    "# Create a copy\n",
    "df_BR_indicators = filtered_df.copy()\n",
    "\n",
    "# IN the case of the indicador \"Balança comercial\", filter the \"IndicadorDetalhe\" = 'saldo'\n",
    "df_BR_indicators = df_BR_indicators[~df_BR_indicators['IndicadorDetalhe'].isin(['Exportações', 'Importações'])] # Only keeps the \"saldo\" of the \"Balança comercial\" indicator or NAs\n",
    "\n",
    "# Define the index\n",
    "df_BR_indicators.set_index('Data', inplace=True)\n",
    "\n",
    "# Define columns to be dropped\n",
    "columns_to_drop = ['IndicadorDetalhe',\n",
    "                   'Media', \n",
    "                   'DesvioPadrao', \n",
    "                   'Minimo', \n",
    "                   'Maximo', \n",
    "                   'numeroRespondentes', \n",
    "                   'baseCalculo'] # We will use only the median expectations and discard the mean, maximun and minimum.\n",
    "\n",
    "#Drop the variables\n",
    "df_BR_indicators.drop(columns_to_drop, axis=1, inplace=True)\n",
    "\n",
    "# Rename columns\n",
    "df_BR_indicators.rename(columns={\n",
    "    'Indicador': 'indicator',\n",
    "    'DataReferencia': 'reference_year',\n",
    "    'Mediana': 'median'\n",
    "},\n",
    "inplace=True)\n",
    "\n",
    "df_BR_indicators.rename_axis('date', inplace=True)\n",
    "\n",
    "# Convert reference_year to date format\n",
    "df_BR_indicators['reference_year'] = pd.to_datetime(df_BR_indicators['reference_year'], format='%Y').dt.year\n",
    "\n",
    "### Apply some filters\n",
    "\n",
    "# Filter reference year with a maximum of two years beyond the collection date\n",
    "df_BR_indicators = df_BR_indicators[(df_BR_indicators['reference_year'] <= df_BR_indicators.index.year+2)]\n",
    "\n",
    "# Translate observations:\n",
    "\n",
    "# Create mapping pattern\n",
    "indicator_mapping = {\n",
    "    'Balança comercial': 'trade_balance', #US$ billion\n",
    "    'Investimento direto no país': 'DIC', #Direct investment in the country - US$ billion\n",
    "    'Resultado primário': 'primary_result', # % GDP\n",
    "    'IPCA': 'inflation', # % per year\n",
    "    'PIB Total': 'GDP (%)', #% of previous year GDP\n",
    "    'Selic': 'basic_interest_rate', # % per year\n",
    "    'Câmbio': 'US$_currency', # R$ / US$\n",
    "    'Dívida bruta do governo geral': 'gross_public_debt', #Gross general government debt  - % GDP\n",
    "    'Dívida líquida do setor público': 'net_public_debt' #Net public sector debt - % GDP\n",
    "}\n",
    "\n",
    "#Aply translation pattern\n",
    "df_BR_indicators['indicator'] = df_BR_indicators['indicator'].replace(indicator_mapping)\n",
    "df_BR_indicators.reset_index(inplace=True) # Reset index\n",
    "\n",
    "# Categorize each reference_year as \"y\", \"y+1\", \"y+2\" \n",
    "df_BR_indicators['reference_year'] = df_BR_indicators.apply(lambda row: 'y' \n",
    "                            if row['reference_year'] == row['date'].year \n",
    "                            else ('y+1' if row['reference_year'] == row['date'].year + 1 \n",
    "                                  else ('y+2' if row['reference_year'] == row['date'].year + 2 else None)), axis=1)\n",
    "\n",
    "\n",
    "# Drop years with \"None\" in the reference_year variable, because they are 'forecasts' for passed years.\n",
    "df_BR_indicators.dropna(subset=['reference_year'], inplace=True)\n",
    "\n",
    "# Create a new column with the parameter name to aggregate indicator and reference_year\n",
    "df_BR_indicators['parameter'] = 'exp_'+ df_BR_indicators['indicator'] + '_' + df_BR_indicators['reference_year'].astype(str)\n",
    "df_BR_indicators.drop(['indicator', 'reference_year'], axis=1, inplace=True)\n"
   ]
  },
  {
   "cell_type": "code",
   "execution_count": 36,
   "metadata": {},
   "outputs": [],
   "source": [
    "# Create a pivot table with the median values of each parameter\n",
    "df_BR_indicators_wide = df_BR_indicators.pivot(index='date', columns='parameter', values='median')\n",
    "\n",
    "# Adjust index date format\n",
    "df_focus_indicators = adjust_index_date_format(df_BR_indicators_wide)\n",
    "\n",
    "# Export the dataset to csv\n",
    "df_focus_indicators.to_csv('../data/df_FOCUS.csv', index=True)\n"
   ]
  }
 ],
 "metadata": {
  "kernelspec": {
   "display_name": "Python 3",
   "language": "python",
   "name": "python3"
  },
  "language_info": {
   "codemirror_mode": {
    "name": "ipython",
    "version": 3
   },
   "file_extension": ".py",
   "mimetype": "text/x-python",
   "name": "python",
   "nbconvert_exporter": "python",
   "pygments_lexer": "ipython3",
   "version": "3.12.0"
  }
 },
 "nbformat": 4,
 "nbformat_minor": 2
}
