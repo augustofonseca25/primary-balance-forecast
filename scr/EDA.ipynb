{
 "cells": [
  {
   "cell_type": "markdown",
   "metadata": {},
   "source": [
    "### EDA\n",
    "# https://www.youtube.com/watch?v=7_Js8h709Dw\n",
    "# https://pypi.org/project/ydata-profiling/\n"
   ]
  },
  {
   "cell_type": "code",
   "execution_count": 97,
   "metadata": {},
   "outputs": [],
   "source": [
    "import pandas as pd\n",
    "from ydata_profiling import ProfileReport\n",
    "import matplotlib.pyplot as plt\n",
    "from sklearn.preprocessing import StandardScaler, MinMaxScaler\n",
    "import numpy as np\n",
    "from statsmodels.tsa.stattools import adfuller\n"
   ]
  },
  {
   "cell_type": "code",
   "execution_count": 98,
   "metadata": {},
   "outputs": [],
   "source": [
    "# Importing the dataset\n",
    "df_BR_debt = pd.read_csv('../data/cleanned_df.csv')\n"
   ]
  },
  {
   "cell_type": "code",
   "execution_count": 99,
   "metadata": {},
   "outputs": [
    {
     "data": {
      "text/plain": [
       "(278, 80)"
      ]
     },
     "execution_count": 99,
     "metadata": {},
     "output_type": "execute_result"
    }
   ],
   "source": [
    "df_BR_debt.shape"
   ]
  },
  {
   "cell_type": "code",
   "execution_count": 100,
   "metadata": {},
   "outputs": [],
   "source": [
    "\n",
    "columns_to_drop = ['eco_fiscal_result_12months', 'eco_inflation_month', 'eco_gross_debt_gdp_pre', 'eco_net_debt_gdp_%',\n",
    "       'eco_net_debt_gdp_%_federal_govt','CAN_inflation',\n",
    "       'UK_inflation', 'CAN_interest', 'CHI_interest', 'UK_interest', \n",
    "       'bud_fun_09_initial_value', 'bud_fun_10_initial_value', 'bud_fun_12_initial_value',\n",
    "       'bud_group_personal_initial_value', 'bud_group_invest_initial_value',\n",
    "       'bud_type_mandatory_initial_value', 'bud_type_amendments_initial_value',\n",
    "       'exp_DIC_y+2', 'exp_GDP (%)_y+2', 'exp_US$_currency_y+2',\n",
    "       'exp_basic_interest_rate_y+2', 'exp_inflation_y+2', \n",
    "       'exp_net_public_debt_y+2', 'exp_primary_result_y+2',\n",
    "       'exp_trade_balance_y+2',\n",
    "       'UK_GDP', 'CHI_inflation', #Second group\n",
    "       'exp_DIC_y+1','exp_GDP (%)_y+1','exp_US$_currency_y+1','exp_basic_interest_rate_y+1',\n",
    "       'exp_inflation_y+1','exp_net_public_debt_y+1','exp_primary_result_y+1',\n",
    "       'exp_trade_balance_y+1','bud_fun_09_spent_value', 'bud_fun_10_spent_value',\n",
    "       'bud_fun_12_spent_value','bud_group_invest_spent_value', \n",
    "       'bud_type_disc_initial_value', 'bud_type_amendments_spent_value','bud_type_disc_spent_value',\n",
    "       # Third group\n",
    "       'eco_fiscal_result_month', 'eco_inflation_12months','eco_gross_debt_R$_pre', \n",
    "       'eco_balance_payments_US$_M','CHN_GDP', 'US_GDP', 'CHN_inflation', 'EUZ_inflation', \n",
    "       'US_inflation', 'CHN_interest',\n",
    "       'Euro area (19 countries)',\n",
    "       'US_interest', 'Brent Crude Oil', \n",
    "       'exp_GDP (%)_y','exp_inflation_y', \n",
    "       'exp_net_public_debt_y',\n",
    "       # Fourth group\n",
    "       'eco_interest_rate','exp_primary_result_y', 'exp_basic_interest_rate_y','exp_US$_currency_y', 'Orange']\n",
    "\n",
    "# Dropping columns\n",
    "df_BR_debt.drop(columns_to_drop, axis=1, inplace=True)\n",
    "\n",
    "# Setting date as index\n",
    "df_BR_debt.set_index('date', inplace=True)"
   ]
  },
  {
   "cell_type": "code",
   "execution_count": 101,
   "metadata": {},
   "outputs": [
    {
     "data": {
      "text/plain": [
       "(278, 16)"
      ]
     },
     "execution_count": 101,
     "metadata": {},
     "output_type": "execute_result"
    }
   ],
   "source": [
    "df_BR_debt.shape"
   ]
  },
  {
   "cell_type": "code",
   "execution_count": 102,
   "metadata": {},
   "outputs": [],
   "source": [
    "# Code to normalize the dataset\n",
    "\n",
    "# Select numerical columns (excluding any time/date or categorical columns)\n",
    "numerical_cols = df_BR_debt.select_dtypes(include=['float64', 'int64']).columns\n",
    "\n",
    "# Standardization\n",
    "# scaler = StandardScaler()\n",
    "# df_standardized = df.copy()\n",
    "# df_standardized[numerical_cols] = scaler.fit_transform(df[numerical_cols])\n",
    "\n",
    "# Normalization\n",
    "min_max_scaler = MinMaxScaler()\n",
    "BR_param_norm = df_BR_debt.copy()\n",
    "BR_param_norm[numerical_cols] = min_max_scaler.fit_transform(df_BR_debt[numerical_cols])\n"
   ]
  },
  {
   "cell_type": "code",
   "execution_count": 103,
   "metadata": {},
   "outputs": [
    {
     "data": {
      "text/plain": [
       "(278, 16)"
      ]
     },
     "execution_count": 103,
     "metadata": {},
     "output_type": "execute_result"
    }
   ],
   "source": [
    "BR_param_norm.shape"
   ]
  },
  {
   "cell_type": "code",
   "execution_count": 104,
   "metadata": {},
   "outputs": [
    {
     "name": "stdout",
     "output_type": "stream",
     "text": [
      "One more wave of adjustments done. Remaining variables to adjust: 16\n",
      "One more wave of adjustments done. Remaining variables to adjust: 2\n",
      "One more wave of adjustments done. Remaining variables to adjust: 1\n",
      "One more wave of adjustments done. Remaining variables to adjust: 0\n"
     ]
    }
   ],
   "source": [
    "# This chunck of code is to check the stationarity of the dataset and eventually make it stationary\n",
    "\n",
    "# Function to check stationarity using ADF test\n",
    "def check_stationarity(data):\n",
    "    # Remove missing or infinite values from the data\n",
    "    clean_data = data.replace([np.inf, -np.inf], np.nan).dropna()\n",
    "    \n",
    "    # Check if there are still valid data points after removing missing or infinite values\n",
    "    if len(clean_data) > 0:\n",
    "        result = adfuller(clean_data)\n",
    "        p_value = result[1]\n",
    "        return p_value\n",
    "    else:\n",
    "        return np.nan  # Return NaN if all data points are missing or infinite\n",
    "\n",
    "# track variables that need adjustment\n",
    "variables_to_adjust = BR_param_norm.columns.tolist()  # Start with all columns\n",
    "\n",
    "# Sometimes the variable needs to be differentiated more than once to achieve stationarity\n",
    "# Dictionary to track the order of differentiation for each variable\n",
    "differentiation_order = {column: 1 for column in variables_to_adjust if column != 'date'}\n",
    "\n",
    "# Check stationarity of each variable iteratively until all are stationary\n",
    "while variables_to_adjust:\n",
    "    # Initialize list for next iteration\n",
    "    variables_to_adjust_next = []  \n",
    "    \n",
    "    # Iterate over variables that need adjustment\n",
    "    for column in variables_to_adjust:\n",
    "        if column != BR_param_norm.index.name: # Code to execute if the column is not the index\n",
    "            p_value = check_stationarity(BR_param_norm[column]) # Get the p_value for the ADF test\n",
    "            if not np.isnan(p_value) and p_value > 0.05:\n",
    "                order = differentiation_order[column]  # Get the current order of differentiation\n",
    "                BR_param_norm[column] = BR_param_norm[column].diff(order).fillna(0)  # Take the difference with the current order\n",
    "                differentiation_order[column] += 1  # Increment the order of differentiation for the next iteration\n",
    "                variables_to_adjust_next.append(column)  # Add variable for further adjustment\n",
    "            else:\n",
    "                variables_to_adjust.remove(column)  # Remove variable if stationary\n",
    "        \n",
    "    # Update variables_to_adjust for next iteration\n",
    "    variables_to_adjust = variables_to_adjust_next\n",
    "    print(\"One more wave of adjustments done. Remaining variables to adjust:\", len(variables_to_adjust))\n",
    "\n",
    "# #Print variables that were adjusted to achieve stationarity\n",
    "# if len(variables_to_adjust) > 0:\n",
    "#     print(\"The following variables needed to be adjusted to achieve stationarity:\")\n",
    "#     print(variables_to_adjust)\n",
    "# else:\n",
    "#     print(\"All variables are already stationary.\")"
   ]
  },
  {
   "cell_type": "code",
   "execution_count": 105,
   "metadata": {},
   "outputs": [
    {
     "data": {
      "text/plain": [
       "(278, 16)"
      ]
     },
     "execution_count": 105,
     "metadata": {},
     "output_type": "execute_result"
    }
   ],
   "source": [
    "BR_param_norm.shape"
   ]
  },
  {
   "cell_type": "code",
   "execution_count": 106,
   "metadata": {},
   "outputs": [
    {
     "data": {
      "text/html": [
       "<div>\n",
       "<style scoped>\n",
       "    .dataframe tbody tr th:only-of-type {\n",
       "        vertical-align: middle;\n",
       "    }\n",
       "\n",
       "    .dataframe tbody tr th {\n",
       "        vertical-align: top;\n",
       "    }\n",
       "\n",
       "    .dataframe thead th {\n",
       "        text-align: right;\n",
       "    }\n",
       "</style>\n",
       "<table border=\"1\" class=\"dataframe\">\n",
       "  <thead>\n",
       "    <tr style=\"text-align: right;\">\n",
       "      <th></th>\n",
       "      <th>eco_net_debt_R$</th>\n",
       "      <th>eco_net_debt_R$_federal_govt</th>\n",
       "      <th>eco_GDP_R$_12_months</th>\n",
       "      <th>Coffee</th>\n",
       "      <th>Iron Ore</th>\n",
       "      <th>Meat index</th>\n",
       "      <th>Soybeans</th>\n",
       "      <th>Sugar</th>\n",
       "      <th>bud_group_personal_spent_value</th>\n",
       "      <th>bud_type_mandatory_spent_value</th>\n",
       "      <th>exp_DIC_y</th>\n",
       "      <th>exp_trade_balance_y</th>\n",
       "      <th>CNY</th>\n",
       "      <th>EUR</th>\n",
       "      <th>USD</th>\n",
       "      <th>eco_total_revenue</th>\n",
       "    </tr>\n",
       "    <tr>\n",
       "      <th>date</th>\n",
       "      <th></th>\n",
       "      <th></th>\n",
       "      <th></th>\n",
       "      <th></th>\n",
       "      <th></th>\n",
       "      <th></th>\n",
       "      <th></th>\n",
       "      <th></th>\n",
       "      <th></th>\n",
       "      <th></th>\n",
       "      <th></th>\n",
       "      <th></th>\n",
       "      <th></th>\n",
       "      <th></th>\n",
       "      <th></th>\n",
       "      <th></th>\n",
       "    </tr>\n",
       "  </thead>\n",
       "  <tbody>\n",
       "    <tr>\n",
       "      <th>2001-01</th>\n",
       "      <td>0.000000</td>\n",
       "      <td>0.000000</td>\n",
       "      <td>0.000000</td>\n",
       "      <td>0.000000</td>\n",
       "      <td>0.0</td>\n",
       "      <td>0.000000</td>\n",
       "      <td>0.000000</td>\n",
       "      <td>0.000000</td>\n",
       "      <td>0.0</td>\n",
       "      <td>0.0</td>\n",
       "      <td>0.000000</td>\n",
       "      <td>0.000000</td>\n",
       "      <td>0.000000</td>\n",
       "      <td>0.000000</td>\n",
       "      <td>0.000000</td>\n",
       "      <td>0.000000</td>\n",
       "    </tr>\n",
       "    <tr>\n",
       "      <th>2001-02</th>\n",
       "      <td>0.001540</td>\n",
       "      <td>0.001741</td>\n",
       "      <td>0.000000</td>\n",
       "      <td>0.006594</td>\n",
       "      <td>0.0</td>\n",
       "      <td>0.016707</td>\n",
       "      <td>-0.017165</td>\n",
       "      <td>-0.026579</td>\n",
       "      <td>0.0</td>\n",
       "      <td>0.0</td>\n",
       "      <td>0.000000</td>\n",
       "      <td>-0.009244</td>\n",
       "      <td>0.013710</td>\n",
       "      <td>0.009800</td>\n",
       "      <td>0.017578</td>\n",
       "      <td>-0.019192</td>\n",
       "    </tr>\n",
       "    <tr>\n",
       "      <th>2001-03</th>\n",
       "      <td>0.002021</td>\n",
       "      <td>0.001652</td>\n",
       "      <td>0.000000</td>\n",
       "      <td>-0.002477</td>\n",
       "      <td>0.0</td>\n",
       "      <td>0.062944</td>\n",
       "      <td>-0.006628</td>\n",
       "      <td>-0.024790</td>\n",
       "      <td>0.0</td>\n",
       "      <td>0.0</td>\n",
       "      <td>-0.007171</td>\n",
       "      <td>-0.008764</td>\n",
       "      <td>0.021579</td>\n",
       "      <td>0.002074</td>\n",
       "      <td>0.027612</td>\n",
       "      <td>0.008275</td>\n",
       "    </tr>\n",
       "    <tr>\n",
       "      <th>2001-04</th>\n",
       "      <td>0.000605</td>\n",
       "      <td>0.001101</td>\n",
       "      <td>0.000655</td>\n",
       "      <td>-0.002715</td>\n",
       "      <td>0.0</td>\n",
       "      <td>0.001111</td>\n",
       "      <td>-0.012416</td>\n",
       "      <td>-0.025651</td>\n",
       "      <td>0.0</td>\n",
       "      <td>0.0</td>\n",
       "      <td>-0.009778</td>\n",
       "      <td>-0.003001</td>\n",
       "      <td>0.004290</td>\n",
       "      <td>0.008194</td>\n",
       "      <td>0.005480</td>\n",
       "      <td>0.007732</td>\n",
       "    </tr>\n",
       "    <tr>\n",
       "      <th>2001-05</th>\n",
       "      <td>0.002808</td>\n",
       "      <td>0.002762</td>\n",
       "      <td>-0.000336</td>\n",
       "      <td>0.014764</td>\n",
       "      <td>0.0</td>\n",
       "      <td>0.032169</td>\n",
       "      <td>0.011328</td>\n",
       "      <td>0.034410</td>\n",
       "      <td>0.0</td>\n",
       "      <td>0.0</td>\n",
       "      <td>-0.022164</td>\n",
       "      <td>-0.003001</td>\n",
       "      <td>0.032480</td>\n",
       "      <td>0.012233</td>\n",
       "      <td>0.041585</td>\n",
       "      <td>-0.003013</td>\n",
       "    </tr>\n",
       "  </tbody>\n",
       "</table>\n",
       "</div>"
      ],
      "text/plain": [
       "         eco_net_debt_R$  eco_net_debt_R$_federal_govt  eco_GDP_R$_12_months  \\\n",
       "date                                                                           \n",
       "2001-01         0.000000                      0.000000              0.000000   \n",
       "2001-02         0.001540                      0.001741              0.000000   \n",
       "2001-03         0.002021                      0.001652              0.000000   \n",
       "2001-04         0.000605                      0.001101              0.000655   \n",
       "2001-05         0.002808                      0.002762             -0.000336   \n",
       "\n",
       "           Coffee  Iron Ore  Meat index  Soybeans     Sugar  \\\n",
       "date                                                          \n",
       "2001-01  0.000000       0.0    0.000000  0.000000  0.000000   \n",
       "2001-02  0.006594       0.0    0.016707 -0.017165 -0.026579   \n",
       "2001-03 -0.002477       0.0    0.062944 -0.006628 -0.024790   \n",
       "2001-04 -0.002715       0.0    0.001111 -0.012416 -0.025651   \n",
       "2001-05  0.014764       0.0    0.032169  0.011328  0.034410   \n",
       "\n",
       "         bud_group_personal_spent_value  bud_type_mandatory_spent_value  \\\n",
       "date                                                                      \n",
       "2001-01                             0.0                             0.0   \n",
       "2001-02                             0.0                             0.0   \n",
       "2001-03                             0.0                             0.0   \n",
       "2001-04                             0.0                             0.0   \n",
       "2001-05                             0.0                             0.0   \n",
       "\n",
       "         exp_DIC_y  exp_trade_balance_y       CNY       EUR       USD  \\\n",
       "date                                                                    \n",
       "2001-01   0.000000             0.000000  0.000000  0.000000  0.000000   \n",
       "2001-02   0.000000            -0.009244  0.013710  0.009800  0.017578   \n",
       "2001-03  -0.007171            -0.008764  0.021579  0.002074  0.027612   \n",
       "2001-04  -0.009778            -0.003001  0.004290  0.008194  0.005480   \n",
       "2001-05  -0.022164            -0.003001  0.032480  0.012233  0.041585   \n",
       "\n",
       "         eco_total_revenue  \n",
       "date                        \n",
       "2001-01           0.000000  \n",
       "2001-02          -0.019192  \n",
       "2001-03           0.008275  \n",
       "2001-04           0.007732  \n",
       "2001-05          -0.003013  "
      ]
     },
     "execution_count": 106,
     "metadata": {},
     "output_type": "execute_result"
    }
   ],
   "source": [
    "BR_param_norm.head()"
   ]
  },
  {
   "cell_type": "code",
   "execution_count": 107,
   "metadata": {},
   "outputs": [],
   "source": [
    "BR_param_norm.to_csv('../data/BR_param_norm.csv', index=True)"
   ]
  },
  {
   "cell_type": "code",
   "execution_count": 108,
   "metadata": {},
   "outputs": [
    {
     "data": {
      "text/plain": [
       "Index(['eco_net_debt_R$', 'eco_net_debt_R$_federal_govt',\n",
       "       'eco_GDP_R$_12_months', 'Coffee', 'Iron Ore', 'Meat index', 'Soybeans',\n",
       "       'Sugar', 'bud_group_personal_spent_value',\n",
       "       'bud_type_mandatory_spent_value', 'exp_DIC_y', 'exp_trade_balance_y',\n",
       "       'CNY', 'EUR', 'USD', 'eco_total_revenue'],\n",
       "      dtype='object')"
      ]
     },
     "execution_count": 108,
     "metadata": {},
     "output_type": "execute_result"
    }
   ],
   "source": [
    "BR_param_norm.columns"
   ]
  },
  {
   "cell_type": "code",
   "execution_count": null,
   "metadata": {},
   "outputs": [],
   "source": []
  },
  {
   "cell_type": "code",
   "execution_count": 109,
   "metadata": {},
   "outputs": [
    {
     "name": "stdout",
     "output_type": "stream",
     "text": [
      "New features created using pd.concat, avoiding DataFrame fragmentation.\n",
      "Total columns in the dataframe now: 112\n"
     ]
    }
   ],
   "source": [
    "# Now, let´s create some other variables to be used in the models\n",
    "\n",
    "# Exclude the 'index' column from feature engineering\n",
    "#features = BR_param_norm.columns.drop(['date'])  # Exclude 'date' as well since it's not a variable to engineer\n",
    "features = BR_param_norm.columns\n",
    "\n",
    "# Initialize a list to hold the new feature DataFrames\n",
    "new_features = []\n",
    "\n",
    "# Create lag and rolling window features for all variables\n",
    "for feature in features:\n",
    "    for lag in [1, 2, 6, 12]:\n",
    "        new_features.append(BR_param_norm[feature].shift(lag).rename(f'{feature}_lag_{lag}'))\n",
    "    new_features.append(BR_param_norm[feature].rolling(window=12).mean().rename(f'{feature}_roll_mean_12'))\n",
    "    new_features.append(BR_param_norm[feature].rolling(window=12).std().rename(f'{feature}_roll_std_12'))\n",
    "\n",
    "# Concatenate all new features with the original DataFrame\n",
    "BR_param_norm = pd.concat([BR_param_norm] + new_features, axis=1)\n"
   ]
  },
  {
   "cell_type": "code",
   "execution_count": 69,
   "metadata": {},
   "outputs": [
    {
     "name": "stderr",
     "output_type": "stream",
     "text": [
      "Summarize dataset:   0%|          | 0/5 [00:00<?, ?it/s]"
     ]
    },
    {
     "name": "stderr",
     "output_type": "stream",
     "text": [
      "Summarize dataset:  29%|██▊       | 6/21 [00:00<00:00, 32.78it/s, Describe variable:Iron Ore]                    \n"
     ]
    },
    {
     "ename": "MemoryError",
     "evalue": "Unable to allocate 6.38 PiB for an array with shape (897592453862868,) and data type float64",
     "output_type": "error",
     "traceback": [
      "\u001b[1;31m---------------------------------------------------------------------------\u001b[0m",
      "\u001b[1;31mMemoryError\u001b[0m                               Traceback (most recent call last)",
      "Cell \u001b[1;32mIn[69], line 3\u001b[0m\n\u001b[0;32m      1\u001b[0m profile \u001b[38;5;241m=\u001b[39m ProfileReport(BR_param_norm, title\u001b[38;5;241m=\u001b[39m\u001b[38;5;124m\"\u001b[39m\u001b[38;5;124mProfiling Report\u001b[39m\u001b[38;5;124m\"\u001b[39m)\n\u001b[0;32m      2\u001b[0m \u001b[38;5;66;03m#profile = ProfileReport(df_BR_debt, tsmode=True, sortby=\"Date Local\")\u001b[39;00m\n\u001b[1;32m----> 3\u001b[0m \u001b[43mprofile\u001b[49m\u001b[38;5;241;43m.\u001b[39;49m\u001b[43mto_file\u001b[49m\u001b[43m(\u001b[49m\u001b[38;5;124;43m'\u001b[39;49m\u001b[38;5;124;43mprofile_report.html\u001b[39;49m\u001b[38;5;124;43m'\u001b[39;49m\u001b[43m)\u001b[49m\n",
      "File \u001b[1;32mc:\\Users\\augus\\Meu Drive\\Data_Projects\\MDS\\master_thesis\\fiscal-balance-forecast\\.venv\\lib\\site-packages\\ydata_profiling\\profile_report.py:370\u001b[0m, in \u001b[0;36mProfileReport.to_file\u001b[1;34m(self, output_file, silent)\u001b[0m\n\u001b[0;32m    367\u001b[0m         \u001b[38;5;28mself\u001b[39m\u001b[38;5;241m.\u001b[39mconfig\u001b[38;5;241m.\u001b[39mhtml\u001b[38;5;241m.\u001b[39massets_prefix \u001b[38;5;241m=\u001b[39m \u001b[38;5;28mstr\u001b[39m(output_file\u001b[38;5;241m.\u001b[39mstem) \u001b[38;5;241m+\u001b[39m \u001b[38;5;124m\"\u001b[39m\u001b[38;5;124m_assets\u001b[39m\u001b[38;5;124m\"\u001b[39m\n\u001b[0;32m    368\u001b[0m     create_html_assets(\u001b[38;5;28mself\u001b[39m\u001b[38;5;241m.\u001b[39mconfig, output_file)\n\u001b[1;32m--> 370\u001b[0m data \u001b[38;5;241m=\u001b[39m \u001b[38;5;28mself\u001b[39m\u001b[38;5;241m.\u001b[39mto_html()\n\u001b[0;32m    372\u001b[0m \u001b[38;5;28;01mif\u001b[39;00m output_file\u001b[38;5;241m.\u001b[39msuffix \u001b[38;5;241m!=\u001b[39m \u001b[38;5;124m\"\u001b[39m\u001b[38;5;124m.html\u001b[39m\u001b[38;5;124m\"\u001b[39m:\n\u001b[0;32m    373\u001b[0m     suffix \u001b[38;5;241m=\u001b[39m output_file\u001b[38;5;241m.\u001b[39msuffix\n",
      "File \u001b[1;32mc:\\Users\\augus\\Meu Drive\\Data_Projects\\MDS\\master_thesis\\fiscal-balance-forecast\\.venv\\lib\\site-packages\\ydata_profiling\\profile_report.py:485\u001b[0m, in \u001b[0;36mProfileReport.to_html\u001b[1;34m(self)\u001b[0m\n\u001b[0;32m    477\u001b[0m \u001b[38;5;28;01mdef\u001b[39;00m \u001b[38;5;21mto_html\u001b[39m(\u001b[38;5;28mself\u001b[39m) \u001b[38;5;241m-\u001b[39m\u001b[38;5;241m>\u001b[39m \u001b[38;5;28mstr\u001b[39m:\n\u001b[0;32m    478\u001b[0m \u001b[38;5;250m    \u001b[39m\u001b[38;5;124;03m\"\"\"Generate and return complete template as lengthy string\u001b[39;00m\n\u001b[0;32m    479\u001b[0m \u001b[38;5;124;03m        for using with frameworks.\u001b[39;00m\n\u001b[0;32m    480\u001b[0m \n\u001b[1;32m   (...)\u001b[0m\n\u001b[0;32m    483\u001b[0m \n\u001b[0;32m    484\u001b[0m \u001b[38;5;124;03m    \"\"\"\u001b[39;00m\n\u001b[1;32m--> 485\u001b[0m     \u001b[38;5;28;01mreturn\u001b[39;00m \u001b[38;5;28mself\u001b[39m\u001b[38;5;241m.\u001b[39mhtml\n",
      "File \u001b[1;32mc:\\Users\\augus\\Meu Drive\\Data_Projects\\MDS\\master_thesis\\fiscal-balance-forecast\\.venv\\lib\\site-packages\\ydata_profiling\\profile_report.py:283\u001b[0m, in \u001b[0;36mProfileReport.html\u001b[1;34m(self)\u001b[0m\n\u001b[0;32m    280\u001b[0m \u001b[38;5;129m@property\u001b[39m\n\u001b[0;32m    281\u001b[0m \u001b[38;5;28;01mdef\u001b[39;00m \u001b[38;5;21mhtml\u001b[39m(\u001b[38;5;28mself\u001b[39m) \u001b[38;5;241m-\u001b[39m\u001b[38;5;241m>\u001b[39m \u001b[38;5;28mstr\u001b[39m:\n\u001b[0;32m    282\u001b[0m     \u001b[38;5;28;01mif\u001b[39;00m \u001b[38;5;28mself\u001b[39m\u001b[38;5;241m.\u001b[39m_html \u001b[38;5;129;01mis\u001b[39;00m \u001b[38;5;28;01mNone\u001b[39;00m:\n\u001b[1;32m--> 283\u001b[0m         \u001b[38;5;28mself\u001b[39m\u001b[38;5;241m.\u001b[39m_html \u001b[38;5;241m=\u001b[39m \u001b[38;5;28mself\u001b[39m\u001b[38;5;241m.\u001b[39m_render_html()\n\u001b[0;32m    284\u001b[0m     \u001b[38;5;28;01mreturn\u001b[39;00m \u001b[38;5;28mself\u001b[39m\u001b[38;5;241m.\u001b[39m_html\n",
      "File \u001b[1;32mc:\\Users\\augus\\Meu Drive\\Data_Projects\\MDS\\master_thesis\\fiscal-balance-forecast\\.venv\\lib\\site-packages\\ydata_profiling\\profile_report.py:400\u001b[0m, in \u001b[0;36mProfileReport._render_html\u001b[1;34m(self)\u001b[0m\n\u001b[0;32m    397\u001b[0m \u001b[38;5;28;01mdef\u001b[39;00m \u001b[38;5;21m_render_html\u001b[39m(\u001b[38;5;28mself\u001b[39m) \u001b[38;5;241m-\u001b[39m\u001b[38;5;241m>\u001b[39m \u001b[38;5;28mstr\u001b[39m:\n\u001b[0;32m    398\u001b[0m     \u001b[38;5;28;01mfrom\u001b[39;00m \u001b[38;5;21;01mydata_profiling\u001b[39;00m\u001b[38;5;21;01m.\u001b[39;00m\u001b[38;5;21;01mreport\u001b[39;00m\u001b[38;5;21;01m.\u001b[39;00m\u001b[38;5;21;01mpresentation\u001b[39;00m\u001b[38;5;21;01m.\u001b[39;00m\u001b[38;5;21;01mflavours\u001b[39;00m \u001b[38;5;28;01mimport\u001b[39;00m HTMLReport\n\u001b[1;32m--> 400\u001b[0m     report \u001b[38;5;241m=\u001b[39m \u001b[38;5;28mself\u001b[39m\u001b[38;5;241m.\u001b[39mreport\n\u001b[0;32m    402\u001b[0m     \u001b[38;5;28;01mwith\u001b[39;00m tqdm(\n\u001b[0;32m    403\u001b[0m         total\u001b[38;5;241m=\u001b[39m\u001b[38;5;241m1\u001b[39m, desc\u001b[38;5;241m=\u001b[39m\u001b[38;5;124m\"\u001b[39m\u001b[38;5;124mRender HTML\u001b[39m\u001b[38;5;124m\"\u001b[39m, disable\u001b[38;5;241m=\u001b[39m\u001b[38;5;129;01mnot\u001b[39;00m \u001b[38;5;28mself\u001b[39m\u001b[38;5;241m.\u001b[39mconfig\u001b[38;5;241m.\u001b[39mprogress_bar\n\u001b[0;32m    404\u001b[0m     ) \u001b[38;5;28;01mas\u001b[39;00m pbar:\n\u001b[0;32m    405\u001b[0m         html \u001b[38;5;241m=\u001b[39m HTMLReport(copy\u001b[38;5;241m.\u001b[39mdeepcopy(report))\u001b[38;5;241m.\u001b[39mrender(\n\u001b[0;32m    406\u001b[0m             nav\u001b[38;5;241m=\u001b[39m\u001b[38;5;28mself\u001b[39m\u001b[38;5;241m.\u001b[39mconfig\u001b[38;5;241m.\u001b[39mhtml\u001b[38;5;241m.\u001b[39mnavbar_show,\n\u001b[0;32m    407\u001b[0m             offline\u001b[38;5;241m=\u001b[39m\u001b[38;5;28mself\u001b[39m\u001b[38;5;241m.\u001b[39mconfig\u001b[38;5;241m.\u001b[39mhtml\u001b[38;5;241m.\u001b[39muse_local_assets,\n\u001b[1;32m   (...)\u001b[0m\n\u001b[0;32m    415\u001b[0m             version\u001b[38;5;241m=\u001b[39m\u001b[38;5;28mself\u001b[39m\u001b[38;5;241m.\u001b[39mdescription_set\u001b[38;5;241m.\u001b[39mpackage[\u001b[38;5;124m\"\u001b[39m\u001b[38;5;124mydata_profiling_version\u001b[39m\u001b[38;5;124m\"\u001b[39m],\n\u001b[0;32m    416\u001b[0m         )\n",
      "File \u001b[1;32mc:\\Users\\augus\\Meu Drive\\Data_Projects\\MDS\\master_thesis\\fiscal-balance-forecast\\.venv\\lib\\site-packages\\ydata_profiling\\profile_report.py:277\u001b[0m, in \u001b[0;36mProfileReport.report\u001b[1;34m(self)\u001b[0m\n\u001b[0;32m    274\u001b[0m \u001b[38;5;129m@property\u001b[39m\n\u001b[0;32m    275\u001b[0m \u001b[38;5;28;01mdef\u001b[39;00m \u001b[38;5;21mreport\u001b[39m(\u001b[38;5;28mself\u001b[39m) \u001b[38;5;241m-\u001b[39m\u001b[38;5;241m>\u001b[39m Root:\n\u001b[0;32m    276\u001b[0m     \u001b[38;5;28;01mif\u001b[39;00m \u001b[38;5;28mself\u001b[39m\u001b[38;5;241m.\u001b[39m_report \u001b[38;5;129;01mis\u001b[39;00m \u001b[38;5;28;01mNone\u001b[39;00m:\n\u001b[1;32m--> 277\u001b[0m         \u001b[38;5;28mself\u001b[39m\u001b[38;5;241m.\u001b[39m_report \u001b[38;5;241m=\u001b[39m get_report_structure(\u001b[38;5;28mself\u001b[39m\u001b[38;5;241m.\u001b[39mconfig, \u001b[38;5;28mself\u001b[39m\u001b[38;5;241m.\u001b[39mdescription_set)\n\u001b[0;32m    278\u001b[0m     \u001b[38;5;28;01mreturn\u001b[39;00m \u001b[38;5;28mself\u001b[39m\u001b[38;5;241m.\u001b[39m_report\n",
      "File \u001b[1;32mc:\\Users\\augus\\Meu Drive\\Data_Projects\\MDS\\master_thesis\\fiscal-balance-forecast\\.venv\\lib\\site-packages\\ydata_profiling\\profile_report.py:259\u001b[0m, in \u001b[0;36mProfileReport.description_set\u001b[1;34m(self)\u001b[0m\n\u001b[0;32m    256\u001b[0m \u001b[38;5;129m@property\u001b[39m\n\u001b[0;32m    257\u001b[0m \u001b[38;5;28;01mdef\u001b[39;00m \u001b[38;5;21mdescription_set\u001b[39m(\u001b[38;5;28mself\u001b[39m) \u001b[38;5;241m-\u001b[39m\u001b[38;5;241m>\u001b[39m BaseDescription:\n\u001b[0;32m    258\u001b[0m     \u001b[38;5;28;01mif\u001b[39;00m \u001b[38;5;28mself\u001b[39m\u001b[38;5;241m.\u001b[39m_description_set \u001b[38;5;129;01mis\u001b[39;00m \u001b[38;5;28;01mNone\u001b[39;00m:\n\u001b[1;32m--> 259\u001b[0m         \u001b[38;5;28mself\u001b[39m\u001b[38;5;241m.\u001b[39m_description_set \u001b[38;5;241m=\u001b[39m describe_df(\n\u001b[0;32m    260\u001b[0m             \u001b[38;5;28mself\u001b[39m\u001b[38;5;241m.\u001b[39mconfig,\n\u001b[0;32m    261\u001b[0m             \u001b[38;5;28mself\u001b[39m\u001b[38;5;241m.\u001b[39mdf,\n\u001b[0;32m    262\u001b[0m             \u001b[38;5;28mself\u001b[39m\u001b[38;5;241m.\u001b[39msummarizer,\n\u001b[0;32m    263\u001b[0m             \u001b[38;5;28mself\u001b[39m\u001b[38;5;241m.\u001b[39mtypeset,\n\u001b[0;32m    264\u001b[0m             \u001b[38;5;28mself\u001b[39m\u001b[38;5;241m.\u001b[39m_sample,\n\u001b[0;32m    265\u001b[0m         )\n\u001b[0;32m    266\u001b[0m     \u001b[38;5;28;01mreturn\u001b[39;00m \u001b[38;5;28mself\u001b[39m\u001b[38;5;241m.\u001b[39m_description_set\n",
      "File \u001b[1;32mc:\\Users\\augus\\Meu Drive\\Data_Projects\\MDS\\master_thesis\\fiscal-balance-forecast\\.venv\\lib\\site-packages\\ydata_profiling\\model\\describe.py:74\u001b[0m, in \u001b[0;36mdescribe\u001b[1;34m(config, df, summarizer, typeset, sample)\u001b[0m\n\u001b[0;32m     72\u001b[0m \u001b[38;5;66;03m# Variable-specific\u001b[39;00m\n\u001b[0;32m     73\u001b[0m pbar\u001b[38;5;241m.\u001b[39mtotal \u001b[38;5;241m+\u001b[39m\u001b[38;5;241m=\u001b[39m \u001b[38;5;28mlen\u001b[39m(df\u001b[38;5;241m.\u001b[39mcolumns)\n\u001b[1;32m---> 74\u001b[0m series_description \u001b[38;5;241m=\u001b[39m \u001b[43mget_series_descriptions\u001b[49m\u001b[43m(\u001b[49m\n\u001b[0;32m     75\u001b[0m \u001b[43m    \u001b[49m\u001b[43mconfig\u001b[49m\u001b[43m,\u001b[49m\u001b[43m \u001b[49m\u001b[43mdf\u001b[49m\u001b[43m,\u001b[49m\u001b[43m \u001b[49m\u001b[43msummarizer\u001b[49m\u001b[43m,\u001b[49m\u001b[43m \u001b[49m\u001b[43mtypeset\u001b[49m\u001b[43m,\u001b[49m\u001b[43m \u001b[49m\u001b[43mpbar\u001b[49m\n\u001b[0;32m     76\u001b[0m \u001b[43m\u001b[49m\u001b[43m)\u001b[49m\n\u001b[0;32m     78\u001b[0m pbar\u001b[38;5;241m.\u001b[39mset_postfix_str(\u001b[38;5;124m\"\u001b[39m\u001b[38;5;124mGet variable types\u001b[39m\u001b[38;5;124m\"\u001b[39m)\n\u001b[0;32m     79\u001b[0m pbar\u001b[38;5;241m.\u001b[39mtotal \u001b[38;5;241m+\u001b[39m\u001b[38;5;241m=\u001b[39m \u001b[38;5;241m1\u001b[39m\n",
      "File \u001b[1;32mc:\\Users\\augus\\Meu Drive\\Data_Projects\\MDS\\master_thesis\\fiscal-balance-forecast\\.venv\\lib\\site-packages\\multimethod\\__init__.py:363\u001b[0m, in \u001b[0;36mmultimethod.__call__\u001b[1;34m(self, *args, **kwargs)\u001b[0m\n\u001b[0;32m    361\u001b[0m func \u001b[38;5;241m=\u001b[39m \u001b[38;5;28mself\u001b[39m\u001b[38;5;241m.\u001b[39mdispatch(\u001b[38;5;241m*\u001b[39margs)\n\u001b[0;32m    362\u001b[0m \u001b[38;5;28;01mtry\u001b[39;00m:\n\u001b[1;32m--> 363\u001b[0m     \u001b[38;5;28;01mreturn\u001b[39;00m func(\u001b[38;5;241m*\u001b[39margs, \u001b[38;5;241m*\u001b[39m\u001b[38;5;241m*\u001b[39mkwargs)\n\u001b[0;32m    364\u001b[0m \u001b[38;5;28;01mexcept\u001b[39;00m \u001b[38;5;167;01mTypeError\u001b[39;00m \u001b[38;5;28;01mas\u001b[39;00m ex:\n\u001b[0;32m    365\u001b[0m     \u001b[38;5;28;01mraise\u001b[39;00m DispatchError(\u001b[38;5;124mf\u001b[39m\u001b[38;5;124m\"\u001b[39m\u001b[38;5;124mFunction \u001b[39m\u001b[38;5;132;01m{\u001b[39;00mfunc\u001b[38;5;241m.\u001b[39m\u001b[38;5;18m__code__\u001b[39m\u001b[38;5;132;01m}\u001b[39;00m\u001b[38;5;124m\"\u001b[39m) \u001b[38;5;28;01mfrom\u001b[39;00m \u001b[38;5;21;01mex\u001b[39;00m\n",
      "File \u001b[1;32mc:\\Users\\augus\\Meu Drive\\Data_Projects\\MDS\\master_thesis\\fiscal-balance-forecast\\.venv\\lib\\site-packages\\ydata_profiling\\model\\pandas\\summary_pandas.py:99\u001b[0m, in \u001b[0;36mpandas_get_series_descriptions\u001b[1;34m(config, df, summarizer, typeset, pbar)\u001b[0m\n\u001b[0;32m     96\u001b[0m \u001b[38;5;28;01melse\u001b[39;00m:\n\u001b[0;32m     97\u001b[0m     \u001b[38;5;66;03m# TODO: use `Pool` for Linux-based systems\u001b[39;00m\n\u001b[0;32m     98\u001b[0m     \u001b[38;5;28;01mwith\u001b[39;00m multiprocessing\u001b[38;5;241m.\u001b[39mpool\u001b[38;5;241m.\u001b[39mThreadPool(pool_size) \u001b[38;5;28;01mas\u001b[39;00m executor:\n\u001b[1;32m---> 99\u001b[0m         \u001b[38;5;28;01mfor\u001b[39;00m i, (column, description) \u001b[38;5;129;01min\u001b[39;00m \u001b[38;5;28menumerate\u001b[39m(\n\u001b[0;32m    100\u001b[0m             executor\u001b[38;5;241m.\u001b[39mimap_unordered(multiprocess_1d, args)\n\u001b[0;32m    101\u001b[0m         ):\n\u001b[0;32m    102\u001b[0m             pbar\u001b[38;5;241m.\u001b[39mset_postfix_str(\u001b[38;5;124mf\u001b[39m\u001b[38;5;124m\"\u001b[39m\u001b[38;5;124mDescribe variable:\u001b[39m\u001b[38;5;132;01m{\u001b[39;00mcolumn\u001b[38;5;132;01m}\u001b[39;00m\u001b[38;5;124m\"\u001b[39m)\n\u001b[0;32m    103\u001b[0m             series_description[column] \u001b[38;5;241m=\u001b[39m description\n",
      "File \u001b[1;32m~\\AppData\\Local\\Programs\\Python\\Python39\\lib\\multiprocessing\\pool.py:870\u001b[0m, in \u001b[0;36mIMapIterator.next\u001b[1;34m(self, timeout)\u001b[0m\n\u001b[0;32m    868\u001b[0m \u001b[38;5;28;01mif\u001b[39;00m success:\n\u001b[0;32m    869\u001b[0m     \u001b[38;5;28;01mreturn\u001b[39;00m value\n\u001b[1;32m--> 870\u001b[0m \u001b[38;5;28;01mraise\u001b[39;00m value\n",
      "File \u001b[1;32m~\\AppData\\Local\\Programs\\Python\\Python39\\lib\\multiprocessing\\pool.py:125\u001b[0m, in \u001b[0;36mworker\u001b[1;34m(inqueue, outqueue, initializer, initargs, maxtasks, wrap_exception)\u001b[0m\n\u001b[0;32m    123\u001b[0m job, i, func, args, kwds \u001b[38;5;241m=\u001b[39m task\n\u001b[0;32m    124\u001b[0m \u001b[38;5;28;01mtry\u001b[39;00m:\n\u001b[1;32m--> 125\u001b[0m     result \u001b[38;5;241m=\u001b[39m (\u001b[38;5;28;01mTrue\u001b[39;00m, func(\u001b[38;5;241m*\u001b[39margs, \u001b[38;5;241m*\u001b[39m\u001b[38;5;241m*\u001b[39mkwds))\n\u001b[0;32m    126\u001b[0m \u001b[38;5;28;01mexcept\u001b[39;00m \u001b[38;5;167;01mException\u001b[39;00m \u001b[38;5;28;01mas\u001b[39;00m e:\n\u001b[0;32m    127\u001b[0m     \u001b[38;5;28;01mif\u001b[39;00m wrap_exception \u001b[38;5;129;01mand\u001b[39;00m func \u001b[38;5;129;01mis\u001b[39;00m \u001b[38;5;129;01mnot\u001b[39;00m _helper_reraises_exception:\n",
      "File \u001b[1;32mc:\\Users\\augus\\Meu Drive\\Data_Projects\\MDS\\master_thesis\\fiscal-balance-forecast\\.venv\\lib\\site-packages\\ydata_profiling\\model\\pandas\\summary_pandas.py:79\u001b[0m, in \u001b[0;36mpandas_get_series_descriptions.<locals>.multiprocess_1d\u001b[1;34m(args)\u001b[0m\n\u001b[0;32m     69\u001b[0m \u001b[38;5;250m\u001b[39m\u001b[38;5;124;03m\"\"\"Wrapper to process series in parallel.\u001b[39;00m\n\u001b[0;32m     70\u001b[0m \n\u001b[0;32m     71\u001b[0m \u001b[38;5;124;03mArgs:\u001b[39;00m\n\u001b[1;32m   (...)\u001b[0m\n\u001b[0;32m     76\u001b[0m \u001b[38;5;124;03m    A tuple with column and the series description.\u001b[39;00m\n\u001b[0;32m     77\u001b[0m \u001b[38;5;124;03m\"\"\"\u001b[39;00m\n\u001b[0;32m     78\u001b[0m column, series \u001b[38;5;241m=\u001b[39m args\n\u001b[1;32m---> 79\u001b[0m \u001b[38;5;28;01mreturn\u001b[39;00m column, \u001b[43mdescribe_1d\u001b[49m\u001b[43m(\u001b[49m\u001b[43mconfig\u001b[49m\u001b[43m,\u001b[49m\u001b[43m \u001b[49m\u001b[43mseries\u001b[49m\u001b[43m,\u001b[49m\u001b[43m \u001b[49m\u001b[43msummarizer\u001b[49m\u001b[43m,\u001b[49m\u001b[43m \u001b[49m\u001b[43mtypeset\u001b[49m\u001b[43m)\u001b[49m\n",
      "File \u001b[1;32mc:\\Users\\augus\\Meu Drive\\Data_Projects\\MDS\\master_thesis\\fiscal-balance-forecast\\.venv\\lib\\site-packages\\multimethod\\__init__.py:363\u001b[0m, in \u001b[0;36mmultimethod.__call__\u001b[1;34m(self, *args, **kwargs)\u001b[0m\n\u001b[0;32m    361\u001b[0m func \u001b[38;5;241m=\u001b[39m \u001b[38;5;28mself\u001b[39m\u001b[38;5;241m.\u001b[39mdispatch(\u001b[38;5;241m*\u001b[39margs)\n\u001b[0;32m    362\u001b[0m \u001b[38;5;28;01mtry\u001b[39;00m:\n\u001b[1;32m--> 363\u001b[0m     \u001b[38;5;28;01mreturn\u001b[39;00m func(\u001b[38;5;241m*\u001b[39margs, \u001b[38;5;241m*\u001b[39m\u001b[38;5;241m*\u001b[39mkwargs)\n\u001b[0;32m    364\u001b[0m \u001b[38;5;28;01mexcept\u001b[39;00m \u001b[38;5;167;01mTypeError\u001b[39;00m \u001b[38;5;28;01mas\u001b[39;00m ex:\n\u001b[0;32m    365\u001b[0m     \u001b[38;5;28;01mraise\u001b[39;00m DispatchError(\u001b[38;5;124mf\u001b[39m\u001b[38;5;124m\"\u001b[39m\u001b[38;5;124mFunction \u001b[39m\u001b[38;5;132;01m{\u001b[39;00mfunc\u001b[38;5;241m.\u001b[39m\u001b[38;5;18m__code__\u001b[39m\u001b[38;5;132;01m}\u001b[39;00m\u001b[38;5;124m\"\u001b[39m) \u001b[38;5;28;01mfrom\u001b[39;00m \u001b[38;5;21;01mex\u001b[39;00m\n",
      "File \u001b[1;32mc:\\Users\\augus\\Meu Drive\\Data_Projects\\MDS\\master_thesis\\fiscal-balance-forecast\\.venv\\lib\\site-packages\\ydata_profiling\\model\\pandas\\summary_pandas.py:57\u001b[0m, in \u001b[0;36mpandas_describe_1d\u001b[1;34m(config, series, summarizer, typeset)\u001b[0m\n\u001b[0;32m     54\u001b[0m     vtype \u001b[38;5;241m=\u001b[39m typeset\u001b[38;5;241m.\u001b[39mdetect_type(series)\n\u001b[0;32m     56\u001b[0m typeset\u001b[38;5;241m.\u001b[39mtype_schema[series\u001b[38;5;241m.\u001b[39mname] \u001b[38;5;241m=\u001b[39m vtype\n\u001b[1;32m---> 57\u001b[0m \u001b[38;5;28;01mreturn\u001b[39;00m \u001b[43msummarizer\u001b[49m\u001b[38;5;241;43m.\u001b[39;49m\u001b[43msummarize\u001b[49m\u001b[43m(\u001b[49m\u001b[43mconfig\u001b[49m\u001b[43m,\u001b[49m\u001b[43m \u001b[49m\u001b[43mseries\u001b[49m\u001b[43m,\u001b[49m\u001b[43m \u001b[49m\u001b[43mdtype\u001b[49m\u001b[38;5;241;43m=\u001b[39;49m\u001b[43mvtype\u001b[49m\u001b[43m)\u001b[49m\n",
      "File \u001b[1;32mc:\\Users\\augus\\Meu Drive\\Data_Projects\\MDS\\master_thesis\\fiscal-balance-forecast\\.venv\\lib\\site-packages\\ydata_profiling\\model\\summarizer.py:42\u001b[0m, in \u001b[0;36mBaseSummarizer.summarize\u001b[1;34m(self, config, series, dtype)\u001b[0m\n\u001b[0;32m     34\u001b[0m \u001b[38;5;28;01mdef\u001b[39;00m \u001b[38;5;21msummarize\u001b[39m(\n\u001b[0;32m     35\u001b[0m     \u001b[38;5;28mself\u001b[39m, config: Settings, series: pd\u001b[38;5;241m.\u001b[39mSeries, dtype: Type[VisionsBaseType]\n\u001b[0;32m     36\u001b[0m ) \u001b[38;5;241m-\u001b[39m\u001b[38;5;241m>\u001b[39m \u001b[38;5;28mdict\u001b[39m:\n\u001b[0;32m     37\u001b[0m \u001b[38;5;250m    \u001b[39m\u001b[38;5;124;03m\"\"\"\u001b[39;00m\n\u001b[0;32m     38\u001b[0m \n\u001b[0;32m     39\u001b[0m \u001b[38;5;124;03m    Returns:\u001b[39;00m\n\u001b[0;32m     40\u001b[0m \u001b[38;5;124;03m        object:\u001b[39;00m\n\u001b[0;32m     41\u001b[0m \u001b[38;5;124;03m    \"\"\"\u001b[39;00m\n\u001b[1;32m---> 42\u001b[0m     _, _, summary \u001b[38;5;241m=\u001b[39m \u001b[38;5;28;43mself\u001b[39;49m\u001b[38;5;241;43m.\u001b[39;49m\u001b[43mhandle\u001b[49m\u001b[43m(\u001b[49m\u001b[38;5;28;43mstr\u001b[39;49m\u001b[43m(\u001b[49m\u001b[43mdtype\u001b[49m\u001b[43m)\u001b[49m\u001b[43m,\u001b[49m\u001b[43m \u001b[49m\u001b[43mconfig\u001b[49m\u001b[43m,\u001b[49m\u001b[43m \u001b[49m\u001b[43mseries\u001b[49m\u001b[43m,\u001b[49m\u001b[43m \u001b[49m\u001b[43m{\u001b[49m\u001b[38;5;124;43m\"\u001b[39;49m\u001b[38;5;124;43mtype\u001b[39;49m\u001b[38;5;124;43m\"\u001b[39;49m\u001b[43m:\u001b[49m\u001b[43m \u001b[49m\u001b[38;5;28;43mstr\u001b[39;49m\u001b[43m(\u001b[49m\u001b[43mdtype\u001b[49m\u001b[43m)\u001b[49m\u001b[43m}\u001b[49m\u001b[43m)\u001b[49m\n\u001b[0;32m     43\u001b[0m     \u001b[38;5;28;01mreturn\u001b[39;00m summary\n",
      "File \u001b[1;32mc:\\Users\\augus\\Meu Drive\\Data_Projects\\MDS\\master_thesis\\fiscal-balance-forecast\\.venv\\lib\\site-packages\\ydata_profiling\\model\\handler.py:62\u001b[0m, in \u001b[0;36mHandler.handle\u001b[1;34m(self, dtype, *args, **kwargs)\u001b[0m\n\u001b[0;32m     60\u001b[0m funcs \u001b[38;5;241m=\u001b[39m \u001b[38;5;28mself\u001b[39m\u001b[38;5;241m.\u001b[39mmapping\u001b[38;5;241m.\u001b[39mget(dtype, [])\n\u001b[0;32m     61\u001b[0m op \u001b[38;5;241m=\u001b[39m compose(funcs)\n\u001b[1;32m---> 62\u001b[0m \u001b[38;5;28;01mreturn\u001b[39;00m \u001b[43mop\u001b[49m\u001b[43m(\u001b[49m\u001b[38;5;241;43m*\u001b[39;49m\u001b[43margs\u001b[49m\u001b[43m)\u001b[49m\n",
      "File \u001b[1;32mc:\\Users\\augus\\Meu Drive\\Data_Projects\\MDS\\master_thesis\\fiscal-balance-forecast\\.venv\\lib\\site-packages\\ydata_profiling\\model\\handler.py:21\u001b[0m, in \u001b[0;36mcompose.<locals>.func.<locals>.func2\u001b[1;34m(*x)\u001b[0m\n\u001b[0;32m     19\u001b[0m     \u001b[38;5;28;01mreturn\u001b[39;00m f(\u001b[38;5;241m*\u001b[39mx)\n\u001b[0;32m     20\u001b[0m \u001b[38;5;28;01melse\u001b[39;00m:\n\u001b[1;32m---> 21\u001b[0m     \u001b[38;5;28;01mreturn\u001b[39;00m \u001b[43mf\u001b[49m\u001b[43m(\u001b[49m\u001b[38;5;241;43m*\u001b[39;49m\u001b[43mres\u001b[49m\u001b[43m)\u001b[49m\n",
      "File \u001b[1;32mc:\\Users\\augus\\Meu Drive\\Data_Projects\\MDS\\master_thesis\\fiscal-balance-forecast\\.venv\\lib\\site-packages\\ydata_profiling\\model\\handler.py:21\u001b[0m, in \u001b[0;36mcompose.<locals>.func.<locals>.func2\u001b[1;34m(*x)\u001b[0m\n\u001b[0;32m     19\u001b[0m     \u001b[38;5;28;01mreturn\u001b[39;00m f(\u001b[38;5;241m*\u001b[39mx)\n\u001b[0;32m     20\u001b[0m \u001b[38;5;28;01melse\u001b[39;00m:\n\u001b[1;32m---> 21\u001b[0m     \u001b[38;5;28;01mreturn\u001b[39;00m \u001b[43mf\u001b[49m\u001b[43m(\u001b[49m\u001b[38;5;241;43m*\u001b[39;49m\u001b[43mres\u001b[49m\u001b[43m)\u001b[49m\n",
      "File \u001b[1;32mc:\\Users\\augus\\Meu Drive\\Data_Projects\\MDS\\master_thesis\\fiscal-balance-forecast\\.venv\\lib\\site-packages\\ydata_profiling\\model\\handler.py:21\u001b[0m, in \u001b[0;36mcompose.<locals>.func.<locals>.func2\u001b[1;34m(*x)\u001b[0m\n\u001b[0;32m     19\u001b[0m     \u001b[38;5;28;01mreturn\u001b[39;00m f(\u001b[38;5;241m*\u001b[39mx)\n\u001b[0;32m     20\u001b[0m \u001b[38;5;28;01melse\u001b[39;00m:\n\u001b[1;32m---> 21\u001b[0m     \u001b[38;5;28;01mreturn\u001b[39;00m \u001b[43mf\u001b[49m\u001b[43m(\u001b[49m\u001b[38;5;241;43m*\u001b[39;49m\u001b[43mres\u001b[49m\u001b[43m)\u001b[49m\n",
      "File \u001b[1;32mc:\\Users\\augus\\Meu Drive\\Data_Projects\\MDS\\master_thesis\\fiscal-balance-forecast\\.venv\\lib\\site-packages\\ydata_profiling\\model\\handler.py:17\u001b[0m, in \u001b[0;36mcompose.<locals>.func.<locals>.func2\u001b[1;34m(*x)\u001b[0m\n\u001b[0;32m     16\u001b[0m \u001b[38;5;28;01mdef\u001b[39;00m \u001b[38;5;21mfunc2\u001b[39m(\u001b[38;5;241m*\u001b[39mx) \u001b[38;5;241m-\u001b[39m\u001b[38;5;241m>\u001b[39m Any:\n\u001b[1;32m---> 17\u001b[0m     res \u001b[38;5;241m=\u001b[39m \u001b[43mg\u001b[49m\u001b[43m(\u001b[49m\u001b[38;5;241;43m*\u001b[39;49m\u001b[43mx\u001b[49m\u001b[43m)\u001b[49m\n\u001b[0;32m     18\u001b[0m     \u001b[38;5;28;01mif\u001b[39;00m \u001b[38;5;28mtype\u001b[39m(res) \u001b[38;5;241m==\u001b[39m \u001b[38;5;28mbool\u001b[39m:\n\u001b[0;32m     19\u001b[0m         \u001b[38;5;28;01mreturn\u001b[39;00m f(\u001b[38;5;241m*\u001b[39mx)\n",
      "File \u001b[1;32mc:\\Users\\augus\\Meu Drive\\Data_Projects\\MDS\\master_thesis\\fiscal-balance-forecast\\.venv\\lib\\site-packages\\multimethod\\__init__.py:363\u001b[0m, in \u001b[0;36mmultimethod.__call__\u001b[1;34m(self, *args, **kwargs)\u001b[0m\n\u001b[0;32m    361\u001b[0m func \u001b[38;5;241m=\u001b[39m \u001b[38;5;28mself\u001b[39m\u001b[38;5;241m.\u001b[39mdispatch(\u001b[38;5;241m*\u001b[39margs)\n\u001b[0;32m    362\u001b[0m \u001b[38;5;28;01mtry\u001b[39;00m:\n\u001b[1;32m--> 363\u001b[0m     \u001b[38;5;28;01mreturn\u001b[39;00m func(\u001b[38;5;241m*\u001b[39margs, \u001b[38;5;241m*\u001b[39m\u001b[38;5;241m*\u001b[39mkwargs)\n\u001b[0;32m    364\u001b[0m \u001b[38;5;28;01mexcept\u001b[39;00m \u001b[38;5;167;01mTypeError\u001b[39;00m \u001b[38;5;28;01mas\u001b[39;00m ex:\n\u001b[0;32m    365\u001b[0m     \u001b[38;5;28;01mraise\u001b[39;00m DispatchError(\u001b[38;5;124mf\u001b[39m\u001b[38;5;124m\"\u001b[39m\u001b[38;5;124mFunction \u001b[39m\u001b[38;5;132;01m{\u001b[39;00mfunc\u001b[38;5;241m.\u001b[39m\u001b[38;5;18m__code__\u001b[39m\u001b[38;5;132;01m}\u001b[39;00m\u001b[38;5;124m\"\u001b[39m) \u001b[38;5;28;01mfrom\u001b[39;00m \u001b[38;5;21;01mex\u001b[39;00m\n",
      "File \u001b[1;32mc:\\Users\\augus\\Meu Drive\\Data_Projects\\MDS\\master_thesis\\fiscal-balance-forecast\\.venv\\lib\\site-packages\\ydata_profiling\\model\\summary_algorithms.py:69\u001b[0m, in \u001b[0;36mseries_hashable.<locals>.inner\u001b[1;34m(config, series, summary)\u001b[0m\n\u001b[0;32m     67\u001b[0m \u001b[38;5;28;01mif\u001b[39;00m \u001b[38;5;129;01mnot\u001b[39;00m summary[\u001b[38;5;124m\"\u001b[39m\u001b[38;5;124mhashable\u001b[39m\u001b[38;5;124m\"\u001b[39m]:\n\u001b[0;32m     68\u001b[0m     \u001b[38;5;28;01mreturn\u001b[39;00m config, series, summary\n\u001b[1;32m---> 69\u001b[0m \u001b[38;5;28;01mreturn\u001b[39;00m \u001b[43mfn\u001b[49m\u001b[43m(\u001b[49m\u001b[43mconfig\u001b[49m\u001b[43m,\u001b[49m\u001b[43m \u001b[49m\u001b[43mseries\u001b[49m\u001b[43m,\u001b[49m\u001b[43m \u001b[49m\u001b[43msummary\u001b[49m\u001b[43m)\u001b[49m\n",
      "File \u001b[1;32mc:\\Users\\augus\\Meu Drive\\Data_Projects\\MDS\\master_thesis\\fiscal-balance-forecast\\.venv\\lib\\site-packages\\ydata_profiling\\model\\summary_algorithms.py:86\u001b[0m, in \u001b[0;36mseries_handle_nulls.<locals>.inner\u001b[1;34m(config, series, summary)\u001b[0m\n\u001b[0;32m     83\u001b[0m \u001b[38;5;28;01mif\u001b[39;00m series\u001b[38;5;241m.\u001b[39mhasnans:\n\u001b[0;32m     84\u001b[0m     series \u001b[38;5;241m=\u001b[39m series\u001b[38;5;241m.\u001b[39mdropna()\n\u001b[1;32m---> 86\u001b[0m \u001b[38;5;28;01mreturn\u001b[39;00m \u001b[43mfn\u001b[49m\u001b[43m(\u001b[49m\u001b[43mconfig\u001b[49m\u001b[43m,\u001b[49m\u001b[43m \u001b[49m\u001b[43mseries\u001b[49m\u001b[43m,\u001b[49m\u001b[43m \u001b[49m\u001b[43msummary\u001b[49m\u001b[43m)\u001b[49m\n",
      "File \u001b[1;32mc:\\Users\\augus\\Meu Drive\\Data_Projects\\MDS\\master_thesis\\fiscal-balance-forecast\\.venv\\lib\\site-packages\\ydata_profiling\\model\\pandas\\describe_numeric_pandas.py:131\u001b[0m, in \u001b[0;36mpandas_describe_numeric_1d\u001b[1;34m(config, series, summary)\u001b[0m\n\u001b[0;32m    124\u001b[0m stats\u001b[38;5;241m.\u001b[39mupdate(\n\u001b[0;32m    125\u001b[0m     {\n\u001b[0;32m    126\u001b[0m         \u001b[38;5;124m\"\u001b[39m\u001b[38;5;124mmad\u001b[39m\u001b[38;5;124m\"\u001b[39m: mad(present_values),\n\u001b[0;32m    127\u001b[0m     }\n\u001b[0;32m    128\u001b[0m )\n\u001b[0;32m    130\u001b[0m \u001b[38;5;28;01mif\u001b[39;00m chi_squared_threshold \u001b[38;5;241m>\u001b[39m \u001b[38;5;241m0.0\u001b[39m:\n\u001b[1;32m--> 131\u001b[0m     stats[\u001b[38;5;124m\"\u001b[39m\u001b[38;5;124mchi_squared\u001b[39m\u001b[38;5;124m\"\u001b[39m] \u001b[38;5;241m=\u001b[39m \u001b[43mchi_square\u001b[49m\u001b[43m(\u001b[49m\u001b[43mfinite_values\u001b[49m\u001b[43m)\u001b[49m\n\u001b[0;32m    133\u001b[0m stats[\u001b[38;5;124m\"\u001b[39m\u001b[38;5;124mrange\u001b[39m\u001b[38;5;124m\"\u001b[39m] \u001b[38;5;241m=\u001b[39m stats[\u001b[38;5;124m\"\u001b[39m\u001b[38;5;124mmax\u001b[39m\u001b[38;5;124m\"\u001b[39m] \u001b[38;5;241m-\u001b[39m stats[\u001b[38;5;124m\"\u001b[39m\u001b[38;5;124mmin\u001b[39m\u001b[38;5;124m\"\u001b[39m]\n\u001b[0;32m    134\u001b[0m stats\u001b[38;5;241m.\u001b[39mupdate(\n\u001b[0;32m    135\u001b[0m     {\n\u001b[0;32m    136\u001b[0m         \u001b[38;5;124mf\u001b[39m\u001b[38;5;124m\"\u001b[39m\u001b[38;5;132;01m{\u001b[39;00mpercentile\u001b[38;5;132;01m:\u001b[39;00m\u001b[38;5;124m.0%\u001b[39m\u001b[38;5;132;01m}\u001b[39;00m\u001b[38;5;124m\"\u001b[39m: value\n\u001b[0;32m    137\u001b[0m         \u001b[38;5;28;01mfor\u001b[39;00m percentile, value \u001b[38;5;129;01min\u001b[39;00m series\u001b[38;5;241m.\u001b[39mquantile(quantiles)\u001b[38;5;241m.\u001b[39mto_dict()\u001b[38;5;241m.\u001b[39mitems()\n\u001b[0;32m    138\u001b[0m     }\n\u001b[0;32m    139\u001b[0m )\n",
      "File \u001b[1;32mc:\\Users\\augus\\Meu Drive\\Data_Projects\\MDS\\master_thesis\\fiscal-balance-forecast\\.venv\\lib\\site-packages\\ydata_profiling\\model\\summary_algorithms.py:55\u001b[0m, in \u001b[0;36mchi_square\u001b[1;34m(values, histogram)\u001b[0m\n\u001b[0;32m     51\u001b[0m \u001b[38;5;28;01mdef\u001b[39;00m \u001b[38;5;21mchi_square\u001b[39m(\n\u001b[0;32m     52\u001b[0m     values: Optional[np\u001b[38;5;241m.\u001b[39mndarray] \u001b[38;5;241m=\u001b[39m \u001b[38;5;28;01mNone\u001b[39;00m, histogram: Optional[np\u001b[38;5;241m.\u001b[39mndarray] \u001b[38;5;241m=\u001b[39m \u001b[38;5;28;01mNone\u001b[39;00m\n\u001b[0;32m     53\u001b[0m ) \u001b[38;5;241m-\u001b[39m\u001b[38;5;241m>\u001b[39m \u001b[38;5;28mdict\u001b[39m:\n\u001b[0;32m     54\u001b[0m     \u001b[38;5;28;01mif\u001b[39;00m histogram \u001b[38;5;129;01mis\u001b[39;00m \u001b[38;5;28;01mNone\u001b[39;00m:\n\u001b[1;32m---> 55\u001b[0m         bins \u001b[38;5;241m=\u001b[39m \u001b[43mnp\u001b[49m\u001b[38;5;241;43m.\u001b[39;49m\u001b[43mhistogram_bin_edges\u001b[49m\u001b[43m(\u001b[49m\u001b[43mvalues\u001b[49m\u001b[43m,\u001b[49m\u001b[43m \u001b[49m\u001b[43mbins\u001b[49m\u001b[38;5;241;43m=\u001b[39;49m\u001b[38;5;124;43m\"\u001b[39;49m\u001b[38;5;124;43mauto\u001b[39;49m\u001b[38;5;124;43m\"\u001b[39;49m\u001b[43m)\u001b[49m\n\u001b[0;32m     56\u001b[0m         histogram, _ \u001b[38;5;241m=\u001b[39m np\u001b[38;5;241m.\u001b[39mhistogram(values, bins\u001b[38;5;241m=\u001b[39mbins)\n\u001b[0;32m     57\u001b[0m     \u001b[38;5;28;01mreturn\u001b[39;00m \u001b[38;5;28mdict\u001b[39m(chisquare(histogram)\u001b[38;5;241m.\u001b[39m_asdict())\n",
      "File \u001b[1;32m<__array_function__ internals>:200\u001b[0m, in \u001b[0;36mhistogram_bin_edges\u001b[1;34m(*args, **kwargs)\u001b[0m\n",
      "File \u001b[1;32mc:\\Users\\augus\\Meu Drive\\Data_Projects\\MDS\\master_thesis\\fiscal-balance-forecast\\.venv\\lib\\site-packages\\numpy\\lib\\histograms.py:669\u001b[0m, in \u001b[0;36mhistogram_bin_edges\u001b[1;34m(a, bins, range, weights)\u001b[0m\n\u001b[0;32m    472\u001b[0m \u001b[38;5;250m\u001b[39m\u001b[38;5;124mr\u001b[39m\u001b[38;5;124;03m\"\"\"\u001b[39;00m\n\u001b[0;32m    473\u001b[0m \u001b[38;5;124;03mFunction to calculate only the edges of the bins used by the `histogram`\u001b[39;00m\n\u001b[0;32m    474\u001b[0m \u001b[38;5;124;03mfunction.\u001b[39;00m\n\u001b[1;32m   (...)\u001b[0m\n\u001b[0;32m    666\u001b[0m \n\u001b[0;32m    667\u001b[0m \u001b[38;5;124;03m\"\"\"\u001b[39;00m\n\u001b[0;32m    668\u001b[0m a, weights \u001b[38;5;241m=\u001b[39m _ravel_and_check_weights(a, weights)\n\u001b[1;32m--> 669\u001b[0m bin_edges, _ \u001b[38;5;241m=\u001b[39m \u001b[43m_get_bin_edges\u001b[49m\u001b[43m(\u001b[49m\u001b[43ma\u001b[49m\u001b[43m,\u001b[49m\u001b[43m \u001b[49m\u001b[43mbins\u001b[49m\u001b[43m,\u001b[49m\u001b[43m \u001b[49m\u001b[38;5;28;43mrange\u001b[39;49m\u001b[43m,\u001b[49m\u001b[43m \u001b[49m\u001b[43mweights\u001b[49m\u001b[43m)\u001b[49m\n\u001b[0;32m    670\u001b[0m \u001b[38;5;28;01mreturn\u001b[39;00m bin_edges\n",
      "File \u001b[1;32mc:\\Users\\augus\\Meu Drive\\Data_Projects\\MDS\\master_thesis\\fiscal-balance-forecast\\.venv\\lib\\site-packages\\numpy\\lib\\histograms.py:446\u001b[0m, in \u001b[0;36m_get_bin_edges\u001b[1;34m(a, bins, range, weights)\u001b[0m\n\u001b[0;32m    443\u001b[0m         bin_type \u001b[38;5;241m=\u001b[39m np\u001b[38;5;241m.\u001b[39mresult_type(bin_type, \u001b[38;5;28mfloat\u001b[39m)\n\u001b[0;32m    445\u001b[0m     \u001b[38;5;66;03m# bin edges must be computed\u001b[39;00m\n\u001b[1;32m--> 446\u001b[0m     bin_edges \u001b[38;5;241m=\u001b[39m \u001b[43mnp\u001b[49m\u001b[38;5;241;43m.\u001b[39;49m\u001b[43mlinspace\u001b[49m\u001b[43m(\u001b[49m\n\u001b[0;32m    447\u001b[0m \u001b[43m        \u001b[49m\u001b[43mfirst_edge\u001b[49m\u001b[43m,\u001b[49m\u001b[43m \u001b[49m\u001b[43mlast_edge\u001b[49m\u001b[43m,\u001b[49m\u001b[43m \u001b[49m\u001b[43mn_equal_bins\u001b[49m\u001b[43m \u001b[49m\u001b[38;5;241;43m+\u001b[39;49m\u001b[43m \u001b[49m\u001b[38;5;241;43m1\u001b[39;49m\u001b[43m,\u001b[49m\n\u001b[0;32m    448\u001b[0m \u001b[43m        \u001b[49m\u001b[43mendpoint\u001b[49m\u001b[38;5;241;43m=\u001b[39;49m\u001b[38;5;28;43;01mTrue\u001b[39;49;00m\u001b[43m,\u001b[49m\u001b[43m \u001b[49m\u001b[43mdtype\u001b[49m\u001b[38;5;241;43m=\u001b[39;49m\u001b[43mbin_type\u001b[49m\u001b[43m)\u001b[49m\n\u001b[0;32m    449\u001b[0m     \u001b[38;5;28;01mreturn\u001b[39;00m bin_edges, (first_edge, last_edge, n_equal_bins)\n\u001b[0;32m    450\u001b[0m \u001b[38;5;28;01melse\u001b[39;00m:\n",
      "File \u001b[1;32m<__array_function__ internals>:200\u001b[0m, in \u001b[0;36mlinspace\u001b[1;34m(*args, **kwargs)\u001b[0m\n",
      "File \u001b[1;32mc:\\Users\\augus\\Meu Drive\\Data_Projects\\MDS\\master_thesis\\fiscal-balance-forecast\\.venv\\lib\\site-packages\\numpy\\core\\function_base.py:139\u001b[0m, in \u001b[0;36mlinspace\u001b[1;34m(start, stop, num, endpoint, retstep, dtype, axis)\u001b[0m\n\u001b[0;32m    136\u001b[0m     integer_dtype \u001b[38;5;241m=\u001b[39m _nx\u001b[38;5;241m.\u001b[39missubdtype(dtype, _nx\u001b[38;5;241m.\u001b[39minteger)\n\u001b[0;32m    138\u001b[0m delta \u001b[38;5;241m=\u001b[39m stop \u001b[38;5;241m-\u001b[39m start\n\u001b[1;32m--> 139\u001b[0m y \u001b[38;5;241m=\u001b[39m \u001b[43m_nx\u001b[49m\u001b[38;5;241;43m.\u001b[39;49m\u001b[43marange\u001b[49m\u001b[43m(\u001b[49m\u001b[38;5;241;43m0\u001b[39;49m\u001b[43m,\u001b[49m\u001b[43m \u001b[49m\u001b[43mnum\u001b[49m\u001b[43m,\u001b[49m\u001b[43m \u001b[49m\u001b[43mdtype\u001b[49m\u001b[38;5;241;43m=\u001b[39;49m\u001b[43mdt\u001b[49m\u001b[43m)\u001b[49m\u001b[38;5;241m.\u001b[39mreshape((\u001b[38;5;241m-\u001b[39m\u001b[38;5;241m1\u001b[39m,) \u001b[38;5;241m+\u001b[39m (\u001b[38;5;241m1\u001b[39m,) \u001b[38;5;241m*\u001b[39m ndim(delta))\n\u001b[0;32m    140\u001b[0m \u001b[38;5;66;03m# In-place multiplication y *= delta/div is faster, but prevents the multiplicant\u001b[39;00m\n\u001b[0;32m    141\u001b[0m \u001b[38;5;66;03m# from overriding what class is produced, and thus prevents, e.g. use of Quantities,\u001b[39;00m\n\u001b[0;32m    142\u001b[0m \u001b[38;5;66;03m# see gh-7142. Hence, we multiply in place only for standard scalar types.\u001b[39;00m\n\u001b[0;32m    143\u001b[0m \u001b[38;5;28;01mif\u001b[39;00m div \u001b[38;5;241m>\u001b[39m \u001b[38;5;241m0\u001b[39m:\n",
      "\u001b[1;31mMemoryError\u001b[0m: Unable to allocate 6.38 PiB for an array with shape (897592453862868,) and data type float64"
     ]
    }
   ],
   "source": [
    "\n",
    "profile = ProfileReport(BR_param_norm, title=\"Profiling Report\")\n",
    "#profile = ProfileReport(df_BR_debt, tsmode=True, sortby=\"Date Local\")\n",
    "profile.to_file('profile_report.html')"
   ]
  },
  {
   "cell_type": "code",
   "execution_count": 16,
   "metadata": {},
   "outputs": [
    {
     "data": {
      "text/plain": [
       "Index(['eco_net_debt_R$', 'eco_net_debt_R$_federal_govt',\n",
       "       'eco_GDP_R$_12_months', 'Coffee', 'Iron Ore', 'Meat index', 'Soybeans',\n",
       "       'Sugar', 'bud_group_personal_spent_value',\n",
       "       'bud_type_mandatory_spent_value', 'exp_DIC_y', 'exp_trade_balance_y',\n",
       "       'CNY', 'EUR', 'USD', 'eco_total_revenue'],\n",
       "      dtype='object')"
      ]
     },
     "execution_count": 16,
     "metadata": {},
     "output_type": "execute_result"
    }
   ],
   "source": [
    "df_BR_debt.columns"
   ]
  }
 ],
 "metadata": {
  "kernelspec": {
   "display_name": ".venv",
   "language": "python",
   "name": "python3"
  },
  "language_info": {
   "codemirror_mode": {
    "name": "ipython",
    "version": 3
   },
   "file_extension": ".py",
   "mimetype": "text/x-python",
   "name": "python",
   "nbconvert_exporter": "python",
   "pygments_lexer": "ipython3",
   "version": "3.9.0"
  }
 },
 "nbformat": 4,
 "nbformat_minor": 2
}
