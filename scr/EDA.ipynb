{
 "cells": [
  {
   "cell_type": "markdown",
   "metadata": {},
   "source": [
    "### EDA\n",
    "# https://www.youtube.com/watch?v=7_Js8h709Dw\n",
    "# https://pypi.org/project/ydata-profiling/\n"
   ]
  },
  {
   "cell_type": "code",
   "execution_count": 8,
   "metadata": {},
   "outputs": [
    {
     "name": "stderr",
     "output_type": "stream",
     "text": [
      "c:\\Users\\augus\\Meu Drive\\Data_Projects\\MDS\\master_thesis\\fiscal-balance-forecast\\.venv\\lib\\site-packages\\tqdm\\auto.py:21: TqdmWarning: IProgress not found. Please update jupyter and ipywidgets. See https://ipywidgets.readthedocs.io/en/stable/user_install.html\n",
      "  from .autonotebook import tqdm as notebook_tqdm\n"
     ]
    }
   ],
   "source": [
    "import pandas as pd\n",
    "from ydata_profiling import ProfileReport"
   ]
  },
  {
   "cell_type": "code",
   "execution_count": 33,
   "metadata": {},
   "outputs": [],
   "source": [
    "# Importing the dataset\n",
    "df_BR_debt = pd.read_csv('../data/cleanned_df.csv')\n"
   ]
  },
  {
   "cell_type": "code",
   "execution_count": 34,
   "metadata": {},
   "outputs": [],
   "source": [
    "\n",
    "columns_to_drop = ['eco_fiscal_result_12months', 'eco_inflation_month', 'eco_gross_debt_gdp_pre', 'eco_net_debt_gdp_%',\n",
    "       'eco_net_debt_gdp_%_federal_govt','CAN_inflation',\n",
    "       'UK_inflation', 'CAN_interest', 'CHI_interest', 'UK_interest', \n",
    "       'bud_fun_09_initial_value', 'bud_fun_10_initial_value', 'bud_fun_12_initial_value',\n",
    "       'bud_group_personal_initial_value', 'bud_group_invest_initial_value',\n",
    "       'bud_type_mandatory_initial_value', 'bud_type_amendments_initial_value',\n",
    "       'exp_DIC_y+2', 'exp_GDP (%)_y+2', 'exp_US$_currency_y+2',\n",
    "       'exp_basic_interest_rate_y+2', 'exp_inflation_y+2', \n",
    "       'exp_net_public_debt_y+2', 'exp_primary_result_y+2',\n",
    "       'exp_trade_balance_y+2',\n",
    "       'UK_GDP', 'CHI_inflation', #Second group\n",
    "       'exp_DIC_y+1','exp_GDP (%)_y+1','exp_US$_currency_y+1','exp_basic_interest_rate_y+1',\n",
    "       'exp_inflation_y+1','exp_net_public_debt_y+1','exp_primary_result_y+1',\n",
    "       'exp_trade_balance_y+1','bud_fun_09_spent_value', 'bud_fun_10_spent_value',\n",
    "       'bud_fun_12_spent_value','bud_group_invest_spent_value', \n",
    "       'bud_type_disc_initial_value', 'bud_type_amendments_spent_value','bud_type_disc_spent_value',\n",
    "       # Third group\n",
    "       'eco_fiscal_result_month', 'eco_inflation_12months','eco_gross_debt_R$_pre', \n",
    "       'eco_balance_payments_US$_M','CHN_GDP', 'US_GDP', 'CHN_inflation', 'EUZ_inflation', \n",
    "       'US_inflation', 'CHN_interest',\n",
    "       'Euro area (19 countries)',\n",
    "       'US_interest', 'Brent Crude Oil', \n",
    "       'exp_GDP (%)_y','exp_inflation_y', \n",
    "       'exp_net_public_debt_y',\n",
    "       # Fourth group\n",
    "       'eco_interest_rate','exp_primary_result_y', 'exp_basic_interest_rate_y','exp_US$_currency_y', 'Orange']\n",
    "df_BR_debt.drop(columns_to_drop, axis=1, inplace=True)"
   ]
  },
  {
   "cell_type": "code",
   "execution_count": 31,
   "metadata": {},
   "outputs": [
    {
     "name": "stdout",
     "output_type": "stream",
     "text": [
      "<class 'pandas.core.frame.DataFrame'>\n",
      "RangeIndex: 278 entries, 0 to 277\n",
      "Data columns (total 21 columns):\n",
      " #   Column                          Non-Null Count  Dtype  \n",
      "---  ------                          --------------  -----  \n",
      " 0   Time                            278 non-null    object \n",
      " 1   eco_interest_rate               278 non-null    float64\n",
      " 2   eco_net_debt_R$                 275 non-null    float64\n",
      " 3   eco_net_debt_R$_federal_govt    275 non-null    float64\n",
      " 4   eco_GDP_R$_12_months            275 non-null    float64\n",
      " 5   Coffee                          276 non-null    float64\n",
      " 6   Iron Ore                        276 non-null    float64\n",
      " 7   Meat index                      276 non-null    float64\n",
      " 8   Orange                          276 non-null    float64\n",
      " 9   Soybeans                        276 non-null    float64\n",
      " 10  Sugar                           276 non-null    float64\n",
      " 11  bud_group_personal_spent_value  276 non-null    float64\n",
      " 12  bud_type_mandatory_spent_value  276 non-null    float64\n",
      " 13  exp_DIC_y                       277 non-null    float64\n",
      " 14  exp_US$_currency_y              277 non-null    float64\n",
      " 15  exp_basic_interest_rate_y       277 non-null    float64\n",
      " 16  exp_primary_result_y            277 non-null    float64\n",
      " 17  exp_trade_balance_y             277 non-null    float64\n",
      " 18  CNY                             277 non-null    float64\n",
      " 19  EUR                             277 non-null    float64\n",
      " 20  USD                             277 non-null    float64\n",
      "dtypes: float64(20), object(1)\n",
      "memory usage: 45.7+ KB\n"
     ]
    }
   ],
   "source": [
    "df_BR_debt.info()"
   ]
  },
  {
   "cell_type": "code",
   "execution_count": 35,
   "metadata": {},
   "outputs": [
    {
     "name": "stderr",
     "output_type": "stream",
     "text": [
      "Summarize dataset:   0%|          | 0/5 [00:00<?, ?it/s]"
     ]
    },
    {
     "name": "stderr",
     "output_type": "stream",
     "text": [
      "Summarize dataset:  98%|█████████▊| 246/251 [00:35<00:00,  5.81it/s, Missing diagram heatmap]                                               c:\\Users\\augus\\Meu Drive\\Data_Projects\\MDS\\master_thesis\\fiscal-balance-forecast\\.venv\\lib\\site-packages\\seaborn\\matrix.py:260: FutureWarning: Format strings passed to MaskedConstant are ignored, but in future may error or produce different behavior\n",
      "  annotation = (\"{:\" + self.fmt + \"}\").format(val)\n",
      "c:\\Users\\augus\\Meu Drive\\Data_Projects\\MDS\\master_thesis\\fiscal-balance-forecast\\.venv\\lib\\site-packages\\ydata_profiling\\model\\missing.py:78: UserWarning: There was an attempt to generate the Heatmap missing values diagrams, but this failed.\n",
      "To hide this warning, disable the calculation\n",
      "(using `df.profile_report(missing_diagrams={\"Heatmap\": False}`)\n",
      "If this is problematic for your use case, please report this as an issue:\n",
      "https://github.com/ydataai/ydata-profiling/issues\n",
      "(include the error message: 'could not convert string to float: '--'')\n",
      "  warnings.warn(\n",
      "Summarize dataset: 100%|██████████| 251/251 [00:35<00:00,  7.01it/s, Completed]               \n",
      "Generate report structure: 100%|██████████| 1/1 [00:07<00:00,  7.16s/it]\n",
      "Render HTML: 100%|██████████| 1/1 [00:04<00:00,  4.70s/it]\n",
      "Export report to file: 100%|██████████| 1/1 [00:00<00:00,  2.43it/s]\n"
     ]
    }
   ],
   "source": [
    "\n",
    "profile = ProfileReport(df_BR_debt, title=\"Profiling Report\")\n",
    "#profile = ProfileReport(df_BR_debt, tsmode=True, sortby=\"Date Local\")\n",
    "profile.to_file('profile_report.html')"
   ]
  },
  {
   "cell_type": "code",
   "execution_count": 32,
   "metadata": {},
   "outputs": [
    {
     "data": {
      "text/plain": [
       "Index(['Time', 'eco_interest_rate', 'eco_net_debt_R$',\n",
       "       'eco_net_debt_R$_federal_govt', 'eco_GDP_R$_12_months', 'Coffee',\n",
       "       'Iron Ore', 'Meat index', 'Orange', 'Soybeans', 'Sugar',\n",
       "       'bud_group_personal_spent_value', 'bud_type_mandatory_spent_value',\n",
       "       'exp_DIC_y', 'exp_US$_currency_y', 'exp_basic_interest_rate_y',\n",
       "       'exp_primary_result_y', 'exp_trade_balance_y', 'CNY', 'EUR', 'USD'],\n",
       "      dtype='object')"
      ]
     },
     "execution_count": 32,
     "metadata": {},
     "output_type": "execute_result"
    }
   ],
   "source": [
    "df_BR_debt.columns"
   ]
  }
 ],
 "metadata": {
  "kernelspec": {
   "display_name": ".venv",
   "language": "python",
   "name": "python3"
  },
  "language_info": {
   "codemirror_mode": {
    "name": "ipython",
    "version": 3
   },
   "file_extension": ".py",
   "mimetype": "text/x-python",
   "name": "python",
   "nbconvert_exporter": "python",
   "pygments_lexer": "ipython3",
   "version": "3.9.0"
  }
 },
 "nbformat": 4,
 "nbformat_minor": 2
}
