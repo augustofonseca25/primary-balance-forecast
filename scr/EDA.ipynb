{
 "cells": [
  {
   "cell_type": "markdown",
   "metadata": {},
   "source": [
    "### EDA\n",
    "# https://www.youtube.com/watch?v=7_Js8h709Dw\n",
    "# https://pypi.org/project/ydata-profiling/\n"
   ]
  },
  {
   "cell_type": "code",
   "execution_count": 1,
   "metadata": {},
   "outputs": [
    {
     "name": "stderr",
     "output_type": "stream",
     "text": [
      "c:\\Users\\augus\\Meu Drive\\Data_Projects\\MDS\\master_thesis\\fiscal-balance-forecast\\env_new\\lib\\site-packages\\tqdm\\auto.py:21: TqdmWarning: IProgress not found. Please update jupyter and ipywidgets. See https://ipywidgets.readthedocs.io/en/stable/user_install.html\n",
      "  from .autonotebook import tqdm as notebook_tqdm\n"
     ]
    }
   ],
   "source": [
    "import pandas as pd\n",
    "from ydata_profiling import ProfileReport\n",
    "import matplotlib.pyplot as plt\n",
    "import numpy as np\n",
    "from statsmodels.tsa.stattools import adfuller\n",
    "import useful_functions\n"
   ]
  },
  {
   "cell_type": "code",
   "execution_count": 2,
   "metadata": {},
   "outputs": [],
   "source": [
    "# Importing the dataset\n",
    "df_BR_debt = pd.read_csv('../data/cleanned_df.csv')\n"
   ]
  },
  {
   "cell_type": "code",
   "execution_count": 3,
   "metadata": {},
   "outputs": [],
   "source": [
    "\n",
    "columns_to_drop = ['eco_fiscal_result_12months', 'eco_inflation_month', 'eco_gross_debt_gdp_pre', 'eco_net_debt_gdp_%',\n",
    "       'eco_net_debt_gdp_%_federal_govt','CAN_inflation',\n",
    "       'UK_inflation', 'CAN_interest', 'CHI_interest', 'UK_interest', \n",
    "       'bud_fun_09_initial_value', 'bud_fun_10_initial_value', 'bud_fun_12_initial_value',\n",
    "       'bud_group_personal_initial_value', 'bud_group_invest_initial_value',\n",
    "       'bud_type_mandatory_initial_value', 'bud_type_amendments_initial_value',\n",
    "       'exp_DIC_y+2', 'exp_GDP (%)_y+2', 'exp_US$_currency_y+2',\n",
    "       'exp_basic_interest_rate_y+2', 'exp_inflation_y+2', \n",
    "       'exp_net_public_debt_y+2', 'exp_primary_result_y+2',\n",
    "       'exp_trade_balance_y+2',\n",
    "       'UK_GDP', 'CHI_inflation', #Second group\n",
    "       'exp_DIC_y+1','exp_GDP (%)_y+1','exp_US$_currency_y+1','exp_basic_interest_rate_y+1',\n",
    "       'exp_inflation_y+1','exp_net_public_debt_y+1','exp_primary_result_y+1',\n",
    "       'exp_trade_balance_y+1','bud_fun_09_spent_value', 'bud_fun_10_spent_value',\n",
    "       'bud_fun_12_spent_value','bud_group_invest_spent_value', \n",
    "       'bud_type_disc_initial_value', 'bud_type_amendments_spent_value','bud_type_disc_spent_value',\n",
    "       # Third group\n",
    "       'eco_inflation_12months','eco_gross_debt_R$_pre', \n",
    "       'eco_balance_payments_US$_M','CHN_GDP', 'US_GDP', 'CHN_inflation', 'EUZ_inflation', \n",
    "       'US_inflation', 'CHN_interest',\n",
    "       'Euro area (19 countries)',\n",
    "       'US_interest', 'Brent Crude Oil', \n",
    "       'exp_GDP (%)_y','exp_inflation_y', \n",
    "       'exp_net_public_debt_y',\n",
    "       # Fourth group, 'eco_fiscal_result_month', \n",
    "       'eco_interest_rate','exp_primary_result_y', 'exp_basic_interest_rate_y','exp_US$_currency_y', 'Orange']\n",
    "\n",
    "# Dropping columns\n",
    "df_BR_debt.drop(columns_to_drop, axis=1, inplace=True)\n",
    "\n",
    "# Setting date as index\n",
    "df_BR_debt.set_index('date', inplace=True)"
   ]
  },
  {
   "cell_type": "code",
   "execution_count": 11,
   "metadata": {},
   "outputs": [],
   "source": [
    "# Let's create some synthetic data\n",
    "# lags definition\n",
    "lags = [6, 12]\n",
    "\n",
    "# Create synthetic data\n",
    "synthetic_data = useful_functions.create_synthetic_data(df_BR_debt, lags)\n",
    "\n",
    "# Merge the original data with the synthetic data\n",
    "BR_param_EDA = pd.concat([df_BR_debt, synthetic_data], axis=1)"
   ]
  },
  {
   "cell_type": "code",
   "execution_count": 13,
   "metadata": {},
   "outputs": [],
   "source": [
    "BR_param_EDA.to_csv('../data/BR_param_EDA.csv', index=True)"
   ]
  },
  {
   "cell_type": "code",
   "execution_count": 22,
   "metadata": {},
   "outputs": [],
   "source": [
    "\n",
    "    # profile = ProfileReport(BR_param_norm, title=\"Profiling Report\")\n",
    "    # #profile = ProfileReport(df_BR_debt, tsmode=True, sortby=\"Date Local\")\n",
    "    # profile.to_file('profile_report.html')"
   ]
  }
 ],
 "metadata": {
  "kernelspec": {
   "display_name": ".venv",
   "language": "python",
   "name": "python3"
  },
  "language_info": {
   "codemirror_mode": {
    "name": "ipython",
    "version": 3
   },
   "file_extension": ".py",
   "mimetype": "text/x-python",
   "name": "python",
   "nbconvert_exporter": "python",
   "pygments_lexer": "ipython3",
   "version": "3.9.0"
  }
 },
 "nbformat": 4,
 "nbformat_minor": 2
}
