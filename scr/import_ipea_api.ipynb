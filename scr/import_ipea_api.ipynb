{
 "cells": [
  {
   "cell_type": "markdown",
   "metadata": {},
   "source": [
    "Script  to download data from IPA data\n",
    "https://pypi.org/project/ipeadatapy/#description\n",
    "https://www.luanborelli.net/ipeadatapy/docs/usage/functions.html\n"
   ]
  },
  {
   "cell_type": "code",
   "execution_count": null,
   "metadata": {},
   "outputs": [],
   "source": [
    "\"\"\"\n",
    "Arrecadação das receitas federais - receita bruta\n",
    "Frequência: Mensal de 1993.01 até 2023.11\n",
    "Fonte: Ministério da Economia, Secretaria da Receita Federal (Min. Economia/SRF)\n",
    "Unidade: R$ (milhões)\n",
    "Comentário: Soma das receitas administradas pela Receita Federal com as receitas administradas por outros órgãos. Mais informações: https://www.gov.br/receitafederal/pt-br/acesso-a-informacao/dados-abertos/receitadata/arrecadacao/a>.\n",
    "Atualizado em: 30/12/2023\n",
    "\n",
    "\"\"\""
   ]
  },
  {
   "cell_type": "code",
   "execution_count": 39,
   "metadata": {},
   "outputs": [],
   "source": [
    "import ipeadatapy\n",
    "import pandas as pd\n",
    "import useful_functions"
   ]
  },
  {
   "cell_type": "code",
   "execution_count": 68,
   "metadata": {},
   "outputs": [],
   "source": [
    "ipeadatapy.list_series()\n",
    "\n",
    "series_list = ipeadatapy.list_series()\n",
    "filtered_list = series_list[series_list['NAME'].str.contains('Arrecadação das receitas federais - receita bruta', case=False)]\n",
    "\n"
   ]
  },
  {
   "cell_type": "code",
   "execution_count": 69,
   "metadata": {},
   "outputs": [],
   "source": [
    "# Find the code for the desired list\n",
    "desired_code = filtered_list['CODE'].values[0]\n",
    "\n",
    "# Initial date\n",
    "initial_year = '2001'"
   ]
  },
  {
   "cell_type": "code",
   "execution_count": 70,
   "metadata": {},
   "outputs": [],
   "source": [
    "# Get the data\n",
    "df_revenue_raw = ipeadatapy.timeseries(series = desired_code)"
   ]
  },
  {
   "cell_type": "code",
   "execution_count": 91,
   "metadata": {},
   "outputs": [],
   "source": [
    "# Copy the dataframe\n",
    "df_revenue = df_revenue_raw.copy()\n",
    "\n",
    "\n",
    "# Filter the data to start from the initial year\n",
    "df_revenue = df_revenue[df_revenue.index >= initial_year]\n",
    "\n",
    "# Format index to month and year\n",
    "df_revenue.index = df_revenue.index.strftime('%m-%Y')\n",
    "\n",
    "# Filter only the desired column\n",
    "df_revenue = df_revenue[['VALUE (R$)']].astype(float)\n",
    "\n",
    "# Rename the column\n",
    "df_revenue.rename(columns={'VALUE (R$)': 'eco_total_revenue'}, inplace=True)\n",
    "\n",
    "# rename index \n",
    "df_revenue.index.names = ['date']\n",
    "\n"
   ]
  },
  {
   "cell_type": "code",
   "execution_count": 100,
   "metadata": {},
   "outputs": [],
   "source": [
    "# Convert the dataframe to monthly\n",
    "df_revenue = useful_functions.convert_df_to_monthly(df_revenue, '%m-%Y')\n",
    "\n",
    "# Save the dataframe to a csv file\n",
    "df_revenue.to_csv('../data/df_total_revenue.csv')"
   ]
  }
 ],
 "metadata": {
  "kernelspec": {
   "display_name": "Python 3",
   "language": "python",
   "name": "python3"
  },
  "language_info": {
   "codemirror_mode": {
    "name": "ipython",
    "version": 3
   },
   "file_extension": ".py",
   "mimetype": "text/x-python",
   "name": "python",
   "nbconvert_exporter": "python",
   "pygments_lexer": "ipython3",
   "version": "3.9.0"
  }
 },
 "nbformat": 4,
 "nbformat_minor": 2
}
