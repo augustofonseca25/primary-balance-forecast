{
 "cells": [
  {
   "cell_type": "code",
   "execution_count": 1,
   "metadata": {},
   "outputs": [
    {
     "name": "stdout",
     "output_type": "stream",
     "text": [
      "REading File: ../data/data_orig_parameters.csv\n",
      "Outlier Threshold: nan\n"
     ]
    },
    {
     "name": "stderr",
     "output_type": "stream",
     "text": [
      "g:\\My Drive\\Data_Projects\\MDS\\master_thesis\\fiscal-balance-forecast\\.venv\\Lib\\site-packages\\statsmodels\\tsa\\base\\tsa_model.py:473: ValueWarning: No frequency information was provided, so inferred frequency MS will be used.\n",
      "  self._init_dates(dates, freq)\n",
      "g:\\My Drive\\Data_Projects\\MDS\\master_thesis\\fiscal-balance-forecast\\.venv\\Lib\\site-packages\\statsmodels\\tsa\\base\\tsa_model.py:473: ValueWarning: No frequency information was provided, so inferred frequency MS will be used.\n",
      "  self._init_dates(dates, freq)\n",
      "g:\\My Drive\\Data_Projects\\MDS\\master_thesis\\fiscal-balance-forecast\\.venv\\Lib\\site-packages\\statsmodels\\base\\model.py:607: ConvergenceWarning: Maximum Likelihood optimization failed to converge. Check mle_retvals\n",
      "  warnings.warn(\"Maximum Likelihood optimization failed to \"\n"
     ]
    },
    {
     "name": "stdout",
     "output_type": "stream",
     "text": [
      "Outlier Threshold: 0.05\n"
     ]
    },
    {
     "name": "stderr",
     "output_type": "stream",
     "text": [
      "g:\\My Drive\\Data_Projects\\MDS\\master_thesis\\fiscal-balance-forecast\\.venv\\Lib\\site-packages\\statsmodels\\tsa\\base\\tsa_model.py:473: ValueWarning: No frequency information was provided, so inferred frequency MS will be used.\n",
      "  self._init_dates(dates, freq)\n",
      "g:\\My Drive\\Data_Projects\\MDS\\master_thesis\\fiscal-balance-forecast\\.venv\\Lib\\site-packages\\statsmodels\\tsa\\base\\tsa_model.py:473: ValueWarning: No frequency information was provided, so inferred frequency MS will be used.\n",
      "  self._init_dates(dates, freq)\n",
      "g:\\My Drive\\Data_Projects\\MDS\\master_thesis\\fiscal-balance-forecast\\.venv\\Lib\\site-packages\\statsmodels\\base\\model.py:607: ConvergenceWarning: Maximum Likelihood optimization failed to converge. Check mle_retvals\n",
      "  warnings.warn(\"Maximum Likelihood optimization failed to \"\n"
     ]
    },
    {
     "name": "stdout",
     "output_type": "stream",
     "text": [
      "Outlier Threshold: 0.1\n"
     ]
    },
    {
     "name": "stderr",
     "output_type": "stream",
     "text": [
      "g:\\My Drive\\Data_Projects\\MDS\\master_thesis\\fiscal-balance-forecast\\.venv\\Lib\\site-packages\\statsmodels\\tsa\\base\\tsa_model.py:473: ValueWarning: No frequency information was provided, so inferred frequency MS will be used.\n",
      "  self._init_dates(dates, freq)\n",
      "g:\\My Drive\\Data_Projects\\MDS\\master_thesis\\fiscal-balance-forecast\\.venv\\Lib\\site-packages\\statsmodels\\tsa\\base\\tsa_model.py:473: ValueWarning: No frequency information was provided, so inferred frequency MS will be used.\n",
      "  self._init_dates(dates, freq)\n",
      "g:\\My Drive\\Data_Projects\\MDS\\master_thesis\\fiscal-balance-forecast\\.venv\\Lib\\site-packages\\statsmodels\\base\\model.py:607: ConvergenceWarning: Maximum Likelihood optimization failed to converge. Check mle_retvals\n",
      "  warnings.warn(\"Maximum Likelihood optimization failed to \"\n"
     ]
    },
    {
     "name": "stdout",
     "output_type": "stream",
     "text": [
      "Outlier Threshold: 0.15\n"
     ]
    },
    {
     "name": "stderr",
     "output_type": "stream",
     "text": [
      "g:\\My Drive\\Data_Projects\\MDS\\master_thesis\\fiscal-balance-forecast\\.venv\\Lib\\site-packages\\statsmodels\\tsa\\base\\tsa_model.py:473: ValueWarning: No frequency information was provided, so inferred frequency MS will be used.\n",
      "  self._init_dates(dates, freq)\n",
      "g:\\My Drive\\Data_Projects\\MDS\\master_thesis\\fiscal-balance-forecast\\.venv\\Lib\\site-packages\\statsmodels\\tsa\\base\\tsa_model.py:473: ValueWarning: No frequency information was provided, so inferred frequency MS will be used.\n",
      "  self._init_dates(dates, freq)\n",
      "g:\\My Drive\\Data_Projects\\MDS\\master_thesis\\fiscal-balance-forecast\\.venv\\Lib\\site-packages\\statsmodels\\base\\model.py:607: ConvergenceWarning: Maximum Likelihood optimization failed to converge. Check mle_retvals\n",
      "  warnings.warn(\"Maximum Likelihood optimization failed to \"\n"
     ]
    },
    {
     "name": "stdout",
     "output_type": "stream",
     "text": [
      "Outlier Threshold: 0.2\n"
     ]
    },
    {
     "name": "stderr",
     "output_type": "stream",
     "text": [
      "g:\\My Drive\\Data_Projects\\MDS\\master_thesis\\fiscal-balance-forecast\\.venv\\Lib\\site-packages\\statsmodels\\tsa\\base\\tsa_model.py:473: ValueWarning: No frequency information was provided, so inferred frequency MS will be used.\n",
      "  self._init_dates(dates, freq)\n",
      "g:\\My Drive\\Data_Projects\\MDS\\master_thesis\\fiscal-balance-forecast\\.venv\\Lib\\site-packages\\statsmodels\\tsa\\base\\tsa_model.py:473: ValueWarning: No frequency information was provided, so inferred frequency MS will be used.\n",
      "  self._init_dates(dates, freq)\n",
      "g:\\My Drive\\Data_Projects\\MDS\\master_thesis\\fiscal-balance-forecast\\.venv\\Lib\\site-packages\\statsmodels\\base\\model.py:607: ConvergenceWarning: Maximum Likelihood optimization failed to converge. Check mle_retvals\n",
      "  warnings.warn(\"Maximum Likelihood optimization failed to \"\n"
     ]
    },
    {
     "name": "stdout",
     "output_type": "stream",
     "text": [
      "REading File: ../data/BR_param_EDA.csv\n",
      "Outlier Threshold: nan\n"
     ]
    },
    {
     "name": "stderr",
     "output_type": "stream",
     "text": [
      "g:\\My Drive\\Data_Projects\\MDS\\master_thesis\\fiscal-balance-forecast\\.venv\\Lib\\site-packages\\statsmodels\\tsa\\base\\tsa_model.py:473: ValueWarning: No frequency information was provided, so inferred frequency MS will be used.\n",
      "  self._init_dates(dates, freq)\n",
      "g:\\My Drive\\Data_Projects\\MDS\\master_thesis\\fiscal-balance-forecast\\.venv\\Lib\\site-packages\\statsmodels\\tsa\\base\\tsa_model.py:473: ValueWarning: No frequency information was provided, so inferred frequency MS will be used.\n",
      "  self._init_dates(dates, freq)\n",
      "g:\\My Drive\\Data_Projects\\MDS\\master_thesis\\fiscal-balance-forecast\\.venv\\Lib\\site-packages\\statsmodels\\base\\model.py:607: ConvergenceWarning: Maximum Likelihood optimization failed to converge. Check mle_retvals\n",
      "  warnings.warn(\"Maximum Likelihood optimization failed to \"\n"
     ]
    },
    {
     "name": "stdout",
     "output_type": "stream",
     "text": [
      "Outlier Threshold: 0.05\n"
     ]
    },
    {
     "name": "stderr",
     "output_type": "stream",
     "text": [
      "g:\\My Drive\\Data_Projects\\MDS\\master_thesis\\fiscal-balance-forecast\\.venv\\Lib\\site-packages\\statsmodels\\tsa\\base\\tsa_model.py:473: ValueWarning: No frequency information was provided, so inferred frequency MS will be used.\n",
      "  self._init_dates(dates, freq)\n",
      "g:\\My Drive\\Data_Projects\\MDS\\master_thesis\\fiscal-balance-forecast\\.venv\\Lib\\site-packages\\statsmodels\\tsa\\base\\tsa_model.py:473: ValueWarning: No frequency information was provided, so inferred frequency MS will be used.\n",
      "  self._init_dates(dates, freq)\n",
      "g:\\My Drive\\Data_Projects\\MDS\\master_thesis\\fiscal-balance-forecast\\.venv\\Lib\\site-packages\\statsmodels\\base\\model.py:607: ConvergenceWarning: Maximum Likelihood optimization failed to converge. Check mle_retvals\n",
      "  warnings.warn(\"Maximum Likelihood optimization failed to \"\n"
     ]
    },
    {
     "name": "stdout",
     "output_type": "stream",
     "text": [
      "Outlier Threshold: 0.1\n"
     ]
    },
    {
     "name": "stderr",
     "output_type": "stream",
     "text": [
      "g:\\My Drive\\Data_Projects\\MDS\\master_thesis\\fiscal-balance-forecast\\.venv\\Lib\\site-packages\\statsmodels\\tsa\\base\\tsa_model.py:473: ValueWarning: No frequency information was provided, so inferred frequency MS will be used.\n",
      "  self._init_dates(dates, freq)\n",
      "g:\\My Drive\\Data_Projects\\MDS\\master_thesis\\fiscal-balance-forecast\\.venv\\Lib\\site-packages\\statsmodels\\tsa\\base\\tsa_model.py:473: ValueWarning: No frequency information was provided, so inferred frequency MS will be used.\n",
      "  self._init_dates(dates, freq)\n",
      "g:\\My Drive\\Data_Projects\\MDS\\master_thesis\\fiscal-balance-forecast\\.venv\\Lib\\site-packages\\statsmodels\\base\\model.py:607: ConvergenceWarning: Maximum Likelihood optimization failed to converge. Check mle_retvals\n",
      "  warnings.warn(\"Maximum Likelihood optimization failed to \"\n"
     ]
    },
    {
     "name": "stdout",
     "output_type": "stream",
     "text": [
      "Outlier Threshold: 0.15\n"
     ]
    },
    {
     "name": "stderr",
     "output_type": "stream",
     "text": [
      "g:\\My Drive\\Data_Projects\\MDS\\master_thesis\\fiscal-balance-forecast\\.venv\\Lib\\site-packages\\statsmodels\\tsa\\base\\tsa_model.py:473: ValueWarning: No frequency information was provided, so inferred frequency MS will be used.\n",
      "  self._init_dates(dates, freq)\n",
      "g:\\My Drive\\Data_Projects\\MDS\\master_thesis\\fiscal-balance-forecast\\.venv\\Lib\\site-packages\\statsmodels\\tsa\\base\\tsa_model.py:473: ValueWarning: No frequency information was provided, so inferred frequency MS will be used.\n",
      "  self._init_dates(dates, freq)\n",
      "g:\\My Drive\\Data_Projects\\MDS\\master_thesis\\fiscal-balance-forecast\\.venv\\Lib\\site-packages\\statsmodels\\base\\model.py:607: ConvergenceWarning: Maximum Likelihood optimization failed to converge. Check mle_retvals\n",
      "  warnings.warn(\"Maximum Likelihood optimization failed to \"\n"
     ]
    },
    {
     "name": "stdout",
     "output_type": "stream",
     "text": [
      "Outlier Threshold: 0.2\n"
     ]
    },
    {
     "name": "stderr",
     "output_type": "stream",
     "text": [
      "g:\\My Drive\\Data_Projects\\MDS\\master_thesis\\fiscal-balance-forecast\\.venv\\Lib\\site-packages\\statsmodels\\tsa\\base\\tsa_model.py:473: ValueWarning: No frequency information was provided, so inferred frequency MS will be used.\n",
      "  self._init_dates(dates, freq)\n",
      "g:\\My Drive\\Data_Projects\\MDS\\master_thesis\\fiscal-balance-forecast\\.venv\\Lib\\site-packages\\statsmodels\\tsa\\base\\tsa_model.py:473: ValueWarning: No frequency information was provided, so inferred frequency MS will be used.\n",
      "  self._init_dates(dates, freq)\n",
      "g:\\My Drive\\Data_Projects\\MDS\\master_thesis\\fiscal-balance-forecast\\.venv\\Lib\\site-packages\\statsmodels\\base\\model.py:607: ConvergenceWarning: Maximum Likelihood optimization failed to converge. Check mle_retvals\n",
      "  warnings.warn(\"Maximum Likelihood optimization failed to \"\n"
     ]
    },
    {
     "name": "stdout",
     "output_type": "stream",
     "text": [
      "REading File: ../data/data_cleaned_RF.csv\n",
      "Outlier Threshold: nan\n"
     ]
    },
    {
     "name": "stderr",
     "output_type": "stream",
     "text": [
      "g:\\My Drive\\Data_Projects\\MDS\\master_thesis\\fiscal-balance-forecast\\.venv\\Lib\\site-packages\\statsmodels\\tsa\\base\\tsa_model.py:473: ValueWarning: No frequency information was provided, so inferred frequency MS will be used.\n",
      "  self._init_dates(dates, freq)\n",
      "g:\\My Drive\\Data_Projects\\MDS\\master_thesis\\fiscal-balance-forecast\\.venv\\Lib\\site-packages\\statsmodels\\tsa\\base\\tsa_model.py:473: ValueWarning: No frequency information was provided, so inferred frequency MS will be used.\n",
      "  self._init_dates(dates, freq)\n",
      "g:\\My Drive\\Data_Projects\\MDS\\master_thesis\\fiscal-balance-forecast\\.venv\\Lib\\site-packages\\statsmodels\\base\\model.py:607: ConvergenceWarning: Maximum Likelihood optimization failed to converge. Check mle_retvals\n",
      "  warnings.warn(\"Maximum Likelihood optimization failed to \"\n"
     ]
    },
    {
     "name": "stdout",
     "output_type": "stream",
     "text": [
      "Outlier Threshold: 0.05\n"
     ]
    },
    {
     "name": "stderr",
     "output_type": "stream",
     "text": [
      "g:\\My Drive\\Data_Projects\\MDS\\master_thesis\\fiscal-balance-forecast\\.venv\\Lib\\site-packages\\statsmodels\\tsa\\base\\tsa_model.py:473: ValueWarning: No frequency information was provided, so inferred frequency MS will be used.\n",
      "  self._init_dates(dates, freq)\n",
      "g:\\My Drive\\Data_Projects\\MDS\\master_thesis\\fiscal-balance-forecast\\.venv\\Lib\\site-packages\\statsmodels\\tsa\\base\\tsa_model.py:473: ValueWarning: No frequency information was provided, so inferred frequency MS will be used.\n",
      "  self._init_dates(dates, freq)\n",
      "g:\\My Drive\\Data_Projects\\MDS\\master_thesis\\fiscal-balance-forecast\\.venv\\Lib\\site-packages\\statsmodels\\base\\model.py:607: ConvergenceWarning: Maximum Likelihood optimization failed to converge. Check mle_retvals\n",
      "  warnings.warn(\"Maximum Likelihood optimization failed to \"\n"
     ]
    },
    {
     "name": "stdout",
     "output_type": "stream",
     "text": [
      "Outlier Threshold: 0.1\n"
     ]
    },
    {
     "name": "stderr",
     "output_type": "stream",
     "text": [
      "g:\\My Drive\\Data_Projects\\MDS\\master_thesis\\fiscal-balance-forecast\\.venv\\Lib\\site-packages\\statsmodels\\tsa\\base\\tsa_model.py:473: ValueWarning: No frequency information was provided, so inferred frequency MS will be used.\n",
      "  self._init_dates(dates, freq)\n",
      "g:\\My Drive\\Data_Projects\\MDS\\master_thesis\\fiscal-balance-forecast\\.venv\\Lib\\site-packages\\statsmodels\\tsa\\base\\tsa_model.py:473: ValueWarning: No frequency information was provided, so inferred frequency MS will be used.\n",
      "  self._init_dates(dates, freq)\n",
      "g:\\My Drive\\Data_Projects\\MDS\\master_thesis\\fiscal-balance-forecast\\.venv\\Lib\\site-packages\\statsmodels\\base\\model.py:607: ConvergenceWarning: Maximum Likelihood optimization failed to converge. Check mle_retvals\n",
      "  warnings.warn(\"Maximum Likelihood optimization failed to \"\n"
     ]
    },
    {
     "name": "stdout",
     "output_type": "stream",
     "text": [
      "Outlier Threshold: 0.15\n"
     ]
    },
    {
     "name": "stderr",
     "output_type": "stream",
     "text": [
      "g:\\My Drive\\Data_Projects\\MDS\\master_thesis\\fiscal-balance-forecast\\.venv\\Lib\\site-packages\\statsmodels\\tsa\\base\\tsa_model.py:473: ValueWarning: No frequency information was provided, so inferred frequency MS will be used.\n",
      "  self._init_dates(dates, freq)\n",
      "g:\\My Drive\\Data_Projects\\MDS\\master_thesis\\fiscal-balance-forecast\\.venv\\Lib\\site-packages\\statsmodels\\tsa\\base\\tsa_model.py:473: ValueWarning: No frequency information was provided, so inferred frequency MS will be used.\n",
      "  self._init_dates(dates, freq)\n",
      "g:\\My Drive\\Data_Projects\\MDS\\master_thesis\\fiscal-balance-forecast\\.venv\\Lib\\site-packages\\statsmodels\\base\\model.py:607: ConvergenceWarning: Maximum Likelihood optimization failed to converge. Check mle_retvals\n",
      "  warnings.warn(\"Maximum Likelihood optimization failed to \"\n"
     ]
    },
    {
     "name": "stdout",
     "output_type": "stream",
     "text": [
      "Outlier Threshold: 0.2\n"
     ]
    },
    {
     "name": "stderr",
     "output_type": "stream",
     "text": [
      "g:\\My Drive\\Data_Projects\\MDS\\master_thesis\\fiscal-balance-forecast\\.venv\\Lib\\site-packages\\statsmodels\\tsa\\base\\tsa_model.py:473: ValueWarning: No frequency information was provided, so inferred frequency MS will be used.\n",
      "  self._init_dates(dates, freq)\n",
      "g:\\My Drive\\Data_Projects\\MDS\\master_thesis\\fiscal-balance-forecast\\.venv\\Lib\\site-packages\\statsmodels\\tsa\\base\\tsa_model.py:473: ValueWarning: No frequency information was provided, so inferred frequency MS will be used.\n",
      "  self._init_dates(dates, freq)\n",
      "g:\\My Drive\\Data_Projects\\MDS\\master_thesis\\fiscal-balance-forecast\\.venv\\Lib\\site-packages\\statsmodels\\base\\model.py:607: ConvergenceWarning: Maximum Likelihood optimization failed to converge. Check mle_retvals\n",
      "  warnings.warn(\"Maximum Likelihood optimization failed to \"\n"
     ]
    },
    {
     "name": "stdout",
     "output_type": "stream",
     "text": [
      "REading File: ../data/data_cleaned_LASSO.csv\n",
      "Outlier Threshold: nan\n"
     ]
    },
    {
     "name": "stderr",
     "output_type": "stream",
     "text": [
      "g:\\My Drive\\Data_Projects\\MDS\\master_thesis\\fiscal-balance-forecast\\.venv\\Lib\\site-packages\\statsmodels\\tsa\\base\\tsa_model.py:473: ValueWarning: No frequency information was provided, so inferred frequency MS will be used.\n",
      "  self._init_dates(dates, freq)\n",
      "g:\\My Drive\\Data_Projects\\MDS\\master_thesis\\fiscal-balance-forecast\\.venv\\Lib\\site-packages\\statsmodels\\tsa\\base\\tsa_model.py:473: ValueWarning: No frequency information was provided, so inferred frequency MS will be used.\n",
      "  self._init_dates(dates, freq)\n",
      "g:\\My Drive\\Data_Projects\\MDS\\master_thesis\\fiscal-balance-forecast\\.venv\\Lib\\site-packages\\statsmodels\\base\\model.py:607: ConvergenceWarning: Maximum Likelihood optimization failed to converge. Check mle_retvals\n",
      "  warnings.warn(\"Maximum Likelihood optimization failed to \"\n"
     ]
    },
    {
     "name": "stdout",
     "output_type": "stream",
     "text": [
      "Outlier Threshold: 0.05\n"
     ]
    },
    {
     "name": "stderr",
     "output_type": "stream",
     "text": [
      "g:\\My Drive\\Data_Projects\\MDS\\master_thesis\\fiscal-balance-forecast\\.venv\\Lib\\site-packages\\statsmodels\\tsa\\base\\tsa_model.py:473: ValueWarning: No frequency information was provided, so inferred frequency MS will be used.\n",
      "  self._init_dates(dates, freq)\n",
      "g:\\My Drive\\Data_Projects\\MDS\\master_thesis\\fiscal-balance-forecast\\.venv\\Lib\\site-packages\\statsmodels\\tsa\\base\\tsa_model.py:473: ValueWarning: No frequency information was provided, so inferred frequency MS will be used.\n",
      "  self._init_dates(dates, freq)\n",
      "g:\\My Drive\\Data_Projects\\MDS\\master_thesis\\fiscal-balance-forecast\\.venv\\Lib\\site-packages\\statsmodels\\base\\model.py:607: ConvergenceWarning: Maximum Likelihood optimization failed to converge. Check mle_retvals\n",
      "  warnings.warn(\"Maximum Likelihood optimization failed to \"\n"
     ]
    },
    {
     "name": "stdout",
     "output_type": "stream",
     "text": [
      "Outlier Threshold: 0.1\n"
     ]
    },
    {
     "name": "stderr",
     "output_type": "stream",
     "text": [
      "g:\\My Drive\\Data_Projects\\MDS\\master_thesis\\fiscal-balance-forecast\\.venv\\Lib\\site-packages\\statsmodels\\tsa\\base\\tsa_model.py:473: ValueWarning: No frequency information was provided, so inferred frequency MS will be used.\n",
      "  self._init_dates(dates, freq)\n",
      "g:\\My Drive\\Data_Projects\\MDS\\master_thesis\\fiscal-balance-forecast\\.venv\\Lib\\site-packages\\statsmodels\\tsa\\base\\tsa_model.py:473: ValueWarning: No frequency information was provided, so inferred frequency MS will be used.\n",
      "  self._init_dates(dates, freq)\n",
      "g:\\My Drive\\Data_Projects\\MDS\\master_thesis\\fiscal-balance-forecast\\.venv\\Lib\\site-packages\\statsmodels\\base\\model.py:607: ConvergenceWarning: Maximum Likelihood optimization failed to converge. Check mle_retvals\n",
      "  warnings.warn(\"Maximum Likelihood optimization failed to \"\n"
     ]
    },
    {
     "name": "stdout",
     "output_type": "stream",
     "text": [
      "Outlier Threshold: 0.15\n"
     ]
    },
    {
     "name": "stderr",
     "output_type": "stream",
     "text": [
      "g:\\My Drive\\Data_Projects\\MDS\\master_thesis\\fiscal-balance-forecast\\.venv\\Lib\\site-packages\\statsmodels\\tsa\\base\\tsa_model.py:473: ValueWarning: No frequency information was provided, so inferred frequency MS will be used.\n",
      "  self._init_dates(dates, freq)\n",
      "g:\\My Drive\\Data_Projects\\MDS\\master_thesis\\fiscal-balance-forecast\\.venv\\Lib\\site-packages\\statsmodels\\tsa\\base\\tsa_model.py:473: ValueWarning: No frequency information was provided, so inferred frequency MS will be used.\n",
      "  self._init_dates(dates, freq)\n",
      "g:\\My Drive\\Data_Projects\\MDS\\master_thesis\\fiscal-balance-forecast\\.venv\\Lib\\site-packages\\statsmodels\\base\\model.py:607: ConvergenceWarning: Maximum Likelihood optimization failed to converge. Check mle_retvals\n",
      "  warnings.warn(\"Maximum Likelihood optimization failed to \"\n"
     ]
    },
    {
     "name": "stdout",
     "output_type": "stream",
     "text": [
      "Outlier Threshold: 0.2\n"
     ]
    },
    {
     "name": "stderr",
     "output_type": "stream",
     "text": [
      "g:\\My Drive\\Data_Projects\\MDS\\master_thesis\\fiscal-balance-forecast\\.venv\\Lib\\site-packages\\statsmodels\\tsa\\base\\tsa_model.py:473: ValueWarning: No frequency information was provided, so inferred frequency MS will be used.\n",
      "  self._init_dates(dates, freq)\n",
      "g:\\My Drive\\Data_Projects\\MDS\\master_thesis\\fiscal-balance-forecast\\.venv\\Lib\\site-packages\\statsmodels\\tsa\\base\\tsa_model.py:473: ValueWarning: No frequency information was provided, so inferred frequency MS will be used.\n",
      "  self._init_dates(dates, freq)\n",
      "g:\\My Drive\\Data_Projects\\MDS\\master_thesis\\fiscal-balance-forecast\\.venv\\Lib\\site-packages\\statsmodels\\base\\model.py:607: ConvergenceWarning: Maximum Likelihood optimization failed to converge. Check mle_retvals\n",
      "  warnings.warn(\"Maximum Likelihood optimization failed to \"\n"
     ]
    },
    {
     "name": "stdout",
     "output_type": "stream",
     "text": [
      "REading File: ../data/data_cleaned_RFE.csv\n",
      "Outlier Threshold: nan\n"
     ]
    },
    {
     "name": "stderr",
     "output_type": "stream",
     "text": [
      "g:\\My Drive\\Data_Projects\\MDS\\master_thesis\\fiscal-balance-forecast\\.venv\\Lib\\site-packages\\statsmodels\\tsa\\base\\tsa_model.py:473: ValueWarning: No frequency information was provided, so inferred frequency MS will be used.\n",
      "  self._init_dates(dates, freq)\n",
      "g:\\My Drive\\Data_Projects\\MDS\\master_thesis\\fiscal-balance-forecast\\.venv\\Lib\\site-packages\\statsmodels\\tsa\\base\\tsa_model.py:473: ValueWarning: No frequency information was provided, so inferred frequency MS will be used.\n",
      "  self._init_dates(dates, freq)\n",
      "g:\\My Drive\\Data_Projects\\MDS\\master_thesis\\fiscal-balance-forecast\\.venv\\Lib\\site-packages\\statsmodels\\base\\model.py:607: ConvergenceWarning: Maximum Likelihood optimization failed to converge. Check mle_retvals\n",
      "  warnings.warn(\"Maximum Likelihood optimization failed to \"\n"
     ]
    },
    {
     "name": "stdout",
     "output_type": "stream",
     "text": [
      "Outlier Threshold: 0.05\n"
     ]
    },
    {
     "name": "stderr",
     "output_type": "stream",
     "text": [
      "g:\\My Drive\\Data_Projects\\MDS\\master_thesis\\fiscal-balance-forecast\\.venv\\Lib\\site-packages\\statsmodels\\tsa\\base\\tsa_model.py:473: ValueWarning: No frequency information was provided, so inferred frequency MS will be used.\n",
      "  self._init_dates(dates, freq)\n",
      "g:\\My Drive\\Data_Projects\\MDS\\master_thesis\\fiscal-balance-forecast\\.venv\\Lib\\site-packages\\statsmodels\\tsa\\base\\tsa_model.py:473: ValueWarning: No frequency information was provided, so inferred frequency MS will be used.\n",
      "  self._init_dates(dates, freq)\n",
      "g:\\My Drive\\Data_Projects\\MDS\\master_thesis\\fiscal-balance-forecast\\.venv\\Lib\\site-packages\\statsmodels\\base\\model.py:607: ConvergenceWarning: Maximum Likelihood optimization failed to converge. Check mle_retvals\n",
      "  warnings.warn(\"Maximum Likelihood optimization failed to \"\n"
     ]
    },
    {
     "name": "stdout",
     "output_type": "stream",
     "text": [
      "Outlier Threshold: 0.1\n"
     ]
    },
    {
     "name": "stderr",
     "output_type": "stream",
     "text": [
      "g:\\My Drive\\Data_Projects\\MDS\\master_thesis\\fiscal-balance-forecast\\.venv\\Lib\\site-packages\\statsmodels\\tsa\\base\\tsa_model.py:473: ValueWarning: No frequency information was provided, so inferred frequency MS will be used.\n",
      "  self._init_dates(dates, freq)\n",
      "g:\\My Drive\\Data_Projects\\MDS\\master_thesis\\fiscal-balance-forecast\\.venv\\Lib\\site-packages\\statsmodels\\tsa\\base\\tsa_model.py:473: ValueWarning: No frequency information was provided, so inferred frequency MS will be used.\n",
      "  self._init_dates(dates, freq)\n",
      "g:\\My Drive\\Data_Projects\\MDS\\master_thesis\\fiscal-balance-forecast\\.venv\\Lib\\site-packages\\statsmodels\\base\\model.py:607: ConvergenceWarning: Maximum Likelihood optimization failed to converge. Check mle_retvals\n",
      "  warnings.warn(\"Maximum Likelihood optimization failed to \"\n"
     ]
    },
    {
     "name": "stdout",
     "output_type": "stream",
     "text": [
      "Outlier Threshold: 0.15\n"
     ]
    },
    {
     "name": "stderr",
     "output_type": "stream",
     "text": [
      "g:\\My Drive\\Data_Projects\\MDS\\master_thesis\\fiscal-balance-forecast\\.venv\\Lib\\site-packages\\statsmodels\\tsa\\base\\tsa_model.py:473: ValueWarning: No frequency information was provided, so inferred frequency MS will be used.\n",
      "  self._init_dates(dates, freq)\n",
      "g:\\My Drive\\Data_Projects\\MDS\\master_thesis\\fiscal-balance-forecast\\.venv\\Lib\\site-packages\\statsmodels\\tsa\\base\\tsa_model.py:473: ValueWarning: No frequency information was provided, so inferred frequency MS will be used.\n",
      "  self._init_dates(dates, freq)\n",
      "g:\\My Drive\\Data_Projects\\MDS\\master_thesis\\fiscal-balance-forecast\\.venv\\Lib\\site-packages\\statsmodels\\base\\model.py:607: ConvergenceWarning: Maximum Likelihood optimization failed to converge. Check mle_retvals\n",
      "  warnings.warn(\"Maximum Likelihood optimization failed to \"\n"
     ]
    },
    {
     "name": "stdout",
     "output_type": "stream",
     "text": [
      "Outlier Threshold: 0.2\n"
     ]
    },
    {
     "name": "stderr",
     "output_type": "stream",
     "text": [
      "g:\\My Drive\\Data_Projects\\MDS\\master_thesis\\fiscal-balance-forecast\\.venv\\Lib\\site-packages\\statsmodels\\tsa\\base\\tsa_model.py:473: ValueWarning: No frequency information was provided, so inferred frequency MS will be used.\n",
      "  self._init_dates(dates, freq)\n",
      "g:\\My Drive\\Data_Projects\\MDS\\master_thesis\\fiscal-balance-forecast\\.venv\\Lib\\site-packages\\statsmodels\\tsa\\base\\tsa_model.py:473: ValueWarning: No frequency information was provided, so inferred frequency MS will be used.\n",
      "  self._init_dates(dates, freq)\n",
      "g:\\My Drive\\Data_Projects\\MDS\\master_thesis\\fiscal-balance-forecast\\.venv\\Lib\\site-packages\\statsmodels\\base\\model.py:607: ConvergenceWarning: Maximum Likelihood optimization failed to converge. Check mle_retvals\n",
      "  warnings.warn(\"Maximum Likelihood optimization failed to \"\n"
     ]
    }
   ],
   "source": [
    "from pmdarima import auto_arima\n",
    "import pandas as pd\n",
    "import numpy as np\n",
    "import useful_functions as uf\n",
    "from statsmodels.tsa.statespace.sarimax import SARIMAX\n",
    "from sklearn.metrics import mean_absolute_error, mean_absolute_percentage_error, mean_squared_error\n",
    "from sklearn.preprocessing import MinMaxScaler\n",
    "# Lista dos caminhos dos arquivos\n",
    "file_paths = [\n",
    "    '../data/data_orig_parameters.csv',\n",
    "    '../data/BR_param_EDA.csv',\n",
    "    '../data/data_cleaned_RF.csv',\n",
    "    '../data/data_cleaned_LASSO.csv',\n",
    "    '../data/data_cleaned_RFE.csv'\n",
    "]\n",
    "\n",
    "# Lista dos limiares de remoção de outliers\n",
    "outlier_thresholds = [np.nan, 0.05, 0.10, 0.15, 0.20]\n",
    "\n",
    "# Dicionário para armazenar os resultados dos erros\n",
    "errors_dict = {}\n",
    "\n",
    "# Loop pelos caminhos dos arquivos e pelos limiares de outliers\n",
    "for file_path in file_paths:\n",
    "    print(f\"REading File: {file_path}\")\n",
    "    for remove_outliers_threshold in outlier_thresholds:\n",
    "        print(f\"Outlier Threshold: {remove_outliers_threshold}\")\n",
    "        # Load  data\n",
    "        df_raw = pd.read_csv(file_path, parse_dates=['Date'], index_col='Date')\n",
    "        target_variable = df_raw.columns[0]\n",
    "        #df = df_raw[[target_variable]]\n",
    "\n",
    "        # Remove outliers using the threshold\n",
    "        if not pd.isna(remove_outliers_threshold):\n",
    "            df_cleaned = uf.remove_outliers(df_raw.copy(), threshold=remove_outliers_threshold)\n",
    "        else:\n",
    "            df_cleaned = df_raw.copy()\n",
    "\n",
    "        # Preenchimento de valores faltantes\n",
    "        df_adjusted = uf.fill_missing_values(df_cleaned)\n",
    "\n",
    "        # Definição dos conjuntos de treinamento e teste\n",
    "        test_size = 48  # meses\n",
    "        df_train = df_adjusted[:-test_size]\n",
    "        df_test = df_adjusted[-test_size:]\n",
    "\n",
    "        # Let´s scale the dfs\n",
    "\n",
    "        #scaled_train, scaled_test, params = uf.scale_data(train_raw, test_raw, 'normalize')\n",
    "\n",
    "        scaler = MinMaxScaler(feature_range=(0,1))\n",
    "        scaled_train = scaler.fit_transform(df_train)\n",
    "        scaled_test = scaler.transform(df_test)\n",
    "        # include df columns names in the train and test sets\n",
    "        train = pd.DataFrame(scaled_train, columns=df_adjusted.columns)\n",
    "        test = pd.DataFrame(scaled_test, columns=df_adjusted.columns)\n",
    "        # Include the index in the train and test sets\n",
    "        train.index = df_adjusted.index[:-test_size]\n",
    "        test.index = df_adjusted.index[-test_size:]\n",
    "        # define the exogenous variables as all except the target variable\n",
    "        # Subset df to get only the first column\n",
    "        exog_var_train = train.iloc[:, 1:].ffill() # fill NAs with the last valid observation\n",
    "        exog_var_test = test.iloc[:, 1:].ffill()# fill NAs with the last valid observation\n",
    "        # Modelagem e previsão\n",
    "        auto_model = auto_arima(train[target_variable], \n",
    "                              start_p=0, start_q=0, \n",
    "                              max_p=4, max_q=4, \n",
    "                              m=12, \n",
    "                              start_P=0, start_Q=0, \n",
    "                              max_P=4, max_Q=4, \n",
    "                              seasonal=True, \n",
    "                              d=None, D=1,  \n",
    "                              trace=False,\n",
    "                              error_action='ignore',  \n",
    "                              suppress_warnings=True, \n",
    "                              stepwise=True,\n",
    "                              exog = exog_var_train, \n",
    "                              max_order=5)\n",
    "        \n",
    "        model = SARIMAX(train[target_variable], order=auto_model.order, \n",
    "                        seasonal_order=auto_model.seasonal_order, exog = exog_var_train)\n",
    "        \n",
    "        model_fit = model.fit(disp=False, maxiter=50)\n",
    "        predictions = model_fit.forecast(steps=len(test[target_variable]), exog = exog_var_test)\n",
    "\n",
    "        # Let's reverse the scaling to get the real values\n",
    "        original_data_test = df_adjusted[-test_size:][target_variable]\n",
    "        # Convert Pandas Series to NumPy arrays and reshape\n",
    "        forecasts_on_test_scaled_np = predictions.to_numpy().reshape(-1, 1)\n",
    "        forecasts_on_test_scaled_np = np.repeat(forecasts_on_test_scaled_np,test.shape[1], axis=-1)\n",
    "\n",
    "        # Inverse transform to get the real values\n",
    "        forecasts_on_test_all = scaler.inverse_transform(forecasts_on_test_scaled_np)\n",
    "\n",
    "        # Subset the forecast to get only the first column\n",
    "        forecasts_on_test = forecasts_on_test_all[:,0]\n",
    "\n",
    "        # Convert to pandas dataframe and include the index\n",
    "        forecasts_on_test = pd.DataFrame(forecasts_on_test, index=test.index, columns=[target_variable])\n",
    "\n",
    "\n",
    "        # Cálculo dos erros\n",
    "        mape = mean_absolute_percentage_error(original_data_test, forecasts_on_test)\n",
    "        rmse = np.sqrt(mean_squared_error(original_data_test, forecasts_on_test))\n",
    "        mae = mean_absolute_error(original_data_test, forecasts_on_test)\n",
    "\n",
    "        # Armazenamento dos erros no dicionário\n",
    "        errors_dict[(file_path, remove_outliers_threshold)] = {'MAPE': mape, 'RMSE': rmse, 'MAE': mae}\n",
    "\n"
   ]
  },
  {
   "cell_type": "code",
   "execution_count": 2,
   "metadata": {},
   "outputs": [
    {
     "name": "stdout",
     "output_type": "stream",
     "text": [
      "{('../data/data_orig_parameters.csv', nan): {'MAPE': 2.0816466635781286, 'RMSE': 57651.846987597826, 'MAE': 41942.11840976812}, ('../data/data_orig_parameters.csv', 0.05): {'MAPE': 2.2490469668650412, 'RMSE': 52023.501200104154, 'MAE': 37074.09551355226}, ('../data/data_orig_parameters.csv', 0.1): {'MAPE': 5.755532971004488, 'RMSE': 40987.53463561887, 'MAE': 30267.969263924784}, ('../data/data_orig_parameters.csv', 0.15): {'MAPE': 11.91920310506717, 'RMSE': 35080.464665931744, 'MAE': 27426.326005784194}, ('../data/data_orig_parameters.csv', 0.2): {'MAPE': 3.2282908298674484, 'RMSE': 29390.64515967309, 'MAE': 22687.149457123265}, ('../data/BR_param_EDA.csv', nan): {'MAPE': 56.854825274084504, 'RMSE': 588786.592166604, 'MAE': 454692.3387583306}, ('../data/BR_param_EDA.csv', 0.05): {'MAPE': 50.22361796653365, 'RMSE': 531507.4749419176, 'MAE': 404129.691475207}, ('../data/BR_param_EDA.csv', 0.1): {'MAPE': 20.174267238081153, 'RMSE': 171109.2927900669, 'MAE': 150044.37566768492}, ('../data/BR_param_EDA.csv', 0.15): {'MAPE': 66.39905025305767, 'RMSE': 230019.928494364, 'MAE': 181050.37548135986}, ('../data/BR_param_EDA.csv', 0.2): {'MAPE': 6.445059669454662, 'RMSE': 69085.02898998866, 'MAE': 55930.372232321795}, ('../data/data_cleaned_RF.csv', nan): {'MAPE': 1.2053251012473207, 'RMSE': 43961.40493705524, 'MAE': 28430.89634176592}, ('../data/data_cleaned_RF.csv', 0.05): {'MAPE': 1.1531778546129139, 'RMSE': 39885.58450298883, 'MAE': 26765.427853401914}, ('../data/data_cleaned_RF.csv', 0.1): {'MAPE': 6.550857340531077, 'RMSE': 32617.009077008304, 'MAE': 22695.35626231748}, ('../data/data_cleaned_RF.csv', 0.15): {'MAPE': 7.7982872764532765, 'RMSE': 31753.57515104983, 'MAE': 25708.624564613216}, ('../data/data_cleaned_RF.csv', 0.2): {'MAPE': 3.3568205350583984, 'RMSE': 27472.135067160496, 'MAE': 21844.33006532734}, ('../data/data_cleaned_LASSO.csv', nan): {'MAPE': 3.4378191585947047, 'RMSE': 44626.91817431765, 'MAE': 37094.832329764846}, ('../data/data_cleaned_LASSO.csv', 0.05): {'MAPE': 2.8231168670767985, 'RMSE': 45897.287137836494, 'MAE': 35535.2635001318}, ('../data/data_cleaned_LASSO.csv', 0.1): {'MAPE': 8.354456447413146, 'RMSE': 38606.66205498965, 'MAE': 30912.83816843817}, ('../data/data_cleaned_LASSO.csv', 0.15): {'MAPE': 9.669011892965392, 'RMSE': 31573.433558607547, 'MAE': 27061.314775376315}, ('../data/data_cleaned_LASSO.csv', 0.2): {'MAPE': 3.4507091605102667, 'RMSE': 27124.460964777612, 'MAE': 22692.018359879876}, ('../data/data_cleaned_RFE.csv', nan): {'MAPE': 1.2106124948016828, 'RMSE': 45327.56788033016, 'MAE': 29810.374220281403}, ('../data/data_cleaned_RFE.csv', 0.05): {'MAPE': 1.1601785955737343, 'RMSE': 41001.09849480104, 'MAE': 28299.055939073656}, ('../data/data_cleaned_RFE.csv', 0.1): {'MAPE': 7.711173414657413, 'RMSE': 34442.66889230954, 'MAE': 24189.18394179641}, ('../data/data_cleaned_RFE.csv', 0.15): {'MAPE': 7.816853876408918, 'RMSE': 26952.414878201984, 'MAE': 20357.61445008366}, ('../data/data_cleaned_RFE.csv', 0.2): {'MAPE': 3.4518688645857085, 'RMSE': 27529.36687004548, 'MAE': 21881.33802803853}}\n"
     ]
    }
   ],
   "source": [
    "print(errors_dict)"
   ]
  },
  {
   "cell_type": "code",
   "execution_count": 3,
   "metadata": {},
   "outputs": [
    {
     "name": "stdout",
     "output_type": "stream",
     "text": [
      "Model: SARIMAX., File: ../data/data_orig_parameters.csv, Outlier Threshold: nan ->, MAPE: 2.08, RMSE: 57651.85, MAE: 41942.12\n",
      "Model: SARIMAX., File: ../data/data_orig_parameters.csv, Outlier Threshold: 0.05 ->, MAPE: 2.25, RMSE: 52023.50, MAE: 37074.10\n",
      "Model: SARIMAX., File: ../data/data_orig_parameters.csv, Outlier Threshold: 0.1 ->, MAPE: 5.76, RMSE: 40987.53, MAE: 30267.97\n",
      "Model: SARIMAX., File: ../data/data_orig_parameters.csv, Outlier Threshold: 0.15 ->, MAPE: 11.92, RMSE: 35080.46, MAE: 27426.33\n",
      "Model: SARIMAX., File: ../data/data_orig_parameters.csv, Outlier Threshold: 0.2 ->, MAPE: 3.23, RMSE: 29390.65, MAE: 22687.15\n",
      "Model: SARIMAX., File: ../data/BR_param_EDA.csv, Outlier Threshold: nan ->, MAPE: 56.85, RMSE: 588786.59, MAE: 454692.34\n",
      "Model: SARIMAX., File: ../data/BR_param_EDA.csv, Outlier Threshold: 0.05 ->, MAPE: 50.22, RMSE: 531507.47, MAE: 404129.69\n",
      "Model: SARIMAX., File: ../data/BR_param_EDA.csv, Outlier Threshold: 0.1 ->, MAPE: 20.17, RMSE: 171109.29, MAE: 150044.38\n",
      "Model: SARIMAX., File: ../data/BR_param_EDA.csv, Outlier Threshold: 0.15 ->, MAPE: 66.40, RMSE: 230019.93, MAE: 181050.38\n",
      "Model: SARIMAX., File: ../data/BR_param_EDA.csv, Outlier Threshold: 0.2 ->, MAPE: 6.45, RMSE: 69085.03, MAE: 55930.37\n",
      "Model: SARIMAX., File: ../data/data_cleaned_RF.csv, Outlier Threshold: nan ->, MAPE: 1.21, RMSE: 43961.40, MAE: 28430.90\n",
      "Model: SARIMAX., File: ../data/data_cleaned_RF.csv, Outlier Threshold: 0.05 ->, MAPE: 1.15, RMSE: 39885.58, MAE: 26765.43\n",
      "Model: SARIMAX., File: ../data/data_cleaned_RF.csv, Outlier Threshold: 0.1 ->, MAPE: 6.55, RMSE: 32617.01, MAE: 22695.36\n",
      "Model: SARIMAX., File: ../data/data_cleaned_RF.csv, Outlier Threshold: 0.15 ->, MAPE: 7.80, RMSE: 31753.58, MAE: 25708.62\n",
      "Model: SARIMAX., File: ../data/data_cleaned_RF.csv, Outlier Threshold: 0.2 ->, MAPE: 3.36, RMSE: 27472.14, MAE: 21844.33\n",
      "Model: SARIMAX., File: ../data/data_cleaned_LASSO.csv, Outlier Threshold: nan ->, MAPE: 3.44, RMSE: 44626.92, MAE: 37094.83\n",
      "Model: SARIMAX., File: ../data/data_cleaned_LASSO.csv, Outlier Threshold: 0.05 ->, MAPE: 2.82, RMSE: 45897.29, MAE: 35535.26\n",
      "Model: SARIMAX., File: ../data/data_cleaned_LASSO.csv, Outlier Threshold: 0.1 ->, MAPE: 8.35, RMSE: 38606.66, MAE: 30912.84\n",
      "Model: SARIMAX., File: ../data/data_cleaned_LASSO.csv, Outlier Threshold: 0.15 ->, MAPE: 9.67, RMSE: 31573.43, MAE: 27061.31\n",
      "Model: SARIMAX., File: ../data/data_cleaned_LASSO.csv, Outlier Threshold: 0.2 ->, MAPE: 3.45, RMSE: 27124.46, MAE: 22692.02\n",
      "Model: SARIMAX., File: ../data/data_cleaned_RFE.csv, Outlier Threshold: nan ->, MAPE: 1.21, RMSE: 45327.57, MAE: 29810.37\n",
      "Model: SARIMAX., File: ../data/data_cleaned_RFE.csv, Outlier Threshold: 0.05 ->, MAPE: 1.16, RMSE: 41001.10, MAE: 28299.06\n",
      "Model: SARIMAX., File: ../data/data_cleaned_RFE.csv, Outlier Threshold: 0.1 ->, MAPE: 7.71, RMSE: 34442.67, MAE: 24189.18\n",
      "Model: SARIMAX., File: ../data/data_cleaned_RFE.csv, Outlier Threshold: 0.15 ->, MAPE: 7.82, RMSE: 26952.41, MAE: 20357.61\n",
      "Model: SARIMAX., File: ../data/data_cleaned_RFE.csv, Outlier Threshold: 0.2 ->, MAPE: 3.45, RMSE: 27529.37, MAE: 21881.34\n"
     ]
    }
   ],
   "source": [
    "for key, value in errors_dict.items():\n",
    "    # Supondo que `value` seja um dicionário com as chaves 'MAPE', 'RMSE', 'MAE'\n",
    "    mape = value['MAPE']\n",
    "    rmse = value['RMSE']\n",
    "    mae = value['MAE']\n",
    "    print(f\"Model: SARIMAX., File: {key[0]}, Outlier Threshold: {key[1]} ->, MAPE: {mape:.2f}, RMSE: {rmse:.2f}, MAE: {mae:.2f}\")"
   ]
  }
 ],
 "metadata": {
  "kernelspec": {
   "display_name": ".venv2",
   "language": "python",
   "name": "python3"
  },
  "language_info": {
   "codemirror_mode": {
    "name": "ipython",
    "version": 3
   },
   "file_extension": ".py",
   "mimetype": "text/x-python",
   "name": "python",
   "nbconvert_exporter": "python",
   "pygments_lexer": "ipython3",
   "version": "3.12.2"
  }
 },
 "nbformat": 4,
 "nbformat_minor": 2
}
