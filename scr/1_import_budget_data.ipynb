{
 "cells": [
  {
   "cell_type": "markdown",
   "metadata": {},
   "source": [
    "### This is the code to import data from the Brazilian budget execution system\n",
    "\n",
    "#### Source of data\n",
    "- For data from 2001-2013: Brazilian budget system. Available at https://www.siop.planejamento.gov.br/modulo/login/index.html#/. Data collected in Jan 25th, 2024. It contains annual data from 2001 to 2023, but we'll use only data from 2001-2013.\n",
    "- For data from 2014-2024: Brazilian \"Tesouro Gerencial\" System. Data manually obtained from Brazilian Ministry of Economy by email request. Data collected in February, 2024. It contains monthly data from 2014 to 2024.\n",
    "\n",
    "The parameters to subset the budget data are the following:\n",
    "- Function:\n",
    "    Label 9 - Social Security,\n",
    "    Label 10 - Health,\n",
    "    Label 12 - Education.\n",
    "\n",
    "- Expenditure category group\n",
    "    Label 4 and 5 - Investments and financial reversals, \n",
    "    Label 1 - Personnel.\n",
    "\n",
    "- Classification based on the impact on primary result - types of expenses\n",
    "    Label 1 - Mandatory, \n",
    "    Labels 2 and 3 - Discretionary, \n",
    "    Labels 6, 7, 8, and 9 - Amendments.\n",
    "\n",
    "#### Packages\n",
    "- Package Pandas (2.2). (2024). [Python]. https://pandas.pydata.org/"
   ]
  },
  {
   "cell_type": "code",
   "execution_count": 1,
   "metadata": {},
   "outputs": [],
   "source": [
    "# Importing the libraries\n",
    "import pandas as pd\n",
    "import useful_functions as uf\n"
   ]
  },
  {
   "cell_type": "code",
   "execution_count": 2,
   "metadata": {},
   "outputs": [],
   "source": [
    "# Read in the data from 2000 to 2023\n",
    "df_budget_raw_00_23 = pd.read_excel('../data/BUDGET_raw_2000-2023_25.01.2024.xlsx')\n",
    "# Read in the data from 2014 to 2024\n",
    "df_budget_raw_14_24 = pd.read_excel('../data/BUDGET_raw_2014-2024_feb_2024.xlsx')\n"
   ]
  },
  {
   "cell_type": "code",
   "execution_count": 3,
   "metadata": {},
   "outputs": [
    {
     "name": "stderr",
     "output_type": "stream",
     "text": [
      "C:\\Users\\augus\\AppData\\Local\\Temp\\ipykernel_30768\\1432614061.py:22: FutureWarning: The default value of regex will change from True to False in a future version. In addition, single character regular expressions will *not* be treated as literal strings when regex=True.\n",
      "  df_budget_01_13.loc[:, value] = df_budget_01_13[value].str.replace('.', '').str.replace(',', '.').astype(float)\n",
      "C:\\Users\\augus\\AppData\\Local\\Temp\\ipykernel_30768\\1432614061.py:22: DeprecationWarning: In a future version, `df.iloc[:, i] = newvals` will attempt to set the values inplace instead of always setting a new array. To retain the old behavior, use either `df[df.columns[i]] = newvals` or, if columns are non-unique, `df.isetitem(i, newvals)`\n",
      "  df_budget_01_13.loc[:, value] = df_budget_01_13[value].str.replace('.', '').str.replace(',', '.').astype(float)\n",
      "C:\\Users\\augus\\AppData\\Local\\Temp\\ipykernel_30768\\1432614061.py:49: PerformanceWarning: Non-vectorized DateOffset being applied to Series or DatetimeIndex.\n",
      "  df_budget_01_13.index = pd.to_datetime(df_budget_01_13.index) + pd.DateOffset(month=12)\n"
     ]
    }
   ],
   "source": [
    "# Firstly, let's work with data from 2000-2013\n",
    "df_budget_raw_01_13 = df_budget_raw_00_23[(df_budget_raw_00_23['Ano'] >= 2001) & (df_budget_raw_00_23['Ano'] <= 2013)].copy()\n",
    "\n",
    "# Rename columns\n",
    "df_budget_raw_01_13.rename(columns={'Ano': 'year',\n",
    "                                    'Função': 'function', 'Grupo de Despesa': 'group', \n",
    "                                    'Resultado Primário': 'type', 'Empenhado': 'spent_value',\n",
    "                                    'Dotação Inicial': 'initial_value'}, \n",
    "                                    inplace=True)\n",
    "\n",
    "# Extract codes for each column\n",
    "df_budget_raw_01_13['function_code'] = df_budget_raw_01_13['function'].str.split(' ', n = 1).str[0].astype(int)\n",
    "df_budget_raw_01_13['group_code'] = df_budget_raw_01_13['group'].str.split(' ', n = 1).str[0].astype(int)\n",
    "df_budget_raw_01_13['type_code'] = df_budget_raw_01_13['type'].str.split(' ', n = 1).str[0].astype(int)\n",
    "\n",
    "# Reorder columns and save the new dataframe as df_budget_raw_1. \n",
    "df_budget_01_13 = df_budget_raw_01_13.reindex(columns=['year', 'function', 'function_code', 'group', 'group_code', 'type', 'type_code', 'initial_value', 'spent_value'])\n",
    "\n",
    "# Adjust the values format\n",
    "for value in ['initial_value', 'spent_value']:\n",
    "    df_budget_01_13.loc[:, value] = df_budget_01_13[value].str.replace('.', '').str.replace(',', '.').astype(float)\n",
    "\n",
    "# Add date column\n",
    "df_budget_01_13['date'] = pd.to_datetime(df_budget_01_13['year'], format='%Y').dt.strftime('%Y-%m-%d')\n",
    "\n",
    "# Reorganize columns to bring the 'date' column to the first position\n",
    "df_budget_01_13.insert(0, 'date', df_budget_01_13.pop('date'))\n",
    "\n",
    "# Drop the original 'year' column\n",
    "df_budget_01_13.drop(columns=['year'], inplace=True)\n",
    "\n",
    "# Convert labels to categorical data types\n",
    "df_budget_01_13['function_code'] = df_budget_01_13['function_code'].astype(str).str.lstrip('0').astype('category')\n",
    "df_budget_01_13['group_code'] = df_budget_01_13['group_code'].astype('category')\n",
    "df_budget_01_13['type_code'] = df_budget_01_13['type_code'].astype('category')\n",
    "\n",
    "# Adjust the 'function' column to remove leading zeros\n",
    "df_budget_01_13['function'] = df_budget_01_13['function'].astype(str).str.lstrip('0')\n",
    "\n",
    "# Convert 'initial_value', 'spent_value' to float\n",
    "df_budget_01_13['initial_value'] = df_budget_01_13['initial_value'].astype(float)\n",
    "df_budget_01_13['spent_value'] = df_budget_01_13['spent_value'].astype(float)\n",
    "\n",
    "# Since we don't have monthly data, change the day of the index to the last day of each year, since the data corresponds to the end of each year\n",
    "# Set the index to be the column 'date'\n",
    "df_budget_01_13.set_index('date', inplace=True)\n",
    "# Change the index to the last month of the year\n",
    "df_budget_01_13.index = pd.to_datetime(df_budget_01_13.index) + pd.DateOffset(month=12)\n",
    "# Reset the index\n",
    "df_budget_01_13.reset_index(inplace=True)\n",
    "\n",
    "# replace the values for january 1st of each year for 0 on variables 'initial_value' and 'spent_value'\n",
    "df_budget_01_13.loc[df_budget_01_13['date'].dt.month == 1, ['initial_value', 'spent_value']] = 0\n",
    "\n"
   ]
  },
  {
   "cell_type": "code",
   "execution_count": 4,
   "metadata": {},
   "outputs": [],
   "source": [
    "# Let's define the expenditure variables as zero in the first they of each year.\n",
    "# Create a copy of the dataframe\n",
    "df_budget_copy = df_budget_01_13.copy()\n",
    "\n",
    "# Replace the day in the date from yyyy-12-01 to yyyy-01-01\n",
    "df_budget_copy['date'] = df_budget_copy['date'].apply(lambda x: x.replace(day=1, month=1) if x.month == 12 else x)\n",
    "# Replace the values for 'initial_value' and 'spent_value' to 0 for the first day of each year\n",
    "df_budget_copy[['spent_value', 'initial_value']] = 0\n",
    "\n",
    "# Concatenate the original and zero value DataFrames\n",
    "df_budget_01_13 = pd.concat([df_budget_01_13, df_budget_copy])\n",
    "\n",
    "# Sort the DataFrame by date\n",
    "df_budget_01_13.sort_values('date', inplace=True)\n"
   ]
  },
  {
   "cell_type": "code",
   "execution_count": 5,
   "metadata": {},
   "outputs": [],
   "source": [
    "# Now let's adjust data from 2014-2024\n",
    "df_budget_14_24 = df_budget_raw_14_24.copy()\n",
    "\n",
    "# Dictionary to map Portuguese month abbreviations to numbers\n",
    "month_mapping = {\n",
    "    'JAN': '01', 'FEV': '02', 'MAR': '03', 'ABR': '04',\n",
    "    'MAI': '05', 'JUN': '06','JUL': '07', 'AGO': '08',\n",
    "    'SET': '09', 'OUT': '10', 'NOV': '11', 'DEZ': '12'}\n",
    "\n",
    "# Function to convert date from 'FEV/2014' format to '2014-02' format\n",
    "def convert_portuguese_date(date):\n",
    "    month_abbr, year = date.split('/')\n",
    "    month_number = month_mapping[month_abbr.upper()]\n",
    "    return f'{year}-{month_number}'\n",
    "\n",
    "# Apply the function to convert dates\n",
    "df_budget_14_24['date'] = df_budget_14_24['date'].apply(convert_portuguese_date)\n",
    "\n",
    "# Convert to datetime\n",
    "df_budget_14_24['date'] = pd.to_datetime(df_budget_14_24['date'], format='%Y-%m')\n",
    "\n",
    "# Let's drop the columns that are not useful for our analysis\n",
    "df_budget_14_24.drop(columns=['budget_final', 'budget_paid'], inplace=True)\n",
    "\n",
    "# Drop observations where \"tc\" column values are \"G\". It means that the expense was unpredictable or extraordinary.\n",
    "df_budget_14_24 = df_budget_14_24[df_budget_14_24['tc'] != 'G']\n",
    "\n",
    "# Group by some columns\n",
    "df_budget_14_24 = df_budget_14_24.groupby(['date', 'funcao_descr', 'funcao', 'gnd_descr', 'gnd', 'rp_descr', 'rp'], as_index=False).agg({'budget_initial': 'sum', 'budget_commited': 'sum'})\n",
    "\n",
    "# Define a mapping dictionary to rename the columns and match the names of the two DataFrames\n",
    "column_mapping = {\n",
    "    'date': 'date', 'funcao_descr': 'function', 'funcao': 'function_code', \n",
    "    'gnd_descr': 'group','gnd': 'group_code', 'rp_descr': 'type', 'rp': 'type_code', \n",
    "    'budget_initial': 'initial_value', 'budget_commited': 'spent_value'}\n",
    "\n",
    "# Rename the columns of the DataFrame using the mapping dictionary\n",
    "df_budget_14_24.rename(columns=column_mapping, inplace=True)\n",
    "\n",
    "# Convert string values to lowercase\n",
    "df_budget_14_24['function'] = df_budget_14_24['function'].str.title()\n",
    "df_budget_14_24['group'] = df_budget_14_24['group'].str.title()\n",
    "df_budget_14_24['type'] = df_budget_14_24['type'].str.title()\n",
    "\n",
    "# Convert labels to categorical data types\n",
    "df_budget_14_24['function_code'] = df_budget_14_24['function_code'].astype(str).str.lstrip('0').astype('category')\n",
    "df_budget_14_24['group_code'] = df_budget_14_24['group_code'].astype('category')\n",
    "df_budget_14_24['type_code'] = df_budget_14_24['type_code'].astype('category')\n",
    "\n",
    "# Modify columns \"function\", \"group\", and \"type\"\n",
    "df_budget_14_24['function'] = df_budget_14_24['function_code'].astype(str) + ' - ' + df_budget_14_24['function']\n",
    "df_budget_14_24['group'] = df_budget_14_24['group_code'].astype(str) + ' - ' + df_budget_14_24['group']\n",
    "df_budget_14_24['type'] = df_budget_14_24['type_code'].astype(str) + ' - ' + df_budget_14_24['type']\n",
    "\n",
    "# Convert 'initial_value', 'spent_value' to float\n",
    "df_budget_14_24['initial_value'] = df_budget_14_24['initial_value'].astype(float)\n",
    "df_budget_14_24['spent_value'] = df_budget_14_24['spent_value'].astype(float)"
   ]
  },
  {
   "cell_type": "code",
   "execution_count": 6,
   "metadata": {},
   "outputs": [],
   "source": [
    "# Concatenate the two DataFrames\n",
    "df_budget_raw = pd.concat([df_budget_01_13, df_budget_14_24], ignore_index=True)\n",
    "\n",
    "# Convert date column to datetime\n",
    "df_budget_raw['date'] = pd.to_datetime(df_budget_raw['date'], format='%Y-%m-%d')\n"
   ]
  },
  {
   "cell_type": "code",
   "execution_count": 7,
   "metadata": {},
   "outputs": [],
   "source": [
    "# Mask the data to keep only the desired functions, groups and types\n",
    "desired_functions = ['9', '10', '12'] #Function 9 - Pension, Function 10 - Health, Function 12 - Education\n",
    "desired_groups = [1, 4, 5] # Group 1 - Personal, Group 4 - Investiments and group 5 - Financial changes\n",
    "desired_types = [1, 2, 3, 6, 7, 8, 9] # Group 1 - Personal, Group 4 - Investiments and group 5 - Financial changes\n",
    "\n",
    "# Filter by function\n",
    "df_function = df_budget_raw[df_budget_raw['function_code'].isin(desired_functions)].copy()[['date', 'function', 'function_code', 'initial_value', 'spent_value']]\n",
    "df_function.rename(columns={'function_code': 'code'}, inplace=True)\n",
    "\n",
    "# Filter by group\n",
    "df_group = df_budget_raw[df_budget_raw['group_code'].isin(desired_groups)].copy()[['date', 'group', 'group_code', 'initial_value', 'spent_value']]\n",
    "df_group.rename(columns={'group_code': 'code'}, inplace=True)\n",
    "\n",
    "# Filter by type\n",
    "df_type = df_budget_raw[df_budget_raw['type_code'].isin(desired_types)].copy()[['date', 'type', 'type_code', 'initial_value', 'spent_value']]\n",
    "df_type.rename(columns={'type_code': 'code'}, inplace=True)\n"
   ]
  },
  {
   "cell_type": "code",
   "execution_count": 8,
   "metadata": {},
   "outputs": [
    {
     "name": "stderr",
     "output_type": "stream",
     "text": [
      "C:\\Users\\augus\\AppData\\Local\\Temp\\ipykernel_30768\\2886678715.py:4: FutureWarning: The default value of numeric_only in DataFrameGroupBy.sum is deprecated. In a future version, numeric_only will default to False. Either specify numeric_only or select only columns which should be valid for the function.\n",
      "  df_step= df_function.groupby(['date', 'code']).sum().reset_index()\n"
     ]
    }
   ],
   "source": [
    "# Group df_function by date and sum the values\n",
    "df_step= df_function.groupby(['date', 'code']).sum().reset_index()\n",
    "\n",
    "# Create a new dictionary to store the filtered dataframes\n",
    "filtered_dfs = {}\n",
    "\n",
    "# Loop through the types of values to create the filtered dataframes\n",
    "for i, value in enumerate(['initial_value', 'spent_value']):\n",
    "    \n",
    "    filtered_dfs[i]  = df_step[['date', 'code', value]].copy().pivot(index='date', columns='code', values=value) # filter and pivot the dataframe and them store it in the dictionary\n",
    "    \n",
    "    for column in filtered_dfs[i].columns:\n",
    "        filtered_dfs[i].rename(columns={column: f\"BUDGET_fun_{column}_{value}\"}, inplace=True) # rename the columns to avoid confusion\n",
    "\n",
    "df_function = pd.concat(filtered_dfs.values(), axis=1) # concatenate the dataframes from the dictionary\n",
    "\n",
    "\n"
   ]
  },
  {
   "cell_type": "code",
   "execution_count": 9,
   "metadata": {},
   "outputs": [
    {
     "name": "stderr",
     "output_type": "stream",
     "text": [
      "C:\\Users\\augus\\AppData\\Local\\Temp\\ipykernel_30768\\1175113068.py:4: FutureWarning: The default value of numeric_only in DataFrameGroupBy.sum is deprecated. In a future version, numeric_only will default to False. Either specify numeric_only or select only columns which should be valid for the function.\n",
      "  df_step= df_group.groupby(['date', 'code']).sum().reset_index()\n"
     ]
    }
   ],
   "source": [
    "# Group df_group by date and sum the values\n",
    "df_step= df_group.groupby(['date', 'code']).sum().reset_index()\n",
    "\n",
    "# Create a new dictionary to store the filtered dataframes\n",
    "filtered_dfs = {}\n",
    "\n",
    "# Loop through the types of values to create the filtered dataframes\n",
    "for i, value in enumerate(['initial_value', 'spent_value']):\n",
    "    \n",
    "    filtered_dfs[i]  = df_step[['date', 'code', value]].copy().pivot(index='date', columns='code', values=value) # filter and pivot the dataframe and them store it in the dictionary\n",
    "    \n",
    "    for column in filtered_dfs[i].columns:\n",
    "        filtered_dfs[i].rename(columns={column: f\"BUDGET_group_{column}_{value}\"}, inplace=True) # rename the columns to avoid confusion\n",
    "\n",
    "# Concatenate the dataframes from the dictionary\n",
    "df_group = pd.concat(filtered_dfs.values(), axis=1)\n",
    "\n",
    "# Create new columns to store the sum of the initial values from the groups 4 and 5\n",
    "df_group['BUDGET_group_invest_initial_value'] = df_group[['BUDGET_group_4_initial_value', 'BUDGET_group_5_initial_value']].sum(axis=1)\n",
    "df_group.drop(['BUDGET_group_4_initial_value', 'BUDGET_group_5_initial_value'], axis=1, inplace=True)\n",
    "\n",
    "# Create new columns to store the sum of the spent values from the groups 4 and 5\n",
    "df_group['BUDGET_group_invest_spent_value'] = df_group[['BUDGET_group_4_spent_value', 'BUDGET_group_5_spent_value']].sum(axis=1)\n",
    "df_group.drop(['BUDGET_group_4_spent_value', 'BUDGET_group_5_spent_value'], axis=1, inplace=True)\n",
    "\n",
    "# Rename columns\n",
    "df_group.rename(columns={'BUDGET_group_1_initial_value': 'BUDGET_group_personal_initial_value',\n",
    "                        'BUDGET_group_1_spent_value': 'BUDGET_group_personal_spent_value'}, inplace=True)\n",
    "\n"
   ]
  },
  {
   "cell_type": "code",
   "execution_count": 10,
   "metadata": {},
   "outputs": [
    {
     "name": "stderr",
     "output_type": "stream",
     "text": [
      "C:\\Users\\augus\\AppData\\Local\\Temp\\ipykernel_30768\\3669022178.py:4: FutureWarning: The default value of numeric_only in DataFrameGroupBy.sum is deprecated. In a future version, numeric_only will default to False. Either specify numeric_only or select only columns which should be valid for the function.\n",
      "  df_step= df_type.groupby(['date', 'code']).sum().reset_index()\n"
     ]
    }
   ],
   "source": [
    "# Group df_type by date and sum the values\n",
    "df_step= df_type.groupby(['date', 'code']).sum().reset_index()\n",
    "\n",
    "# Create a new dictionary to store the filtered dataframes\n",
    "filtered_dfs = {}\n",
    "\n",
    "#   Loop through the types of values to create the filtered dataframes\n",
    "for i, value in enumerate(['initial_value', 'spent_value']):\n",
    "    \n",
    "    filtered_dfs[i]  = df_step[['date', 'code', value]].copy().pivot(index='date', columns='code', values=value) # filter and pivot the dataframe and them store it in the dictionary\n",
    "    \n",
    "    for column in filtered_dfs[i].columns:\n",
    "        filtered_dfs[i].rename(columns={column: f\"BUDGET_type_{column}_{value}\"}, inplace=True) # rename the columns to avoid confusion\n",
    "\n",
    "# Concatenate the dataframes from the dictionary\n",
    "df_type = pd.concat(filtered_dfs.values(), axis=1)\n",
    "\n",
    "#Let's generate new variables based on the type of RP\n",
    "# Create new columns to store the sum of the initial values from the types 6, 7, 8 and 9\n",
    "df_type['BUDGET_type_amendments_initial_value'] = df_type[['BUDGET_type_6_initial_value', 'BUDGET_type_7_initial_value', 'BUDGET_type_8_initial_value', 'BUDGET_type_9_initial_value']].sum(axis=1)\n",
    "df_type['BUDGET_type_disc_initial_value'] = df_type[['BUDGET_type_2_initial_value', 'BUDGET_type_3_initial_value']].sum(axis=1)\n",
    "df_type.drop(['BUDGET_type_6_initial_value', 'BUDGET_type_7_initial_value', 'BUDGET_type_8_initial_value', 'BUDGET_type_9_initial_value', 'BUDGET_type_2_initial_value', 'BUDGET_type_3_initial_value'], axis=1, inplace=True)\n",
    "\n",
    "# Create new columns to store the sum of the spent values from the types 6, 7, 8 and 9\n",
    "df_type['BUDGET_type_amendments_spent_value'] = df_type[['BUDGET_type_6_spent_value', 'BUDGET_type_7_spent_value', 'BUDGET_type_8_spent_value', 'BUDGET_type_9_spent_value']].sum(axis=1)\n",
    "df_type['BUDGET_type_disc_spent_value'] = df_type[['BUDGET_type_2_spent_value', 'BUDGET_type_3_spent_value']].sum(axis=1)\n",
    "df_type.drop(['BUDGET_type_6_spent_value', 'BUDGET_type_7_spent_value', 'BUDGET_type_8_spent_value', 'BUDGET_type_9_spent_value', 'BUDGET_type_2_spent_value', 'BUDGET_type_3_spent_value'], axis=1, inplace=True)\n",
    "\n",
    "# Rename columns\n",
    "df_type.rename(columns={'BUDGET_type_1_initial_value': 'BUDGET_type_mandatory_initial_value',\n",
    "                        'BUDGET_type_1_spent_value': 'BUDGET_type_mandatory_spent_value'}, inplace=True)\n",
    "\n"
   ]
  },
  {
   "cell_type": "code",
   "execution_count": 11,
   "metadata": {},
   "outputs": [],
   "source": [
    "# Concatenate the dataframes\n",
    "df_budget = pd.concat([df_function, df_group, df_type], axis=1)\n",
    "\n",
    "# Since the initial variables contains several 0 observations, they will not be useful. Let's drop it.\n",
    "columns_to_drop = [col for col in df_budget.columns if 'initial' in col]\n",
    "df_budget = df_budget.drop(columns=columns_to_drop)\n",
    "\n",
    "# Convert time index to datetime and adjust its format.\n",
    "df_budget.index = pd.to_datetime(df_budget.index, format='%Y%m%d')"
   ]
  },
  {
   "cell_type": "code",
   "execution_count": 12,
   "metadata": {},
   "outputs": [],
   "source": [
    "# # Convert the index to the desired format\n",
    "df_budget.index = df_budget.index.strftime('%Y-%m')\n",
    "\n",
    "# Adjust the index name\n",
    "df_budget.rename_axis('Date', inplace=True)\n",
    "\n",
    "# Export the dataframe to an excel file\n",
    "df_budget.to_csv('../data/df_budget.csv')\n"
   ]
  }
 ],
 "metadata": {
  "kernelspec": {
   "display_name": "Python 3",
   "language": "python",
   "name": "python3"
  },
  "language_info": {
   "codemirror_mode": {
    "name": "ipython",
    "version": 3
   },
   "file_extension": ".py",
   "mimetype": "text/x-python",
   "name": "python",
   "nbconvert_exporter": "python",
   "pygments_lexer": "ipython3",
   "version": "3.9.0"
  }
 },
 "nbformat": 4,
 "nbformat_minor": 2
}
