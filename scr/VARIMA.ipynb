{
 "cells": [
  {
   "cell_type": "markdown",
   "metadata": {},
   "source": [
    "This is a code for VARIMA model"
   ]
  },
  {
   "cell_type": "code",
   "execution_count": null,
   "metadata": {},
   "outputs": [],
   "source": []
  },
  {
   "cell_type": "code",
   "execution_count": null,
   "metadata": {},
   "outputs": [],
   "source": [
    "import pandas as pd\n",
    "from statsmodels.tsa.statespace.varmax import VARMAX\n",
    "from sklearn.model_selection import TimeSeriesSplit\n",
    "from itertools import product\n",
    "import warnings\n",
    "\n",
    "# Load your dataset\n",
    "df = pd.read_csv('BR_param_norm.csv', index_col='date', parse_dates=['date'])\n",
    "\n",
    "# Define the range of parameters to test\n",
    "p = d = q = range(0, 3)  # Example ranges, adjust based on your dataset\n",
    "P = D = Q = range(0, 2)  # Example ranges for seasonal components\n",
    "m = [12]  # Seasonal period, adjust based on your dataset\n",
    "parameters = product(p, d, q, P, D, Q, m)\n",
    "parameters_list = list(parameters)\n",
    "\n",
    "# Define the time series cross-validator\n",
    "tscv = TimeSeriesSplit(n_splits=3)\n",
    "\n",
    "# Function to run the grid search\n",
    "def run_grid_search(df, parameters_list):\n",
    "    best_aic = float('inf')\n",
    "    best_params = None\n",
    "    results = []\n",
    "    \n",
    "    for param in parameters_list:\n",
    "        try:\n",
    "            model = VARMAX(df, order=(param[0], param[1], param[2]), seasonal_order=(param[3], param[4], param[5], param[6]), enforce_stationarity=False, enforce_invertibility=False)\n",
    "            for train_index, test_index in tscv.split(df):\n",
    "                train, test = df.iloc[train_index], df.iloc[test_index]\n",
    "                model_fit = model.fit(disp=False)\n",
    "                aic = model_fit.aic\n",
    "                if aic < best_aic:\n",
    "                    best_aic = aic\n",
    "                    best_params = param\n",
    "                results.append((param, model_fit.aic))\n",
    "                print(f'Tested: {param}, AIC: {aic}')\n",
    "        except Exception as e:\n",
    "            continue\n",
    "    \n",
    "    return best_params, results\n",
    "\n",
    "# Run the grid search\n",
    "warnings.filterwarnings(\"ignore\")  # Ignore convergence warnings for demonstration\n",
    "best_params, results = run_grid_search(df, parameters_list)\n",
    "\n",
    "print(f'Best Parameters: {best_params}')"
   ]
  },
  {
   "cell_type": "code",
   "execution_count": null,
   "metadata": {},
   "outputs": [],
   "source": [
    "import pandas as pd\n",
    "from statsmodels.tsa.api import VAR\n",
    "from statsmodels.tsa.statespace.varmax import VARMAX\n",
    "from sklearn.model_selection import train_test_split\n",
    "\n",
    "# Load the dataset\n",
    "file_path = 'BR_param_norm.csv'\n",
    "df = pd.read_csv(file_path, index_col='date', parse_dates=['date'])\n",
    "\n",
    "# Ensure your data is stationary before proceeding\n",
    "\n",
    "# Split the data into train, validation, and test sets\n",
    "train_val, test = train_test_split(df, test_size=0.2, shuffle=False)\n",
    "train, validation = train_test_split(train_val, test_size=0.25, shuffle=False)  # 0.25 x 0.8 = 0.2\n",
    "\n",
    "# Model Selection: Fit a VAR model to determine optimal lag order for VARIMA\n",
    "model_var = VAR(train)\n",
    "lag_order = model_var.select_order(maxlags=12)\n",
    "print(lag_order.summary())\n",
    "\n",
    "# Assuming you've determined the best (p, d, q) and (P, D, Q, m) for your VARIMA model\n",
    "# Fit a VARIMA model\n",
    "model_varima = VARMAX(train, order=(p,d,q), seasonal_order=(P,D,Q,m), trend='c')\n",
    "results_varima = model_varima.fit(disp=False)\n",
    "\n",
    "# Display the model summary\n",
    "print(results_varima.summary())\n",
    "\n",
    "# Forecast on the validation set\n",
    "forecast = results_varima.forecast(steps=len(validation))\n",
    "\n",
    "# Evaluate the forecast (e.g., using RMSE)\n",
    "from sklearn.metrics import mean_squared_error\n",
    "from math import sqrt\n",
    "\n",
    "rmse = sqrt(mean_squared_error(validation, forecast))\n",
    "print(f'Validation RMSE: {rmse}')\n",
    "\n",
    "# Forecast on the test set using the model fitted on the combined training and validation set\n",
    "combined_train_val = pd.concat([train, validation])\n",
    "model_varima_refit = VARMAX(combined_train_val, order=(p,d,q), seasonal_order=(P,D,Q,m), trend='c').fit(disp=False)\n",
    "test_forecast = model_varima_refit.forecast(steps=len(test))\n",
    "\n",
    "# Evaluate the test forecast (e.g., using RMSE)\n",
    "test_rmse = sqrt(mean_squared_error(test, test_forecast))\n",
    "print(f'Test RMSE: {test_rmse}')"
   ]
  },
  {
   "cell_type": "code",
   "execution_count": null,
   "metadata": {
    "vscode": {
     "languageId": "plaintext"
    }
   },
   "outputs": [],
   "source": []
  }
 ],
 "metadata": {
  "language_info": {
   "name": "python"
  }
 },
 "nbformat": 4,
 "nbformat_minor": 2
}
