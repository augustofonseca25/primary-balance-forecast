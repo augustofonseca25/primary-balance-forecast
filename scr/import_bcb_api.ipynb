{
 "cells": [
  {
   "cell_type": "markdown",
   "metadata": {},
   "source": [
    "### Este é um código p[ara acessar a API do BCB\n",
    "# Fonte: https://analisemacro.com.br/economia/indicadores/coletando-dados-do-banco-central-com-python/\n",
    "\n",
    "https://wilsonfreitas.github.io/python-bcb/api.html"
   ]
  },
  {
   "cell_type": "code",
   "execution_count": 1,
   "metadata": {},
   "outputs": [],
   "source": [
    "# Import packages\n",
    "\n",
    "import pandas as pd\n",
    "\n",
    "from bcb import sgs\n",
    "from importlib import reload\n",
    "import useful_functions"
   ]
  },
  {
   "cell_type": "code",
   "execution_count": 2,
   "metadata": {},
   "outputs": [],
   "source": [
    "\n",
    "\n",
    "# Define the start date\n",
    "start_date = '2001-01-31'\n",
    "\n",
    "# Set the series to be downloaded - Source: https://www3.bcb.gov.br/sgspub/localizarseries/localizarSeries.do?method=prepararTelaLocalizarSeries\n",
    "\n",
    "\n",
    "data_series = {'RP_month':4639, # Get the primary result series - In R$ millions. Includes data from Central Government in Brazil: Federal Government + INSS + BACEN\n",
    "               'IPCA_month_433': 433, # Monthly IPCA - Brazil's official inflation index\n",
    "               'IPCA_month_13522_anual': 13522, # 12-months IPCA - Brazil's official inflation index\n",
    "               'selic':432, # Selic (basic interest rate in Brazil) rate % per year\n",
    "               'dbgg_%_pre':4537, # Gross Debt (% of GDP) - General Government (Federal, State and Municipal). Pre stands for a method used until 2007\n",
    "               'dbgg_%_pos':13762, # Gross Debt (% of GDP) - General Government (Federal, State and Municipal). Pos stands for a method used since 2008\n",
    "               'dbgg_R$_pre':4502, # Gross Debt (R$ millions) - General Government (Federal, State and Municipal). Pre stands for a method used until 2007               \n",
    "               'dbgg_R$_pos':13761, # Gross Debt (R$ millions) - General Government (Federal, State and Municipal). Pos stands for a method used since 2008\n",
    "               'dlgg_%':4536, # Net Debt (% of GDP) - General Government (Federal, State and Municipal)\n",
    "               'dlgg_R$':4501,# Net Debt (R$ millions) - General Government (Federal, State and Municipal)\n",
    "               'dlfg_%':4503, # Net Debt (% of GDP) - Federal Government + Central Bank\n",
    "               'dlfg_R$':4468, # Net Debt (R$ millions) - Federal Government + Central Bank\n",
    "               'dlspc_R$':4513, # Net Debt (%) - Federal Government + Central Bank\n",
    "               'bal_payments_US$_M':22707,# Balance on goods - Balance of Payments - monthly - net\n",
    "               'GDP_R$_12_months':4382,# \tGDP accumulated in the last 12 months - current prices (R$ million)\n",
    "               'IR_US$':3546,# \tInternational reserves (US$ million) - Monthly\n",
    "               \n",
    "               } \n",
    "\n",
    "df_raw = sgs.get(data_series, start = start_date)\n",
    "\n",
    "\n"
   ]
  },
  {
   "cell_type": "code",
   "execution_count": 3,
   "metadata": {},
   "outputs": [],
   "source": [
    "# Filter the data to get only the first day of each month\n",
    "df_raw.index = pd.to_datetime(df_raw.index)\n",
    "\n",
    "df_macro = df_raw[df_raw.index.day == 1].copy() # Create a copy of the raw data filtering only the first day of each month"
   ]
  },
  {
   "cell_type": "code",
   "execution_count": 4,
   "metadata": {},
   "outputs": [],
   "source": [
    "\n",
    "# Rename the columns\n",
    "df_macro = df_macro.rename(columns={\n",
    "    'RP_month': 'eco_fiscal_result_month',\n",
    "    'IPCA_month_433': 'eco_inflation_month',\n",
    "    'IPCA_month_13522_anual': 'eco_inflation_12months',\n",
    "    'selic': 'eco_interest_rate',\n",
    "    'dbgg_%_pre': 'eco_gross_debt_gdp_pre',\n",
    "    'dbgg_%_pos': 'eco_gross_debt_gdp_pos',\n",
    "    'dbgg_R$_pre': 'eco_gross_debt_R$_pre',\n",
    "    'dbgg_R$_pos': 'eco_gross_debt_R$_pos',\n",
    "    'dlgg_%': 'eco_net_debt_gdp_%',\n",
    "    'dlgg_R$': 'eco_net_debt_R$',\n",
    "    'dlfg_%': 'eco_net_debt_gdp_%_federal_govt',\n",
    "    'dlfg_R$': 'eco_net_debt_R$_federal_govt',\n",
    "    'bal_payments_US$_M': 'eco_balance_payments_US$_M',\n",
    "    'GDP_R$_12_months': 'eco_GDP_R$_12_months'\n",
    "})\n",
    "\n",
    "# Invert values from RP so that negative means deficit and positive means surplus\n",
    "df_macro['eco_fiscal_result_month'] = df_macro['eco_fiscal_result_month'] * -1\n",
    "\n",
    "# Compute the sum of last 12 months for each row\n",
    "df_macro['eco_fiscal_result_12months'] = df_macro['eco_fiscal_result_month'].rolling(window=12).sum()\n",
    "\n",
    "# Desired column order\n",
    "column_order = ['eco_fiscal_result_month', 'eco_fiscal_result_12months', 'eco_inflation_month', 'eco_inflation_12months', 'eco_interest_rate', 'eco_gross_debt_gdp_pre', 'eco_gross_debt_gdp_pos', 'eco_gross_debt_R$_pre', 'eco_gross_debt_R$_pos', 'eco_net_debt_gdp_%', 'eco_net_debt_R$', 'eco_net_debt_gdp_%_federal_govt', 'eco_net_debt_R$_federal_govt', 'eco_balance_payments_US$_M', 'eco_GDP_R$_12_months']\n",
    "\n",
    "# Reindex the DataFrame with the desired column order\n",
    "df_macro = df_macro.reindex(columns=column_order)\n",
    "\n"
   ]
  },
  {
   "cell_type": "code",
   "execution_count": 6,
   "metadata": {},
   "outputs": [],
   "source": [
    "# Convert the dataset to monthly frequency getting the last valid value of each month\n",
    "df_macro_monthly = useful_functions.convert_df_to_monthly(df_macro,'%Y-%m-%d')\n",
    "# Export the dataset\n",
    "df_macro_monthly.to_csv('../data/df_macroeco.csv', index=True)\n"
   ]
  }
 ],
 "metadata": {
  "kernelspec": {
   "display_name": "Python 3",
   "language": "python",
   "name": "python3"
  },
  "language_info": {
   "codemirror_mode": {
    "name": "ipython",
    "version": 3
   },
   "file_extension": ".py",
   "mimetype": "text/x-python",
   "name": "python",
   "nbconvert_exporter": "python",
   "pygments_lexer": "ipython3",
   "version": "3.9.0"
  }
 },
 "nbformat": 4,
 "nbformat_minor": 2
}
