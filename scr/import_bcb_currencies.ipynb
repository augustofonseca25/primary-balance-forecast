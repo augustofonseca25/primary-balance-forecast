{
 "cells": [
  {
   "cell_type": "markdown",
   "metadata": {},
   "source": [
    "### Este é um código p[ara acessar a API do BCB\n"
   ]
  },
  {
   "cell_type": "code",
   "execution_count": 72,
   "metadata": {},
   "outputs": [],
   "source": [
    "# Import packages\n",
    "\n",
    "import pandas as pd\n",
    "from bcb import currency\n",
    "from datetime import datetime\n",
    "from useful_functions import *\n"
   ]
  },
  {
   "cell_type": "code",
   "execution_count": 73,
   "metadata": {},
   "outputs": [],
   "source": [
    "# Define currencies and date range\n",
    "\n",
    "currencies = ['USD', 'EUR', 'CNY']\n",
    "\n",
    "# Get the current date\n",
    "current_date = pd.to_datetime('today').date()\n",
    "\n",
    "# Find the last weekday\n",
    "last_weekday = current_date - pd.tseries.offsets.BDay()\n",
    "last_weekday_formatted = last_weekday.strftime('%Y-%m-%d')\n",
    "\n",
    "# Define the start date - yyyy/mm/dd\n",
    "start_date = '2000-01-01'\n"
   ]
  },
  {
   "cell_type": "code",
   "execution_count": 74,
   "metadata": {},
   "outputs": [],
   "source": [
    "# Get the data\n",
    "df_currencies_raw = currency.get(currencies, start = start_date, end = last_weekday_formatted)\n"
   ]
  },
  {
   "cell_type": "code",
   "execution_count": 75,
   "metadata": {},
   "outputs": [],
   "source": [
    "# Create a copy of the DataFrame\n",
    "df_currencies = df_currencies_raw.copy()\n",
    "\n",
    "# Adjust index date format\n",
    "df_currencies = adjust_index_date_format(df_currencies)\n",
    "\n",
    "# Adjust the index name\n",
    "df_currencies.rename_axis('Time', inplace=True)\n",
    "\n",
    "# Save the DataFrame to an Excel file\n",
    "df_currencies.to_csv('../data/df_currencies.csv', index=True)\n",
    "\n"
   ]
  }
 ],
 "metadata": {
  "kernelspec": {
   "display_name": "Python 3",
   "language": "python",
   "name": "python3"
  },
  "language_info": {
   "codemirror_mode": {
    "name": "ipython",
    "version": 3
   },
   "file_extension": ".py",
   "mimetype": "text/x-python",
   "name": "python",
   "nbconvert_exporter": "python",
   "pygments_lexer": "ipython3",
   "version": "3.12.0"
  }
 },
 "nbformat": 4,
 "nbformat_minor": 2
}
