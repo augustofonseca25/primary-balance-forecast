{
 "cells": [
  {
   "cell_type": "markdown",
   "metadata": {},
   "source": [
    "### This code is used to access Brazilian Central Bank API and get the exchange rate of USD/EUR/CNY to BRL\n"
   ]
  },
  {
   "cell_type": "code",
   "execution_count": 1,
   "metadata": {},
   "outputs": [],
   "source": [
    "# Import packages\n",
    "\n",
    "import pandas as pd\n",
    "from bcb import currency\n",
    "import useful_functions as uf\n"
   ]
  },
  {
   "cell_type": "code",
   "execution_count": 2,
   "metadata": {},
   "outputs": [],
   "source": [
    "# Define currencies and date range\n",
    "currencies = ['USD', 'EUR', 'CNY']\n",
    "\n",
    "# Get the current date\n",
    "current_date = pd.to_datetime('today').date()\n",
    "\n",
    "# Find the last weekday\n",
    "last_weekday = current_date - pd.tseries.offsets.BDay()\n",
    "last_weekday_formatted = last_weekday.strftime('%Y-%m-%d')\n",
    "\n",
    "# Define the start date - yyyy/mm/dd\n",
    "start_date = '2001-01-01'\n"
   ]
  },
  {
   "cell_type": "code",
   "execution_count": 3,
   "metadata": {},
   "outputs": [],
   "source": [
    "# Get the data\n",
    "df_currencies_raw = currency.get(currencies, start = start_date, end = last_weekday_formatted)\n"
   ]
  },
  {
   "cell_type": "code",
   "execution_count": 7,
   "metadata": {},
   "outputs": [],
   "source": [
    "# Create a copy of the DataFrame\n",
    "df_currencies = df_currencies_raw.copy()\n",
    "\n",
    "# Convert the dataset to monthly frequency getting the last valid value of each month\n",
    "df_currencies_monthly = uf.convert_df_to_monthly(df_currencies,'%Y-%m-%d')\n",
    "\n",
    "# Rename the columns\n",
    "df_currencies_monthly.columns = ['WD_USD','WD_EUR','WD_CNY']\n"
   ]
  },
  {
   "cell_type": "code",
   "execution_count": 9,
   "metadata": {},
   "outputs": [],
   "source": [
    "# Adjust the index name\n",
    "df_currencies_monthly.rename_axis('Date', inplace=True)\n",
    "\n",
    "# Save the DataFrame to an Excel file\n",
    "df_currencies_monthly.to_csv('../data/df_currencies.csv', index=True)"
   ]
  }
 ],
 "metadata": {
  "kernelspec": {
   "display_name": "Python 3",
   "language": "python",
   "name": "python3"
  },
  "language_info": {
   "codemirror_mode": {
    "name": "ipython",
    "version": 3
   },
   "file_extension": ".py",
   "mimetype": "text/x-python",
   "name": "python",
   "nbconvert_exporter": "python",
   "pygments_lexer": "ipython3",
   "version": "3.9.0"
  }
 },
 "nbformat": 4,
 "nbformat_minor": 2
}
