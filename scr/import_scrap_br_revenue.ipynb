{
 "cells": [
  {
   "cell_type": "markdown",
   "metadata": {},
   "source": [
    "Code to import revenue data from Brazilian governments\n",
    "Source: \"https://www.gov.br/receitafederal/pt-br/centrais-de-conteudo/publicacoes/relatorios/arrecadacao-federal\""
   ]
  },
  {
   "cell_type": "code",
   "execution_count": 1,
   "metadata": {},
   "outputs": [],
   "source": [
    "# Importing the required libraries\n",
    "import requests\n",
    "from bs4 import BeautifulSoup\n",
    "import os\n",
    "import PyPDF2\n",
    "import re\n",
    "import csv\n",
    "import tabula"
   ]
  },
  {
   "cell_type": "code",
   "execution_count": 126,
   "metadata": {},
   "outputs": [],
   "source": [
    "# Define the target url\n",
    "url = \"https://www.gov.br/receitafederal/pt-br/centrais-de-conteudo/publicacoes/relatorios/arrecadacao-federal\"\n",
    "\n",
    "# Check if the target url is reachable\n",
    "response = requests.get(url)\n",
    "# Define the parser for the response\n",
    "soup = BeautifulSoup(response.text, \"html.parser\")\n",
    "# Check the url to get all yearly links\n",
    "year_links = soup.find_all(lambda tag: tag.name == \"a\" and tag.get(\"class\") == [\"govbr-card-content\"] and tag.get(\"href\") is not None)\n",
    "# subset yearly links to get only data from 2023 to 2001\n",
    "year_links = year_links[1:24]\n",
    "\n",
    "\n"
   ]
  },
  {
   "cell_type": "code",
   "execution_count": null,
   "metadata": {},
   "outputs": [],
   "source": [
    "# Let's get the links for the monthly reports\n",
    "report_links = []\n",
    "# Loop through the yearly links\n",
    "for year_link in year_links:\n",
    "    year = year_link.text.strip()  #Get the year\n",
    "    year_url = year_link[\"href\"]   #Get the url\n",
    "\n",
    "    # Check if the target url is reachable\n",
    "    response_year = requests.get(year_url)\n",
    "    soup_year = BeautifulSoup(response_year.text, \"html.parser\")\n",
    "\n",
    "    # Get the links for the monthly reports in the first page\n",
    "    report_links += soup_year.find_all(lambda tag: tag.name == \"a\" and tag.get(\"class\") == [\"state-missing-value\"] and tag.get(\"href\") is not None)\n",
    "    #Check if there is a second page\n",
    "    try:\n",
    "        second_page_check = soup_year.find('ul', class_='paginacao listingBar').find('a', text='2')\n",
    "        if second_page_check: # if there is a second page\n",
    "            second_page_url = second_page_check['href'] #get the url\n",
    "            response_year = requests.get(second_page_url) #get the response\n",
    "            soup_year = BeautifulSoup(response_year.text, \"html.parser\") #parse the response\n",
    "            report_links += soup_year.find_all(lambda tag: tag.name == \"a\" and tag.get(\"class\") == [\"state-missing-value\"] and tag.get(\"href\") is not None) #get the links\n",
    "    except:\n",
    "        pass\n",
    "    \n",
    "    # Create a directory for each year\n",
    "    output_dir = f\"../data/downloads_revenue/{year}\"\n",
    "    os.makedirs(output_dir, exist_ok=True)"
   ]
  },
  {
   "cell_type": "code",
   "execution_count": null,
   "metadata": {},
   "outputs": [],
   "source": [
    "# Define a function to download the PDFs or excel files for each link\n",
    "def download_pdf(link):\n",
    "    # Check if the link is reachable\n",
    "    response = requests.get(link)\n",
    "    # Define the parser for the response\n",
    "    soup = BeautifulSoup(response.text, \"html.parser\")\n",
    "    # Find the link for the PDF or excel file\n",
    "    pdf_link = soup.find(\"div\", id=\"content-core\").find(\"a\")[\"href\"]\n",
    "    # Get the name of the PDF or excel file\n",
    "    pdf_name = soup.find(\"div\", id=\"content-core\").find(\"a\").text.strip()\n",
    "    # Split the URL by \"/\" to get a list of its components and find the index of \"arrecadacao-federal\" in the list\n",
    "    arrecadacao_federal_index = link.split(\"/\").index(\"arrecadacao-federal\")\n",
    "    # Get the year from the next component after \"arrecadacao-federal\"\n",
    "    pdf_year = link.split(\"/\")[arrecadacao_federal_index + 1]\n",
    "    # Define the file path\n",
    "    output_dir = f\"../data/downloads/{pdf_year}/\"\n",
    "    # create the complete file name\n",
    "    pdf_path = os.path.join(output_dir, pdf_name)\n",
    "    # Check if the file already exists\n",
    "    if not os.path.exists(pdf_path):\n",
    "        with open(pdf_path, \"wb\") as f:\n",
    "            #Download the PDF and save it to the file\n",
    "            f.write(requests.get(pdf_link).content)\n",
    "\n",
    "\n",
    "# Itera sobre os links dos relatorios\n",
    "for report_link in report_links:\n",
    "    month_url = report_link[\"href\"]    # Get the url for the month\n",
    "    download_pdf(month_url)"
   ]
  }
 ],
 "metadata": {
  "kernelspec": {
   "display_name": "env_new",
   "language": "python",
   "name": "python3"
  },
  "language_info": {
   "codemirror_mode": {
    "name": "ipython",
    "version": 3
   },
   "file_extension": ".py",
   "mimetype": "text/x-python",
   "name": "python",
   "nbconvert_exporter": "python",
   "pygments_lexer": "ipython3",
   "version": "3.9.0"
  }
 },
 "nbformat": 4,
 "nbformat_minor": 2
}
